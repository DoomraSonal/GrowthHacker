{
 "cells": [
  {
   "cell_type": "code",
   "execution_count": 7,
   "metadata": {},
   "outputs": [
    {
     "ename": "FileNotFoundError",
     "evalue": "File b'/Users/Chris/Downloads/all \\x02/train_v2.csv' does not exist",
     "output_type": "error",
     "traceback": [
      "\u001b[0;31m---------------------------------------------------------------------------\u001b[0m",
      "\u001b[0;31mFileNotFoundError\u001b[0m                         Traceback (most recent call last)",
      "\u001b[0;32m<ipython-input-7-39769521295d>\u001b[0m in \u001b[0;36m<module>\u001b[0;34m()\u001b[0m\n\u001b[1;32m     21\u001b[0m \u001b[0;34m\u001b[0m\u001b[0m\n\u001b[1;32m     22\u001b[0m \u001b[0;34m\u001b[0m\u001b[0m\n\u001b[0;32m---> 23\u001b[0;31m \u001b[0mdf_small\u001b[0m \u001b[0;34m=\u001b[0m \u001b[0mload_df\u001b[0m\u001b[0;34m(\u001b[0m\u001b[0mnrows\u001b[0m\u001b[0;34m=\u001b[0m\u001b[0;36m1000\u001b[0m\u001b[0;34m)\u001b[0m\u001b[0;34m\u001b[0m\u001b[0m\n\u001b[0m",
      "\u001b[0;32m<ipython-input-7-39769521295d>\u001b[0m in \u001b[0;36mload_df\u001b[0;34m(csv_path, nrows)\u001b[0m\n\u001b[1;32m     11\u001b[0m                      \u001b[0mconverters\u001b[0m\u001b[0;34m=\u001b[0m\u001b[0;34m{\u001b[0m\u001b[0mcolumn\u001b[0m\u001b[0;34m:\u001b[0m \u001b[0mjson\u001b[0m\u001b[0;34m.\u001b[0m\u001b[0mloads\u001b[0m \u001b[0;32mfor\u001b[0m \u001b[0mcolumn\u001b[0m \u001b[0;32min\u001b[0m \u001b[0mJSON_COLUMNS\u001b[0m\u001b[0;34m}\u001b[0m\u001b[0;34m,\u001b[0m\u001b[0;34m\u001b[0m\u001b[0m\n\u001b[1;32m     12\u001b[0m                      \u001b[0mdtype\u001b[0m\u001b[0;34m=\u001b[0m\u001b[0;34m{\u001b[0m\u001b[0;34m'fullVisitorId'\u001b[0m\u001b[0;34m:\u001b[0m \u001b[0;34m'str'\u001b[0m\u001b[0;34m}\u001b[0m\u001b[0;34m,\u001b[0m \u001b[0;31m# Important!!\u001b[0m\u001b[0;34m\u001b[0m\u001b[0m\n\u001b[0;32m---> 13\u001b[0;31m                      nrows=nrows)\n\u001b[0m\u001b[1;32m     14\u001b[0m \u001b[0;34m\u001b[0m\u001b[0m\n\u001b[1;32m     15\u001b[0m     \u001b[0;32mfor\u001b[0m \u001b[0mcolumn\u001b[0m \u001b[0;32min\u001b[0m \u001b[0mJSON_COLUMNS\u001b[0m\u001b[0;34m:\u001b[0m\u001b[0;34m\u001b[0m\u001b[0m\n",
      "\u001b[0;32m~/anaconda3/lib/python3.7/site-packages/pandas/io/parsers.py\u001b[0m in \u001b[0;36mparser_f\u001b[0;34m(filepath_or_buffer, sep, delimiter, header, names, index_col, usecols, squeeze, prefix, mangle_dupe_cols, dtype, engine, converters, true_values, false_values, skipinitialspace, skiprows, nrows, na_values, keep_default_na, na_filter, verbose, skip_blank_lines, parse_dates, infer_datetime_format, keep_date_col, date_parser, dayfirst, iterator, chunksize, compression, thousands, decimal, lineterminator, quotechar, quoting, escapechar, comment, encoding, dialect, tupleize_cols, error_bad_lines, warn_bad_lines, skipfooter, doublequote, delim_whitespace, low_memory, memory_map, float_precision)\u001b[0m\n\u001b[1;32m    676\u001b[0m                     skip_blank_lines=skip_blank_lines)\n\u001b[1;32m    677\u001b[0m \u001b[0;34m\u001b[0m\u001b[0m\n\u001b[0;32m--> 678\u001b[0;31m         \u001b[0;32mreturn\u001b[0m \u001b[0m_read\u001b[0m\u001b[0;34m(\u001b[0m\u001b[0mfilepath_or_buffer\u001b[0m\u001b[0;34m,\u001b[0m \u001b[0mkwds\u001b[0m\u001b[0;34m)\u001b[0m\u001b[0;34m\u001b[0m\u001b[0m\n\u001b[0m\u001b[1;32m    679\u001b[0m \u001b[0;34m\u001b[0m\u001b[0m\n\u001b[1;32m    680\u001b[0m     \u001b[0mparser_f\u001b[0m\u001b[0;34m.\u001b[0m\u001b[0m__name__\u001b[0m \u001b[0;34m=\u001b[0m \u001b[0mname\u001b[0m\u001b[0;34m\u001b[0m\u001b[0m\n",
      "\u001b[0;32m~/anaconda3/lib/python3.7/site-packages/pandas/io/parsers.py\u001b[0m in \u001b[0;36m_read\u001b[0;34m(filepath_or_buffer, kwds)\u001b[0m\n\u001b[1;32m    438\u001b[0m \u001b[0;34m\u001b[0m\u001b[0m\n\u001b[1;32m    439\u001b[0m     \u001b[0;31m# Create the parser.\u001b[0m\u001b[0;34m\u001b[0m\u001b[0;34m\u001b[0m\u001b[0m\n\u001b[0;32m--> 440\u001b[0;31m     \u001b[0mparser\u001b[0m \u001b[0;34m=\u001b[0m \u001b[0mTextFileReader\u001b[0m\u001b[0;34m(\u001b[0m\u001b[0mfilepath_or_buffer\u001b[0m\u001b[0;34m,\u001b[0m \u001b[0;34m**\u001b[0m\u001b[0mkwds\u001b[0m\u001b[0;34m)\u001b[0m\u001b[0;34m\u001b[0m\u001b[0m\n\u001b[0m\u001b[1;32m    441\u001b[0m \u001b[0;34m\u001b[0m\u001b[0m\n\u001b[1;32m    442\u001b[0m     \u001b[0;32mif\u001b[0m \u001b[0mchunksize\u001b[0m \u001b[0;32mor\u001b[0m \u001b[0miterator\u001b[0m\u001b[0;34m:\u001b[0m\u001b[0;34m\u001b[0m\u001b[0m\n",
      "\u001b[0;32m~/anaconda3/lib/python3.7/site-packages/pandas/io/parsers.py\u001b[0m in \u001b[0;36m__init__\u001b[0;34m(self, f, engine, **kwds)\u001b[0m\n\u001b[1;32m    785\u001b[0m             \u001b[0mself\u001b[0m\u001b[0;34m.\u001b[0m\u001b[0moptions\u001b[0m\u001b[0;34m[\u001b[0m\u001b[0;34m'has_index_names'\u001b[0m\u001b[0;34m]\u001b[0m \u001b[0;34m=\u001b[0m \u001b[0mkwds\u001b[0m\u001b[0;34m[\u001b[0m\u001b[0;34m'has_index_names'\u001b[0m\u001b[0;34m]\u001b[0m\u001b[0;34m\u001b[0m\u001b[0m\n\u001b[1;32m    786\u001b[0m \u001b[0;34m\u001b[0m\u001b[0m\n\u001b[0;32m--> 787\u001b[0;31m         \u001b[0mself\u001b[0m\u001b[0;34m.\u001b[0m\u001b[0m_make_engine\u001b[0m\u001b[0;34m(\u001b[0m\u001b[0mself\u001b[0m\u001b[0;34m.\u001b[0m\u001b[0mengine\u001b[0m\u001b[0;34m)\u001b[0m\u001b[0;34m\u001b[0m\u001b[0m\n\u001b[0m\u001b[1;32m    788\u001b[0m \u001b[0;34m\u001b[0m\u001b[0m\n\u001b[1;32m    789\u001b[0m     \u001b[0;32mdef\u001b[0m \u001b[0mclose\u001b[0m\u001b[0;34m(\u001b[0m\u001b[0mself\u001b[0m\u001b[0;34m)\u001b[0m\u001b[0;34m:\u001b[0m\u001b[0;34m\u001b[0m\u001b[0m\n",
      "\u001b[0;32m~/anaconda3/lib/python3.7/site-packages/pandas/io/parsers.py\u001b[0m in \u001b[0;36m_make_engine\u001b[0;34m(self, engine)\u001b[0m\n\u001b[1;32m   1012\u001b[0m     \u001b[0;32mdef\u001b[0m \u001b[0m_make_engine\u001b[0m\u001b[0;34m(\u001b[0m\u001b[0mself\u001b[0m\u001b[0;34m,\u001b[0m \u001b[0mengine\u001b[0m\u001b[0;34m=\u001b[0m\u001b[0;34m'c'\u001b[0m\u001b[0;34m)\u001b[0m\u001b[0;34m:\u001b[0m\u001b[0;34m\u001b[0m\u001b[0m\n\u001b[1;32m   1013\u001b[0m         \u001b[0;32mif\u001b[0m \u001b[0mengine\u001b[0m \u001b[0;34m==\u001b[0m \u001b[0;34m'c'\u001b[0m\u001b[0;34m:\u001b[0m\u001b[0;34m\u001b[0m\u001b[0m\n\u001b[0;32m-> 1014\u001b[0;31m             \u001b[0mself\u001b[0m\u001b[0;34m.\u001b[0m\u001b[0m_engine\u001b[0m \u001b[0;34m=\u001b[0m \u001b[0mCParserWrapper\u001b[0m\u001b[0;34m(\u001b[0m\u001b[0mself\u001b[0m\u001b[0;34m.\u001b[0m\u001b[0mf\u001b[0m\u001b[0;34m,\u001b[0m \u001b[0;34m**\u001b[0m\u001b[0mself\u001b[0m\u001b[0;34m.\u001b[0m\u001b[0moptions\u001b[0m\u001b[0;34m)\u001b[0m\u001b[0;34m\u001b[0m\u001b[0m\n\u001b[0m\u001b[1;32m   1015\u001b[0m         \u001b[0;32melse\u001b[0m\u001b[0;34m:\u001b[0m\u001b[0;34m\u001b[0m\u001b[0m\n\u001b[1;32m   1016\u001b[0m             \u001b[0;32mif\u001b[0m \u001b[0mengine\u001b[0m \u001b[0;34m==\u001b[0m \u001b[0;34m'python'\u001b[0m\u001b[0;34m:\u001b[0m\u001b[0;34m\u001b[0m\u001b[0m\n",
      "\u001b[0;32m~/anaconda3/lib/python3.7/site-packages/pandas/io/parsers.py\u001b[0m in \u001b[0;36m__init__\u001b[0;34m(self, src, **kwds)\u001b[0m\n\u001b[1;32m   1706\u001b[0m         \u001b[0mkwds\u001b[0m\u001b[0;34m[\u001b[0m\u001b[0;34m'usecols'\u001b[0m\u001b[0;34m]\u001b[0m \u001b[0;34m=\u001b[0m \u001b[0mself\u001b[0m\u001b[0;34m.\u001b[0m\u001b[0musecols\u001b[0m\u001b[0;34m\u001b[0m\u001b[0m\n\u001b[1;32m   1707\u001b[0m \u001b[0;34m\u001b[0m\u001b[0m\n\u001b[0;32m-> 1708\u001b[0;31m         \u001b[0mself\u001b[0m\u001b[0;34m.\u001b[0m\u001b[0m_reader\u001b[0m \u001b[0;34m=\u001b[0m \u001b[0mparsers\u001b[0m\u001b[0;34m.\u001b[0m\u001b[0mTextReader\u001b[0m\u001b[0;34m(\u001b[0m\u001b[0msrc\u001b[0m\u001b[0;34m,\u001b[0m \u001b[0;34m**\u001b[0m\u001b[0mkwds\u001b[0m\u001b[0;34m)\u001b[0m\u001b[0;34m\u001b[0m\u001b[0m\n\u001b[0m\u001b[1;32m   1709\u001b[0m \u001b[0;34m\u001b[0m\u001b[0m\n\u001b[1;32m   1710\u001b[0m         \u001b[0mpassed_names\u001b[0m \u001b[0;34m=\u001b[0m \u001b[0mself\u001b[0m\u001b[0;34m.\u001b[0m\u001b[0mnames\u001b[0m \u001b[0;32mis\u001b[0m \u001b[0;32mNone\u001b[0m\u001b[0;34m\u001b[0m\u001b[0m\n",
      "\u001b[0;32mpandas/_libs/parsers.pyx\u001b[0m in \u001b[0;36mpandas._libs.parsers.TextReader.__cinit__\u001b[0;34m()\u001b[0m\n",
      "\u001b[0;32mpandas/_libs/parsers.pyx\u001b[0m in \u001b[0;36mpandas._libs.parsers.TextReader._setup_parser_source\u001b[0;34m()\u001b[0m\n",
      "\u001b[0;31mFileNotFoundError\u001b[0m: File b'/Users/Chris/Downloads/all \\x02/train_v2.csv' does not exist"
     ]
    }
   ],
   "source": [
    "import os\n",
    "import json\n",
    "import numpy as np\n",
    "import pandas as pd\n",
    "from pandas.io.json import json_normalize\n",
    "\n",
    "def load_df(csv_path='~/Downloads/all \\2/train.csv', nrows=None):\n",
    "    JSON_COLUMNS = ['device', 'geoNetwork', 'totals', 'trafficSource']\n",
    "    \n",
    "    df = pd.read_csv(csv_path, \n",
    "                     converters={column: json.loads for column in JSON_COLUMNS}, \n",
    "                     dtype={'fullVisitorId': 'str'}, # Important!!\n",
    "                     nrows=nrows)\n",
    "    \n",
    "    for column in JSON_COLUMNS:\n",
    "        column_as_df = json_normalize(df[column])\n",
    "        column_as_df.columns = [f\"{column}.{subcolumn}\" for subcolumn in column_as_df.columns]\n",
    "        df = df.drop(column, axis=1).merge(column_as_df, right_index=True, left_index=True)\n",
    "    print(f\"Loaded {os.path.basename(csv_path)}. Shape: {df.shape}\")\n",
    "    return df\n",
    "\n",
    "\n",
    "df_small = load_df(nrows=1000)\n"
   ]
  },
  {
   "cell_type": "code",
   "execution_count": null,
   "metadata": {},
   "outputs": [],
   "source": [
    "df_small.columns"
   ]
  },
  {
   "cell_type": "code",
   "execution_count": null,
   "metadata": {},
   "outputs": [],
   "source": [
    "#creating new df with just the column I need and dropping old to save RAM\n",
    "print(df_small['trafficSource.campaign'].unique())\n",
    "print(900000 - len(df_small[df_small['trafficSource.campaign'] == \"(not set)\"]))"
   ]
  },
  {
   "cell_type": "markdown",
   "metadata": {},
   "source": [
    "From the first 100,000 lines of the CSV, we only have 5426 rows that contain a campaign\n",
    "\n",
    "**Ideas:**\n",
    "Do a number of random samples and get the average"
   ]
  },
  {
   "cell_type": "code",
   "execution_count": 4,
   "metadata": {},
   "outputs": [
    {
     "name": "stdout",
     "output_type": "stream",
     "text": [
      "channelGrouping: 8\n",
      "customDimensions: 6\n",
      "date: 328\n",
      "fullVisitorId: 738367\n",
      "hits: 730514\n",
      "socialEngagementType: 1\n",
      "visitId: 874919\n",
      "visitNumber: 393\n",
      "visitStartTime: 875300\n",
      "device.browser: 82\n",
      "device.browserSize: 1\n",
      "device.browserVersion: 1\n",
      "device.deviceCategory: 3\n",
      "device.flashVersion: 1\n",
      "device.isMobile: 2\n",
      "device.language: 1\n",
      "device.mobileDeviceBranding: 1\n",
      "device.mobileDeviceInfo: 1\n",
      "device.mobileDeviceMarketingName: 1\n",
      "device.mobileDeviceModel: 1\n",
      "device.mobileInputSelector: 1\n",
      "device.operatingSystem: 24\n",
      "device.operatingSystemVersion: 1\n",
      "device.screenColors: 1\n",
      "device.screenResolution: 1\n",
      "geoNetwork.city: 771\n",
      "geoNetwork.cityId: 1\n",
      "geoNetwork.continent: 6\n",
      "geoNetwork.country: 222\n",
      "geoNetwork.latitude: 1\n",
      "geoNetwork.longitude: 1\n",
      "geoNetwork.metro: 107\n",
      "geoNetwork.networkDomain: 29571\n",
      "geoNetwork.networkLocation: 1\n",
      "geoNetwork.region: 434\n",
      "geoNetwork.subContinent: 23\n",
      "totals.bounces: 1\n",
      "totals.hits: 251\n",
      "totals.newVisits: 1\n",
      "totals.pageviews: 195\n",
      "totals.sessionQualityDim: 100\n",
      "totals.timeOnSite: 4101\n",
      "totals.totalTransactionRevenue: 5361\n",
      "totals.transactionRevenue: 4594\n",
      "totals.transactions: 8\n",
      "totals.visits: 1\n",
      "trafficSource.adContent: 74\n",
      "trafficSource.adwordsClickInfo.adNetworkType: 3\n",
      "trafficSource.adwordsClickInfo.criteriaParameters: 1\n",
      "trafficSource.adwordsClickInfo.gclId: 32009\n",
      "trafficSource.adwordsClickInfo.isVideoAd: 1\n",
      "trafficSource.adwordsClickInfo.page: 10\n",
      "trafficSource.adwordsClickInfo.slot: 3\n",
      "trafficSource.campaign: 32\n",
      "trafficSource.campaignCode: 1\n",
      "trafficSource.isTrueDirect: 1\n",
      "trafficSource.keyword: 2660\n",
      "trafficSource.medium: 7\n",
      "trafficSource.referralPath: 2464\n",
      "trafficSource.source: 286\n"
     ]
    }
   ],
   "source": [
    "ones = []\n",
    "\n",
    "for each in df_small.columns:\n",
    "    print(str(each) + ': ' + str(df_small[each].nunique()))\n",
    "    if df_small[each].nunique() == 1:\n",
    "        ones.append(each)"
   ]
  },
  {
   "cell_type": "code",
   "execution_count": null,
   "metadata": {},
   "outputs": [],
   "source": []
  },
  {
   "cell_type": "code",
   "execution_count": 5,
   "metadata": {},
   "outputs": [
    {
     "name": "stdout",
     "output_type": "stream",
     "text": [
      "socialEngagementType\n",
      "['Not Socially Engaged']\n",
      "\n",
      "\n",
      "device.browserSize\n",
      "['not available in demo dataset']\n",
      "\n",
      "\n",
      "device.browserVersion\n",
      "['not available in demo dataset']\n",
      "\n",
      "\n",
      "device.flashVersion\n",
      "['not available in demo dataset']\n",
      "\n",
      "\n",
      "device.language\n",
      "['not available in demo dataset']\n",
      "\n",
      "\n",
      "device.mobileDeviceBranding\n",
      "['not available in demo dataset']\n",
      "\n",
      "\n",
      "device.mobileDeviceInfo\n",
      "['not available in demo dataset']\n",
      "\n",
      "\n",
      "device.mobileDeviceMarketingName\n",
      "['not available in demo dataset']\n",
      "\n",
      "\n",
      "device.mobileDeviceModel\n",
      "['not available in demo dataset']\n",
      "\n",
      "\n",
      "device.mobileInputSelector\n",
      "['not available in demo dataset']\n",
      "\n",
      "\n",
      "device.operatingSystemVersion\n",
      "['not available in demo dataset']\n",
      "\n",
      "\n",
      "device.screenColors\n",
      "['not available in demo dataset']\n",
      "\n",
      "\n",
      "device.screenResolution\n",
      "['not available in demo dataset']\n",
      "\n",
      "\n",
      "geoNetwork.cityId\n",
      "['not available in demo dataset']\n",
      "\n",
      "\n",
      "geoNetwork.latitude\n",
      "['not available in demo dataset']\n",
      "\n",
      "\n",
      "geoNetwork.longitude\n",
      "['not available in demo dataset']\n",
      "\n",
      "\n",
      "geoNetwork.networkLocation\n",
      "['not available in demo dataset']\n",
      "\n",
      "\n",
      "totals.bounces\n",
      "['1' nan]\n",
      "\n",
      "\n",
      "totals.newVisits\n",
      "['1' nan]\n",
      "\n",
      "\n",
      "totals.visits\n",
      "['1']\n",
      "\n",
      "\n",
      "trafficSource.adwordsClickInfo.criteriaParameters\n",
      "['not available in demo dataset']\n",
      "\n",
      "\n",
      "trafficSource.adwordsClickInfo.isVideoAd\n",
      "[nan False]\n",
      "\n",
      "\n",
      "trafficSource.campaignCode\n",
      "[nan '11251kjhkvahf']\n",
      "\n",
      "\n",
      "trafficSource.isTrueDirect\n",
      "[nan True]\n",
      "\n",
      "\n"
     ]
    }
   ],
   "source": [
    "for each in ones:\n",
    "    print(str(each))\n",
    "    print(df_small[each].unique())\n",
    "    print('\\n')"
   ]
  },
  {
   "cell_type": "markdown",
   "metadata": {},
   "source": [
    "### Remove these columns from the data \n",
    "\n",
    "* device.browserSize\n",
    "* device.browserVersion\n",
    "* device.flashVersion\n",
    "* device.language\n",
    "* device.mobileDeviceBranding\n",
    "* device.mobileDeviceInfo\n",
    "* device.mobileDeviceMarketingName\n",
    "* device.mobileDeviceModel\n",
    "* device.mobileInputSelector\n",
    "* device.operatingSystemVersion\n",
    "* device.screenColors\n",
    "* device.screenResolution\n",
    "* geoNetwork.cityId\n",
    "* geoNetwork.latitude\n",
    "* geoNetwork.longitude\n",
    "* geoNetwork.networkLocation\n"
   ]
  },
  {
   "cell_type": "markdown",
   "metadata": {},
   "source": [
    "# Looking into the keywords"
   ]
  },
  {
   "cell_type": "code",
   "execution_count": 31,
   "metadata": {},
   "outputs": [],
   "source": [
    "phrases = []\n",
    "keywords = df_small['trafficSource.keyword'].dropna()\n",
    "for each in keywords:\n",
    "    if each != '(not provided)':\n",
    "        phrases.append(each)"
   ]
  },
  {
   "cell_type": "code",
   "execution_count": 34,
   "metadata": {},
   "outputs": [
    {
     "name": "stdout",
     "output_type": "stream",
     "text": [
      "43343\n"
     ]
    }
   ],
   "source": [
    "print(len(phrases))"
   ]
  },
  {
   "cell_type": "code",
   "execution_count": 35,
   "metadata": {},
   "outputs": [
    {
     "name": "stdout",
     "output_type": "stream",
     "text": [
      "['water bottle', '(Remarketing/Content targeting)', '6qEhsCssdK0z36ri', '(automatic matching)', 'Google men', '1hZbAqLCbjwfgOH7', '6qEhsCssdK0z36ri', '6qEhsCssdK0z36ri', '6qEhsCssdK0z36ri', '6qEhsCssdK0z36ri', '(Remarketing/Content targeting)', '1X4Me6ZKNV0zg-jV', '6qEhsCssdK0z36ri', '(Remarketing/Content targeting)', '1hZbAqLCbjwfgOH7', '6qEhsCssdK0z36ri', '1hZbAqLCbjwfgOH7', '6qEhsCssdK0z36ri', 'google online merchandise', 'google water bottle', '1hZbAqLCbjwfgOH7', '6qEhsCssdK0z36ri', '6qEhsCssdK0z36ri', '(User vertical targeting)', '1X4Me6ZKNV0zg-jV', '6qEhsCssdK0z36ri', '6qEhsCssdK0z36ri', '(automatic matching)', 'google company store', '(automatic matching)', '(Remarketing/Content targeting)', '(Remarketing/Content targeting)', '6qEhsCssdK0z36ri', '(Remarketing/Content targeting)', '(automatic matching)', '6qEhsCssdK0z36ri', '6qEhsCssdK0z36ri', 'https://www.googlemerchandisestore.com/', '6qEhsCssdK0z36ri', '6qEhsCssdK0z36ri', '(Remarketing/Content targeting)', '6qEhsCssdK0z36ri', '6qEhsCssdK0z36ri', '1hZbAqLCbjwfgOH7', '1hZbAqLCbjwfgOH7', '6qEhsCssdK0z36ri', '6qEhsCssdK0z36ri', '(automatic matching)', 'letterman jacket ebay', '(User vertical targeting)', '(User vertical targeting)', '(User vertical targeting)', '(User vertical targeting)', '(automatic matching)', '(User vertical targeting)', '(User vertical targeting)', '(User vertical targeting)', '(User vertical targeting)', '(automatic matching)', '(automatic matching)', 'google canada', '(User vertical targeting)', '(User vertical targeting)', '(automatic matching)', '(User vertical targeting)', '(automatic matching)', '(User vertical targeting)', 'Google where is gabika clothing', '(automatic matching)', '(User vertical targeting)', '(User vertical targeting)', '(User vertical targeting)', '6qEhsCssdK0z36ri', '(User vertical targeting)', '(User vertical targeting)', '(User vertical targeting)', '(User vertical targeting)', '(User vertical targeting)', '(automatic matching)', '(automatic matching)', '(User vertical targeting)', '(automatic matching)', '(User vertical targeting)', '(User vertical targeting)', '(User vertical targeting)', '(automatic matching)', '(User vertical targeting)', '(Remarketing/Content targeting)', '(User vertical targeting)', '(User vertical targeting)', '(User vertical targeting)', '(User vertical targeting)', '6qEhsCssdK0z36ri', 'google online shops', '(User vertical targeting)', '(User vertical targeting)', '(User vertical targeting)', '(User vertical targeting)', '6qEhsCssdK0z36ri', 'google Merchandising kosten']\n"
     ]
    }
   ],
   "source": [
    "print(phrases[:100])"
   ]
  },
  {
   "cell_type": "markdown",
   "metadata": {},
   "source": [
    "From looking at 900,000 data points, the training data only contains keywords in 43,343 keywords inputs."
   ]
  },
  {
   "cell_type": "code",
   "execution_count": 36,
   "metadata": {},
   "outputs": [
    {
     "name": "stdout",
     "output_type": "stream",
     "text": [
      "95912\n"
     ]
    }
   ],
   "source": [
    "words = \" \". join(phrases)\n",
    "words = words.split(' ')\n",
    "print(len(words))"
   ]
  },
  {
   "cell_type": "markdown",
   "metadata": {},
   "source": [
    "Separating the phrases into distinct words there are 95,912 words total."
   ]
  },
  {
   "cell_type": "code",
   "execution_count": 38,
   "metadata": {},
   "outputs": [],
   "source": [
    "word_counts = {}\n",
    "for each in words:\n",
    "    if each not in word_counts:\n",
    "        word_counts[each] = 1\n",
    "    else:\n",
    "        word_counts[each] += 1"
   ]
  },
  {
   "cell_type": "code",
   "execution_count": 42,
   "metadata": {},
   "outputs": [
    {
     "name": "stdout",
     "output_type": "stream",
     "text": [
      "[('targeting)', 16664), ('(User', 13600), ('vertical', 13600), ('(automatic', 8715), ('matching)', 8715), ('6qEhsCssdK0z36ri', 5670), ('google', 3609), ('(Remarketing/Content', 3045), ('store', 2588), ('merchandise', 1902), ('1hZbAqLCbjwfgOH7', 1434), ('Google', 1258), ('Merchandise', 1076), ('youtube', 934), ('+google', 651), ('1X4Me6ZKNV0zg-jV', 581), ('shirt', 490), ('t', 441), ('+store', 412), ('+Google', 381), ('DoubleClick', 343), ('Ad', 343), ('Exchange', 343), ('shop', 302), ('merch', 275), ('online', 242), ('+Merchandise', 231), ('+merchandise', 189), ('tube', 183), ('you', 179), ('YouTube', 172), ('https://goto.google.com/a/google.com?continue=https://goto.google.com/tyctwd-shirts', 163), ('https://www.googlemerchandisestore.com/', 145), ('+stores', 142), ('shirts', 127), ('Youtube', 122), ('buy', 119), ('tshirt', 97), ('+Products', 85), ('Store', 76), ('android', 75), ('+Swag', 72), ('for', 67), ('india', 65), ('lava', 65), ('on', 60), ('bag', 59), ('71817', 59), ('+merch', 59), ('t-shirt', 57), ('to', 57), ('logo', 57), ('stickers', 51), ('clothing', 49), ('stores', 49), ('www', 48), ('shopping', 48), ('free', 44), ('lamp', 43), ('in', 41), ('+YouTube', 41), ('You', 39), ('how', 38), ('hoodie', 38), ('sticker', 35), ('water', 33), ('backpack', 33), ('get', 32), ('apparel', 32), ('uk', 30), ('›', 30), ('bottle', 29), ('tee', 29), ('+backpack', 28), ('bags', 28), ('com', 27), ('cap', 27), ('shopgoogle', 26), ('+youtube', 26), ('jacket', 25), ('tshirts', 25), ('official', 25), ('lamps', 24), ('with', 24), ('usa', 23), ('Online', 22), ('youtuber', 22), ('men', 21), ('pen', 21), ('price', 21), ('&', 21), ('Apparel', 20), ('electronics', 20), ('clothes', 19), ('a', 19), ('googlestore', 19), ('category_l1==166', 19), ('Arts', 19), ('Entertainment', 19), ('(content', 19), ('https://www.googlemerchandisestore.com/shop.axd/Home', 18), ('developer', 18), ('of', 18), ('sale', 18), ('accessories', 18), ('t-shirts', 17), ('www.google', 17), ('mug', 17), ('T', 17), ('u', 17), ('+accessories', 17), ('hat', 17), ('shops', 16), ('mens', 16), ('+google+tshirts', 16), ('and', 16), ('google商店官网', 16), ('brand', 16), ('store.com', 15), ('shart', 15), ('Gear', 15), ('e', 15), ('us', 15), ('YOUTUBE', 15), ('https://www.googlemerchandisestore.com', 15), ('where', 14), ('www.google.com', 14), ('merchandising', 14), ('merchandize', 14), ('nest', 14), ('black', 14), ('kids', 14), ('printed', 14), ('sunglasses', 14), ('chrome', 13), ('swag', 13), ('gift', 13), ('+shop', 13), ('laptop', 13), ('yutube', 13), ('view', 13), ('the', 12), ('from', 12), ('gaming', 12), ('united', 11), ('states', 11), ('play', 11), ('youtub', 11), ('canada', 10), ('Shopping', 10), ('Casual', 10), ('T-Shirts', 10), ('+Gear', 10), ('red', 10), ('women', 10), ('GOOGLE', 10), ('notebook', 10), ('man', 10), ('phone', 10), ('goggle', 10), ('mountain', 10), ('company', 9), ('utube', 9), ('youtubers', 9), ('items', 9), ('YOU', 9), ('web', 9), ('by', 9), ('i', 9), ('category_l1==222', 9), ('yotube', 9), ('is', 8), ('office', 8), ('googlemerchandisestore', 8), ('gear', 8), ('cycle', 8), ('white', 8), ('branded', 8), ('TUBE', 8), ('be', 8), ('headphones', 8), ('website', 8), ('gogle', 8), ('https://www.googlemerchandisestore.com/Google+Redesign/Accessories/Stickers/', 8), ('category_l1==*', 8), ('short', 8), ('yu', 8), ('notebooks', 8), ('flashlight', 8), ('T-shirt', 8), ('merchendise', 8), ('https://www.googlemerchandisestore.com/Google+Redesign/New+2015+Logo/Malibu+Sunglasses.axd', 8), ('baby', 8), ('yuo', 7), ('stylus', 7), ('-', 7), ('https://www.googlemerchandisestore.com/Google+Redesign/New+2015+Logo/RoxBox+Mini+Twist+Bluetooth+Speaker.axd?cid=1340', 7), ('gadgets', 7), ('australia', 7), ('Shop', 7), ('yo', 7), ('+water', 7), ('+bottle', 7), ('italia', 7), ('io', 7), ('card', 7), ('zip', 7), ('deutschland', 7), ('full', 7), ('sleeve', 7), ('made', 7), ('+mug', 7), ('cheap', 7), ('fun', 7), ('gifts', 7), ('headphone', 7), ('kit', 7), ('googles', 7), ('https://goto.google.com/tyctwd-shirts', 7), ('.com', 6), ('merchant', 6), ('backpacks', 6), ('s', 6), ('indonesia', 6), ('tu', 6), ('yotub', 6), ('https://www.googlemerchandisestore.com/shop.axd/Search?keywords=ingress', 6), ('+usa', 6), ('tees', 6), ('order', 6), ('baseball', 6), ('y', 6), ('home', 6), ('tupe', 6), ('app', 6), ('tobe', 6), ('goole', 6), ('youtyube', 6), ('STORE', 6), ('dubai', 6), ('do', 6), ('gadget', 6), ('Hat', 6), ('yourube', 6), ('yputube', 5), ('youtubeshop', 5), ('mugs', 5), ('youtubr', 5), ('googleplex', 5), ('polo', 5), ('bottles', 5), ('stor', 5), ('bike', 5), ('waterproof', 5), ('mexico', 5), ('tude', 5), ('giant', 5), ('Tシャツ', 5), ('does', 5), ('decal', 5), (\"women's\", 5), ('https://goo.gl/NzNQhY', 5), ('+products', 5), ('sign', 5), ('yout', 5), ('youtune', 5), ('mouse', 5), ('+bags', 5), ('youtue', 5), ('what', 5), ('green', 5), ('malaysia', 5), ('youtu', 5), ('can', 5), ('keyboard', 5), ('zipper', 5), ('caps', 5), ('account', 5), (\"men's\", 5), ('product', 5), ('youtuve', 5), ('youtubw', 5), ('power', 5), ('bank', 5), ('youtoube', 5), ('goodies', 5), ('vest', 5), ('products', 5), ('+', 4), ('tybe', 4), ('tou', 4), ('large', 4), ('I', 4), ('+apparel', 4), ('+shops', 4), ('Googlestore', 4), ('sweatshirt', 4), ('https://www.googlemerchandisestore.com/Google+Redesign/Brands/Android/Android+Ladies+3D+Hoodie.axd?cid=1025', 4), ('MERCHANDISE', 4), ('login', 4), ('line', 4), ('vintage', 4), ('yootube', 4), ('https://goto.google.com/a/google.com?continue=https://goto.google.com/googleswag', 4), ('your', 4), ('youtbe', 4), ('cup', 4), ('it', 4), ('谷歌store', 4), ('4', 4), ('go', 4), ('up', 4), ('youttube', 4), ('bean', 4), ('cloth', 4), ('site', 4), ('electronic', 4), ('Com', 4), ('womens', 4), ('Tube', 4), ('tub', 4), ('pad', 4), ('youte', 4), ('youtubwe', 4), ('Android', 4), ('+mugs', 4), ('Buy', 4), ('yuoutube', 4), ('youtubew', 4), ('youtobe', 4), ('youtubee', 4), ('board', 4), ('ube', 4), ('shoping', 4), ('yutobe', 4), ('tshart', 4), ('purchase', 4), ('wwgoogle', 4), ('powerbank', 4), ('yooutube', 4), ('business', 4), ('amazon', 4), ('jackets', 4), ('youutube', 4), ('developers', 4), ('+at', 4), ('Bag', 4), ('thermostat', 4), ('check', 4), ('out', 4), ('googl', 4), ('long', 4), ('la', 4), ('stiker', 4), ('+buy', 4), ('+from', 4), ('Merchandising', 3), ('souvenirs', 3), ('hood', 3), ('googlemerch', 3), ('yourtube', 3), ('youtibe', 3), ('california', 3), ('youtueb', 3), ('tahirt', 3), ('ballpoint', 3), ('hoodies', 3), ('boys', 3), ('back', 3), ('yuotub', 3), ('Mountain', 3), ('View,', 3), ('CA', 3), ('Googlekick', 3), ('luggage', 3), ('tag', 3), ('custom', 3), ('bag-google.com', 3), ('writing', 3), ('googleshop', 3), ('shop.google', 3), ('youtuba', 3), ('youtubne', 3), ('paraphernalia', 3), ('sirt', 3), ('buying', 3), ('partner', 3), ('+coffee', 3), ('beeg', 3), ('Google.', 3), ('at', 3), ('youtubbe', 3), ('googlee', 3), ('that', 3), ('u5sQvJGpOsPeJ3pi', 3), ('Shirts', 3), ('car', 3), ('wireless', 3), ('url', 3), ('youth', 3), ('youtob', 3), ('cotton', 3), ('are', 3), ('www.', 3), ('los', 3), ('angeles', 3), ('number', 3), ('yt', 3), ('toub', 3), ('youtubd', 3), ('8', 3), ('https://www.theverge.com/2018/1/19/16911408/vr-chat-virtual-reality-seizure', 3), ('tubbe', 3), ('bd', 3), ('headgear', 3), ('storr', 3), ('yuotube', 3), ('gray', 3), ('andriod', 3), ('www.googlestore.com', 3), ('goods', 3), ('Home', 3), ('googlemerchandise', 3), ('campus', 3), ('uoutube', 3), ('video', 3), ('youtubo', 3), ('99', 3), ('tsirt', 3), ('g', 3), ('new', 3), ('googke', 3), ('merhadiestore', 3), ('googale', 3), ('floor', 3), ('who', 3), ('youtube.ocm', 3), ('my', 3), ('doodle', 3), ('fashion', 3), ('print', 3), ('googal', 3), ('onesies', 3), ('about', 3), ('googly', 3), ('tishart', 3), ('bangladesh', 3), ('Gogle', 3), ('youotube', 3), ('Baseball', 3), ('googler', 3), ('Merch', 3), ('ebay', 2), ('pink', 2), ('player', 2), ('cool', 2), ('merchandice', 2), ('youttub', 2), ('toobe', 2), ('earphones', 2), ('customize', 2), ('different', 2), ('blue', 2), ('LED', 2), ('0', 2), ('sotre', 2), ('head', 2), ('unspeakable', 2), ('ютуб', 2), ('googlemerchandisestore.com', 2), ('online.com', 2), ('Jackets', 2), ('USA', 2), ('packs', 2), ('original', 2), ('oyutube', 2), ('outerwear', 2), ('googls', 2), ('www.gool', 2), ('outdoor', 2), ('yotu', 2), ('fleece', 2), ('yot', 2), ('youtubu', 2), ('+tshirt', 2), ('which', 2), ('written', 2), ('samsung', 2), ('https://www.googlemerchandisestore.com/Google+Redesign/Brands/Google/Google+Mountain+Bottle.axd?cid=939', 2), ('channel', 2), ('make', 2), ('यूट्यूब', 2), ('स्टोर', 2), ('waze', 2), ('ca', 2), ('pack', 2), ('youto', 2), ('goolg', 2), ('tubw', 2), ('YouTuber', 2), ('YOuTube', 2), ('merfhandise', 2), ('googledevelopers', 2), ('yutbe', 2), ('youyubr', 2), ('Yotup', 2), ('singapore', 2), ('marchidise', 2), ('ki', 2), ('yoytube', 2), ('work', 2), ('san', 2), ('francisco', 2), ('local', 2), ('close', 2), ('stylish', 2), ('youtuybe', 2), ('toutube', 2), ('yube', 2), ('youtubve', 2), ('mercandise', 2), ('グーグル', 2), ('bicycle', 2), ('golang', 2), ('Eso', 2), ('note', 2), ('book', 2), ('light', 2), ('youtuhe', 2), ('indian', 2), ('https://www.google.com/appserve/mkt/p/AIQrb_5cngQDe4PEUVdciEyadam3Z5o3dxpMjtAmopGdO70QTDrZMFudMfYyjWeclFelhvWHoOeS_mupoa9Qd3XjXz-5VWj9wxKxTeRjEwN_1oVoCNnBVjFbgDFjjU9tvXfk375kZUAAT_QMEvXiFUGN3A', 2), ('tri', 2), ('headquarters', 2), ('graphic', 2), ('guide', 2), ('yoiutube', 2), ('youtgube', 2), ('youyub', 2), ('youtun', 2), ('brasil', 2), ('yub', 2), ('pic', 2), ('Www', 2), ('style', 2), ('chair', 2), ('mathmos', 2), ('im', 2), ('keeps', 2), ('cold', 2), ('boosie', 2), ('pouch', 2), ('shope', 2), ('address', 2), ('open', 2), ('jutube', 2), ('+the', 2), ('hats', 2), ('stuff', 2), ('yutuben', 2), ('españa', 2), ('tumbler', 2), ('raglan', 2), ('dot', 2), ('totes', 2), ('gooles', 2), ('now', 2), ('yuutube', 2), ('tue', 2), ('find', 2), ('o', 2), ('bagpacks', 2), ('youtuop', 2), ('yiutube', 2), ('T-Shirt', 2), ('goovle', 2), ('ztore', 2), ('zdillog', 2), ('koszulki', 2), ('+pets', 2), ('Googlestore.com', 2), ('ireland', 2), ('hello', 2), ('tobu', 2), ('yougube', 2), ('girls', 2), ('+sunglasses', 2), ('we', 2), ('3rd', 2), ('generation', 2), ('youtve', 2), ('youitube', 2), ('yptube', 2), ('brands', 2), ('Yotub', 2), ('https://goto.google.com/a/google.com?continue=https://goto.google.com/onlinestore', 2), ('trucker', 2), ('sydney', 2), ('http://bit.ly/2aJJCCP', 2), ('will', 2), ('?', 2), ('extended', 2), ('yoou', 2), ('Logo', 2), ('youytube', 2), ('youybe', 2), ('ti', 2), ('logos', 2), ('yuotup', 2), ('youtb', 2), ('mat', 2), ('picture', 2), ('argos', 2), ('de', 2), ('zipup', 2), ('pictures', 2), ('+pet', 2), ('outube', 2), ('sweater', 2), ('cards', 2), ('cycling', 2), ('design', 2), ('cloud', 2), ('t.shirt', 2), ('+tote', 2), ('+glassware', 2), ('kid', 2), ('youu', 2), ('Www.google', 2), ('v', 2), ('neck', 2), ('T-shirts', 2), ('yotubu', 2), ('tishrt', 2), ('yuotobe', 2), ('youtubede', 2), ('fr', 2), ('have', 2), ('store?', 2), ('google.store', 2), ('शर्ट', 2), ('fi', 2), ('Shirt', 2), ('accesories', 2), ('India', 2), ('merchandisestore.com', 2), ('runofnetwork::100', 2), ('yutubbe', 2), ('shrt', 2), ('wear', 2), ('electonic', 2), ('youtup', 2), ('want', 2), ('https', 2), ('mean', 2), ('automatic', 2), ('learning', 2), ('Yt', 2), ('broadcast', 2), ('yourself', 2), ('jersey', 2), ('youtubep', 2), ('googlr', 2), ('marchandise', 2), ('beanie', 2), ('Stores', 2), ('youtube.de', 2), ('youtoobe', 2), ('7dog', 2), ('yountube', 2), ('Googl', 2), ('yyoutube', 2), ('yoitube', 2), ('infant', 2), ('mercendise', 2), ('How', 2), ('youtber', 2), ('youy', 2), ('youthbe', 2), ('youtuge', 2), ('travel', 2), ('hk', 2), ('yotutube', 2), ('+official', 2), ('tyub', 2), ('glasses', 2), ('tuve', 2), ('utbe', 2), ('yotubee', 2), ('hours', 2), ('yootu', 2), ('category_l1==922', 2), ('heand', 2), ('youtude', 2), ('tote', 2), ('в', 2), ('souvenir', 2), ('+kit', 2), ('laptops', 2), ('googlemen', 2), ('security', 2), ('camera', 2), ('youutbe', 2), ('يوتيوب', 2), ('gooogle', 2), ('pullover', 2), ('maps', 2), ('fan', 2), ('education', 2), ('sharts', 2), ('chest', 2), ('goog', 2), ('t-shart', 2), ('excusive', 2), ('backbags', 2), ('www.googl', 2), ('chandail', 2), ('boutique', 2), ('googleflashlight', 2), ('sweat', 2), ('Street', 2), ('male', 2), ('lunch', 2), ('bluetooth', 2), ('https://www.googlemerchandisestore.com/Google+Redesign/Brands/Android/Android+Porcelain+Mug.axd?cid=939', 2), ('windbreaker', 2), ('sell', 2), ('inventory', 2), ('letterman', 1), ('gabika', 1), ('kosten', 1), ('merchdise', 1), ('tope', 1), ('googel', 1), ('south', 1), ('africa', 1), ('big', 1), ('employee', 1), ('waterbottle', 1), ('yoputube', 1), ('tuber', 1), ('nightscape', 1), ('ylutube', 1), ('youteb', 1), ('=$6_*//*_', 1), ('3x', 1), ('sourcing', 1), ('coca', 1), ('cola', 1), ('Clear', 1), ('pics', 1), ('types', 1), ('diary', 1), ('merchqndise', 1), ('Samsung', 1), ('65\"', 1), ('Class', 1), ('(64.5\"', 1), ('Diag.)', 1), ('Curved', 1), ('2160p', 1), ('Smart', 1), ('4K', 1), ('Ultra', 1), ('HD', 1), ('TV', 1), ('High', 1), ('Dynamic', 1), ('Range', 1), ('Model:', 1), ('UN65MU8500FXZASKU:', 1), ('5773708', 1), ('www.Google/', 1), ('germany', 1), ('googlem', 1), ('ютцуб', 1), ('www.you', 1), ('tube.be', 1), ('กูเกิ้ง', 1), ('ยูทุป', 1), ('http://shop.googlemerchandiserstore.com/', 1), ('hq', 1), ('s5icker', 1), ('wwwwgogol', 1), ('gogoel', 1), ('gooole', 1), ('todu', 1), ('merchanise', 1), ('shop.googlemerchandise.com', 1), ('https://goo.gl/1jv9r3', 1), ('buisness', 1), ('dublin', 1), ('шоп', 1), ('Varsity', 1), ('Gmail.com', 1), ('bois', 1), ('raymona', 1), ('mr', 1), ('what.can', 1), ('write', 1), ('family?', 1), ('fyoutube', 1), ('exsesorys', 1), ('yuotuybe', 1), ('lupa', 1), ('يوتتوب', 1), ('google_n', 1), ('drink', 1), ('yoyitbe', 1), ('pet', 1), ('feeding', 1), ('suka', 1), ('www.google.combiju', 1), ('ka', 1), ('toodlee', 1), ('mechanidise', 1), ('cam', 1), ('grey', 1), ('tore', 1), ('googlexxxt', 1), ('staore', 1), ('yutubr', 1), ('\"youtube\"', 1), ('sis', 1), ('youtbre', 1), ('support', 1), ('https://www.googlemerchandisestore.com/Google+Redesign/Wearables/Women+s+T-Shirts/Ladies+Classic+V-Neck+T-Shirt.axd', 1), ('meechantise', 1), ('www.how', 1), ('whaite', 1), ('download', 1), ('precious', 1), ('cargo', 1), ('cars', 1), ('window', 1), ('cling', 1), ('fanish', 1), ('googpe', 1), ('youtuv', 1), ('BBCSP', 1), ('OR', 1), ('loja', 1), ('stones', 1), ('gogglemerchendise', 1), ('co', 1), ('youtuob', 1), ('युतुब', 1), ('आनलाइन', 1), ('link', 1), ('www.YuyTub.stor.com', 1), ('noveraproduct/onlineshop.com', 1), ('earn', 1), ('merchnadise', 1), ('+men', 1), ('+jackets', 1), ('tall', 1), ('Men', 1), ('firebase', 1), ('ypurube', 1), ('yoyu', 1), ('sk', 1), ('WWW.GOOGLE', 1), ('spingball', 1), ('tshrt', 1), ('AOID', 1), ('www.googly.com', 1), ('greece', 1), ('Googl.e.www.com.baf', 1), ('Laptop', 1), ('Cell', 1), ('Phone', 1), ('Stickers', 1), ('hosel', 1), ('nanpur', 1), ('market', 1), ('sohe', 1), ('hangouts', 1), ('https://store.google.com', 1), ('nederland', 1), ('guides', 1), ('wwwgougle', 1), ('lather', 1), ('+google.com', 1), ('yuube', 1), ('Goglesyoutube', 1), ('yyoutubr', 1), ('koleksi', 1), ('di', 1), ('rumah', 1), ('ayakan', 1), ('wonogiri', 1), ('www.googlemerchandisestore', 1), ('tlote', 1), ('2ysIRLovuNNetSjq', 1), ('www.Goodlg.Bag.Com', 1), ('рюкзак', 1), ('soter', 1), ('tshrit', 1), ('LINE', 1), ('Goigle', 1), ('thuruth.com', 1), ('play.googgle.com/store/', 1), ('18', 1), ('google-youtube', 1), ('or', 1), ('googi', 1), ('england', 1), ('ship', 1), ('apo?', 1), ('pens', 1), ('ypytub', 1), ('thube', 1), ('youtub3', 1), ('hyouutbe', 1), ('yotutube.com', 1), ('googoe', 1), ('foogle', 1), ('merchamfise', 1), ('mod', 1), ('merchaindise', 1), ('merchand', 1), ('diginext', 1), ('shit', 1), ('Jira', 1), ('awesome', 1), ('pirate', 1), ('category_l1==536', 1), ('fanware', 1), ('clause', 1), ('goolde', 1), ('prys', 1), ('+backpacks', 1), (\"+men's\", 1), ('+jacket', 1), ('been', 1), ('gym', 1), ('offic', 1), ('youtunr', 1), ('youtrube', 1), ('oy', 1), ('yooutubbe', 1), ('youyu', 1), ('yoututbe', 1), ('yutubey', 1), ('zivotinjski', 1), ('sbjet', 1), ('arktika', 1), ('WATR', 1), ('BOTL', 1), ('HAI', 1), ('KAWALTI', 1), ('W', 1), ('Stylus', 1), ('Pen', 1), ('w/', 1), ('Light', 1), ('tubi', 1), ('foot', 1), ('offices', 1), ('goofle', 1), ('yotue', 1), ('youtonbe', 1), ('16', 1), ('25', 1), ('fold', 1), ('+apperal', 1), ('doosle', 1), ('Ютуб', 1), ('Сторе', 1), ('YOUtube', 1), ('watermelon', 1), ('रेड', 1), ('टुब', 1), ('tubeo', 1), ('tsgirt', 1), ('youurbe', 1), ('YUTUB', 1), ('FILME', 1), ('ONLINE', 1), ('XXXL', 1), ('yutubu', 1), ('corl', 1), ('Google.sihllog.tee', 1), ('.CLOTH.COM', 1), ('C&A', 1), ('mascolina', 1), ('desenho', 1), ('atras', 1), ('tishirt', 1), ('going', 1), ('smartphone', 1), ('neue', 1), ('googlebags.in', 1), ('cheapest', 1), ('mammos', 1), ('violet/red', 1), ('ideas', 1), ('yutub', 1), ('yotjbe', 1), ('yobe', 1), ('tuvbe', 1), ('paly', 1), ('shrits', 1), ('Merchandaise', 1), ('Google,', 1), ('shirts.com', 1), ('hyderabad', 1), ('rrat', 1), ('www.gogel.de', 1), ('ggogle', 1), ('goglee', 1), ('google/ur45', 1), ('merchendi', 1), ('sestore', 1), ('crhome', 1), ('ytube', 1), ('attire', 1), ('yiouutbe', 1), ('tuybe', 1), ('-site:youtube.com', 1), ('youtubeo', 1), ('haritage', 1), ('factury', 1), ('Bangladeshi', 1), ('teeo', 1), ('99.', 1), ('Cnm', 1), ('wakazapost', 1), ('tishet', 1), ('магазины', 1), ('от', 1), ('neo', 1), ('96547565', 1), ('tracking', 1), ('pls', 1), ('search', 1), ('insulated', 1), ('handheld', 1), ('nesting', 1), ('shirs', 1), ('youyuve', 1), ('customer', 1), ('service', 1), ('oprahistoryhttps://m.youtube.com', 1), ('conm', 1), ('gogle.', 1), ('drinkware', 1), ('Yutu', 1), ('yotup', 1), ('yotubre', 1), ('gwt', 1), ('firevade', 1), ('side', 1), ('win', 1), ('www.co.uk', 1), ('Shap', 1), ('figure', 1), ('turquoise', 1), ('tu8be', 1), ('en', 1), ('half', 1), ('Hoff', 1), ('sirts', 1), ('google,', 1), ('belfry', 1), ('wiomw', 1), ('Seattle', 1), ('polo.shirtay.google.com', 1), ('infuse', 1), ('basket', 1), ('b', 1), ('store.sg', 1), ('youtbue', 1), ('youtouop', 1), ('yuuutbe', 1), ('yourubw', 1), ('Anastasia', 1), ('Sotro', 1), ('lekha', 1), ('36', 1), ('inch', 1), ('https://www.googlemerchandisestore.com/Google+Redesign/Accessories/', 1), ('much', 1), ('cost', 1), ('gòogle', 1), ('Plus', 1), ('goohgle', 1), ('Spain', 1), ('everyone', 1), ('Martina', 1), ('wake', 1), ('বৈশাখী', 1), ('স্টিকার', 1), ('disine', 1), ('yhbe', 1), ('hyoutube', 1), ('yutobbe', 1), ('tuble', 1), ('luxury', 1), ('gtoogle', 1), ('Male', 1), ('mustributer', 1), ('shop.goohle', 1), ('+mens', 1), ('The', 1), ('googlehoodies', 1), ('lerchande', 1), ('aus', 1), ('set', 1), ('seekrz', 1), ('standlate', 1), ('Snop', 1), ('Dgfan', 1), ('Digital', 1), ('Recorder', 1), ('page', 1), ('R39', 1), ('ses', 1), ('flat', 1), ('top', 1), ('there', 1), ('tob', 1), ('youtubei', 1), ('www.powernank', 1), ('elotronics.com', 1), ('youtebu', 1), ('tienda', 1), ('https://www.googlemerchandisestore.com/Google+Redesign/Accessories/Drinkware/Clear+Water+Bottle.axd?page_no=2', 1), ('youtupe', 1), ('Teeshirts/google', 1), ('female', 1), ('outside', 1), ('map', 1), ('os', 1), ('andro', 1), ('yoiu', 1), ('tyoutuhe', 1), ('edu', 1), ('Bicycle', 1), ('FamilySearch', 1), ('Sale', 1), ('cart', 1), ('youtgbe', 1), ('On', 1), ('SOP', 1), ('gaagle', 1), ('ytobe', 1), ('yputbe', 1), ('own', 1), ('chanel', 1), ('name', 1), ('Mens', 1), ('rucksack', 1), ('allo', 1), ('dress', 1), ('orders', 1), ('nose', 1), ('kart', 1), ('balm', 1), ('america', 1), ('youtyue', 1), ('merch\\\\', 1), ('yıutube', 1), ('cloths', 1), ('thareral', 1), ('youtuvb', 1), ('yoyutube', 1), ('tebe', 1), ('tuv', 1), ('youm', 1), ('tubne', 1), ('shop.on', 1), ('fitness', 1), ('youttubel', 1), ('Redesign', 1), ('Amazone', 1), ('sungless', 1), ('storee', 1), ('iotub', 1), ('tyoutub', 1), ('youyrube', 1), ('yutupyoutube', 1), ('hyutube', 1), ('এর', 1), ('পূর্নরুপ', 1), ('Fyoutube', 1), ('woman', 1), ('bearing', 1), ('.Com.Google.', 1), ('flame', 1), ('dexati', 1), (\"Men's\", 1), ('Googels', 1), ('sweatershirt', 1), ('sverige', 1), ('utuber', 1), ('pagina', 1), ('accesoris', 1), ('MAN', 1), ('marchendise', 1), ('fhaunder', 1), ('hoo', 1), ('youbube', 1), ('tuob', 1), ('cyoutube', 1), ('shipping', 1), ('look', 1), ('yputub', 1), ('outbe', 1), ('緑谷出久', 1), ('爆豪勝己', 1), ('lighted', 1), ('wwwgoogledotcom', 1), ('atore', 1), ('YeuTbe', 1), ('con', 1), ('kmart', 1), ('wearing', 1), ('пщщпду', 1), ('youtubev', 1), ('youtybe', 1), ('Jutub', 1), ('ytoutube', 1), ('tabe', 1), ('yotbe', 1), ('tiube', 1), ('estiker', 1), ('1', 1), ('oz', 1), ('hand', 1), ('sanitizer', 1), ('miceneo', 1), ('campera', 1), ('hong', 1), ('kong', 1), ('houtube', 1), ('ira', 1), ('jacke', 1), ('merchandie', 1), ('advertising', 1), ('gloogle', 1), ('jual', 1), ('supplies', 1), ('www.shopgoogle.com', 1), ('Developers', 1), ('imasnal', 1), ('nanaya', 1), ('food', 1), ('fruits', 1), ('谷歌在线商城', 1), ('review', 1), ('yoube', 1), ('customized', 1), ('books,', 1), ('shirts,', 1), ('card,', 1), ('cap,etx', 1), ('sotere', 1), ('tuop', 1), ('yutiub', 1), ('tubr', 1), ('youtubbr', 1), ('www.googles.com', 1), ('freebies', 1), ('구글', 1), ('yoga', 1), ('technologic', 1), ('hoyoutube', 1), ('Wwwgoogle.sopping', 1), ('Mechandise', 1), ('coats', 1), ('ladies', 1), ('nanday', 1), ('conure', 1), ('store官网', 1), ('pipe', 1), ('镜像', 1), ('play.fr', 1), ('yoturbe', 1), ('uyube', 1), ('Utub', 1), ('youteube', 1), ('cell', 1), ('ㅛ', 1), ('ㅐ', 1), ('ㅕ', 1), ('셔', 1), ('ㅠㄷ', 1), ('채', 1), ('ㅡ', 1), ('flacee', 1), ('socks', 1), ('them', 1), ('AppAREL', 1), ('sulation', 1), ('utubr', 1), ('you.Tobe', 1), ('youtabe', 1), ('micro', 1), ('earphone', 1), ('moisture', 1), ('wicking', 1), ('plugged', 1), ('toddler', 1), ('enblem', 1), ('metric', 1), ('på', 1), ('shert', 1), ('का', 1), ('साईज', 1), ('S', 1), ('M', 1), ('XL', 1), ('L', 1), ('artikel', 1), ('Deutschland', 1), ('messenger', 1), ('earbud', 1), ('rume', 1), ('project', 1), ('Printed', 1), ('Youtub', 1), ('yoyuube', 1), ('Tshirts', 1), ('toube', 1), ('googgle', 1), ('cor', 1), ('tshirta', 1), ('yuetube', 1), ('\"waterproof', 1), ('backpack\"', 1), ('ou', 1), ('rryoutube', 1), ('youtujbe', 1), ('youty', 1), ('ball', 1), ('Journals', 1), ('jaket', 1), ('dev', 1), ('wax', 1), ('www.google.comw', 1), ('computer', 1), ('+women', 1), ('rtube', 1), ('youtubea', 1), ('shurts', 1), ('andr', 1), ('tisharts', 1), ('Nice', 1), ('Google-branded', 1), ('Bluetooth', 1), ('Headphones', 1), ('Www,gogel', 1), ('onlay,com', 1), ('storre', 1), ('onlanie', 1), ('no', 1), ('necesito', 1), ('charlie', 1), ('brown', 1), ('googlestore官网', 1), ('+Chrome', 1), ('mwdt0udhmjxd.t', 1), ('Doa', 1), ('Kasumi', 1), ('youb', 1), ('lime', 1), ('gholgla', 1), ('GOOGIEBALCKPQRN', 1), ('αυτοκολλητα', 1), ('για', 1), ('λαπτοπ', 1), ('amricàñs', 1), ('urban', 1), ('peak', 1), ('headwear', 1), ('24', 1), ('yotubbe', 1), ('.', 1), ('hooded', 1), ('WWW', 1), ('GogglE', 1), ('hoddie', 1), ('https//sho.google', 1), ('merchandises.com', 1), ('qd', 1), ('Gbhc', 1), ('yt?', 1), ('tuotube', 1), ('stoer.com', 1), ('yuotoube', 1), ('ave', 1), ('youtubeco', 1), ('shop.google.com', 1), ('21', 1), ('googletube', 1), ('plłay', 1), ('youtubesexstore', 1), ('demo', 1), ('youtoub', 1), ('yourttube', 1), ('tube.com', 1), ('youtubre', 1), ('Youtuber', 1), ('itz', 1), ('janga', 1), ('mic', 1), ('Bags', 1), ('googlesupport', 1), ('store.Com', 1), ('t-sirt', 1), ('thermal', 1), ('badges', 1), ('snapdeal', 1), ('Hello', 1), ('oldest', 1), ('yoytuve', 1), ('youtove', 1), ('Nelk', 1), ('denim', 1), ('shoing', 1), ('यूट्यूब.कॉम', 1), ('japan', 1), ('+stor', 1), ('standing', 1), ('youtube.cim', 1), ('astore', 1), ('op', 1), ('lognl', 1), ('webshop', 1), ('tgoogle', 1), ('machandis', 1), ('https://goo.gl/6GtsfT', 1), ('www.gogel.se', 1), ('yoytuby', 1), ('Jacket', 1), ('yuytube', 1), ('yotuhb', 1), ('yotuve', 1), ('youutuube', 1), ('grefy', 1), ('Googl.com.tisart..xom', 1), ('weekends', 1), ('merchesdise', 1), ('youtuhbe', 1), ('youtubey', 1), ('london', 1), ('plaƴ', 1), ('YouTube-shop', 1), ('MERCH', 1), ('merchndise', 1), ('coom', 1), ('ntube', 1), ('yoçu', 1), ('22', 1), ('www.google.beµ', 1), ('216', 1), ('you,tube', 1), ('perfectlaughs', 1), ('yourtubr', 1), ('Apply', 1), ('www.googel.co', 1), ('hats/google', 1), ('youtubet', 1), ('sms', 1), ('toy', 1), ('marchadise', 1), ('purple', 1), ('glitter', 1), ('www.gogle.ca', 1), ('images', 1), ('ю', 1), ('туп', 1), ('okay', 1), ('youtyobe', 1), ('YAUBE', 1), ('ŕed', 1), ('beenie', 1), ('oakland', 1), ('raiders', 1), ('merchandsing', 1), ('www.google.co.in', 1), ('yoputubr', 1), ('gogleyutobe', 1), ('shoope', 1), ('google.apparel', 1), ('photo', 1), ('yotobe', 1), ('boops', 1), ('xn', 1), ('http://www.google-store.com/', 1), ('rizal', 1), ('figurine', 1), ('help', 1), ('me', 1), ('brain', 1), ('add', 1), ('होम', 1), ('शॉप', 1), ('टी', 1), ('mick', 1), ('leahrt', 1), ('Teeshart', 1), ('dikhao', 1), ('yoztube', 1), ('daydream', 1), ('merchsnduse', 1), ('laisai', 1), ('yuoyube', 1), ('ypoutube', 1), ('You.t', 1), ('tubemcom', 1), ('tebu', 1), ('ソニックＴシャツ', 1), ('merxh', 1), ('Www.', 1), ('prepare', 1), ('hearfones', 1), ('yotuber', 1), ('youtunbe', 1), ('iutubi', 1), ('oyu', 1), ('azon', 1), ('GoogleMerchandise.com', 1), ('ypu', 1), ('youtubeou', 1), ('yutrube', 1), ('youtubge', 1), ('clear', 1), ('image', 1), ('www.goggle', 1), ('googlesohp', 1), ('goolge', 1), ('बैग', 1), ('gambar', 1), ('yotubr', 1), ('yooutub', 1), ('lastfam', 1), ('enhance', 1), ('shoptiar', 1), ('kerana', 1), ('googleappstore', 1), ('t-sthrts', 1), ('wwe', 1), ('merchan', 1), ('disesor.com', 1), ('tube/', 1), ('muzyka', 1), ('zindagi', 1), ('arahun', 1), ('main', 1), ('seattle', 1), ('www.gooogle', 1), ('goocle', 1), ('iphstoreapp', 1), ('Creating', 1), ('t_shirt', 1), ('sun', 1), ('quilted', 1), ('powerbanc', 1), ('mobile', 1), ('should', 1), ('谷歌商城软件网站', 1), ('yojtube', 1), ('youutub', 1), ('boottle', 1), ('Developer', 1), ('wwwgogle', 1), ('googlstore', 1), ('oyoutube', 1), ('+product', 1), ('gogale', 1), ('YORUB', 1), ('Yutobe', 1), ('sylus', 1), ('murchandice', 1), ('https:shop:googlemerchandisestore.com', 1), ('travelex', 1), ('best', 1), ('galaxy', 1), ('a3', 1), ('case', 1), ('40', 1), ('watt', 1), ('bulb', 1), ('Shart', 1), ('googlemerchendistore.com', 1), ('tank', 1), ('29_15', 1), ('shorter', 1), ('قوقل', 1), ('laden', 1), ('youtube.cpm', 1), ('youtube.comc', 1), ('tyoutube', 1), ('aqwer', 1), ('http://www.googlemerchandisestore.com', 1), ('youtubs', 1), ('reebok', 1), ('osr', 1), ('ss', 1), ('سیکسی', 1), ('\\u200fYOUTUB\\u200f', 1), ('\\u200fSTORE', 1), ('yoy', 1), ('utupe', 1), ('youtbu', 1), ('ouube', 1), ('youtube，clothing', 1), ('pliable', 1), ('art', 1), ('33pm', 1), ('webstore', 1), ('merchindaise', 1), ('G', 1), ('D', 1), ('GoggleyouTOUD', 1), ('google.com/swag', 1), ('люди', 1), ('черном', 1), ('hatter', 1), ('YouTubeshop', 1), ('t-Shirts', 1), ('otube', 1), ('нщгегиу', 1), ('Canada', 1), ('clava', 1), ('duffel', 1), ('-ID', 1), ('-realtime', 1), ('sunnyvale', 1), ('low', 1), ('gugel', 1), ('onllen', 1), ('clothings', 1), ('google.', 1), ('t-shert', 1), ('pela', 1), ('sotor', 1), ('devleoper', 1), ('yubetube', 1), ('tup', 1), ('একটা', 1), ('কে', 1), ('কিভাবে', 1), ('রপ্তানূযোগ্য', 1), ('করা', 1), ('যায়', 1), ('youtubeube', 1), ('mauve', 1), ('gouache', 1), ('Malaysia', 1), ('Google.t', 1), ('orginial', 1), ('contigo', 1), ('shoping.goole.com.in', 1), ('shrit', 1), ('voogle', 1), ('accesorey', 1), (\"Women's\", 1), ('Convertible', 1), ('4-Way', 1), ('Vest', 1), ('Germany', 1), ('Brand', 1), ('cyclr', 1), ('חנות', 1), ('גוגל', 1), ('ypou', 1), ('merchandse', 1), ('Sing', 1), ('10', 1), ('hour', 1), ('ELECTRONICS', 1), ('cim', 1), ('philippines', 1), ('most', 1), ('popular', 1), ('gogal', 1), ('..youtube', 1), ('yubtube', 1), ('কাউন্টার', 1), ('টা', 1), ('দিস', 1), ('stire', 1), ('store.', 1), ('googlekick', 1), ('wwgoole', 1), ('yotuhe', 1), ('TU', 1), ('BE', 1), ('weatherproof', 1), ('3', 1), ('mershanding', 1), ('गूगल', 1), ('हट', 1), ('वीडीवपाकीसतानी', 1), ('uoy', 1), ('rate', 1), ('youdube', 1), ('wwwgoogleom', 1), ('Uhtub', 1), ('prime', 1), ('authentic', 1), ('bengaluru', 1), ('refund', 1), ('-play', 1), ('high', 1), ('girsan', 1), ('zoutube', 1), ('dedeke', 1), ('returns', 1), ('born', 1), ('size', 1), ('Hasum', 1), ('lk', 1), ('Ladies', 1), ('حقيبة', 1), ('غوغل', 1), ('www.Google', 1), ('shop.com', 1), ('locaL', 1), (\"product_type_l1==wearables&+product_type_l2==men's\", 1), ('fanshop', 1), ('show', 1), ('happy', 1), ('stickers.', 1), ('JACKETS', 1), ('+nest', 1), ('+tumbler', 1), ('international', 1), ('Sydney', 1), ('андроид', 1), ('сторе', 1), ('tsirts', 1), ('Google.online.com', 1), ('ietams.com', 1), ('Merchandisa', 1), ('university', 1), ('Googles', 1), ('LOVED', 1), ('across', 1), ('eeuu', 1), ('wwwgoogle', 1), ('hard', 1), ('totube', 1), ('yoo', 1), (\"shirt's\", 1), ('tukbe', 1), ('yotwyb', 1), ('yutubve', 1), ('toutub', 1), ('youbute', 1), ('affinity', 1), ('classic', 1), ('redesign', 1), ('ledies', 1), ('very', 1), ('good', 1), ('merchanfising', 1), ('merchandiser', 1), ('tuibe', 1), ('features', 1), ('GoogleKick', 1), ('suitcase', 1), ('organisers', 1), ('কমদামী', 1), ('ভালো', 1), ('thande', 1), ('rajkot', 1), ('alarm', 1), ('coogle', 1), ('bali', 1), ('aman', 1), ('aan', 1), ('terkendali', 1), ('karen', 1), ('patan', 1), ('Photos', 1), ('shits', 1), ('www.google.anawjt', 1), ('baf', 1), ('googleyoutube', 1), ('youbtube', 1), ('yutybe', 1), ('Blue', 1), ('easy', 1), ('OZ', 1), ('shop.youtube', 1), ('Lifestyle', 1), ('range', 1), ('bag.goodl', 1), ('google.Men', 1), ('child', 1), ('gugle', 1), ('onl', 1), ('Android.stor.com', 1), ('WWWW.GOOGLEWEBSITESTORE.COM', 1), ('youtubetube', 1), ('यू', 1), ('viwe', 1), ('uae', 1), ('googje', 1), ('cups', 1), ('yuotbe', 1), ('yotubed', 1), ('when', 1), ('sitore', 1), ('You.tube', 1), ('hop', 1), ('www.googel.free', 1), ('googlemeerchandise', 1), ('stoer', 1), ('7', 1), ('dog', 1), ('tisirt', 1), ('merchendis', 1), ('toutubel', 1), ('goo', 1), ('yotuube', 1), ('yootuve', 1), ('youtuube', 1), ('+Android', 1), ('gr', 1), ('fh', 1), ('электроник', 1), ('love', 1), ('জাতীয়', 1), ('পতাকা', 1), ('ডিজাইনের', 1), ('T-Shairt', 1), ('id', 1), ('holder', 1), ('γοογλε', 1), ('logu', 1), ('mogz', 1), ('technical', 1), ('guruji', 1), ('machendise', 1), ('sweet', 1), ('minorities', 1), ('marketing', 1), ('report', 1), (':', 1), ('slideshare', 1), ('overall', 1), ('objective?', 1), ('Official', 1), ('plastic', 1), ('tueb', 1), ('stroe', 1), ('collection', 1), ('parts', 1), ('https://www.googlemerchandisestore.com/Google+Redesign/Brands/Helpouts/Helpouts+28oz+H2Go+Surge.axd?cid=939', 1), ('/google+redesign/shop+by+brand/youtube', 1), ('Photo', 1), ('https://store.google.com.de', 1), ('sweatshirts', 1), ('alifya', 1), ('store.ca', 1), ('sopinge', 1), ('territory', 1), ('payment', 1), ('methods', 1), ('shop.', 1), ('coffee', 1), ('https://goto.google.com/a/google.com?continue=https://goto.google.com/g-store', 1), ('deutsch', 1), ('Boutique', 1), ('hodie', 1), ('google.on.line', 1), ('goglr', 1), ('youtube.com/store', 1), ('partners', 1), ('outfit/google', 1), ('websites', 1), ('Mexico', 1), ('www.googlestore', 1), ('moods', 1), ('youtebe', 1), ('Yu', 1), ('stikers', 1), ('☹', 1), ('onlin', 1), ('nanny', 1), ('WWW.Google', 1), ('youyube', 1), ('soping', 1), ('brend', 1), ('Googletshirt', 1), ('template', 1), ('Google.kptjmjpj.t', 1), ('merchandise,', 1), ('tyou', 1), ('yutu', 1), ('gool', 1), ('gle', 1), ('doofle', 1), ('longslave', 1), ('magliette', 1), ('google.merchandise', 1), ('icon', 1), ('diescription', 1), ('basic', 1), ('redhatter', 1), ('日本', 1), ('gay', 1), ('youtube.coim', 1), ('yuotuve', 1), ('yutubt', 1), ('These', 1), ('mateial', 1), ('not', 1), ('available', 1), ('please', 1), ('provide', 1), ('googleterms', 1), ('searche', 1), ('box', 1), ('https://www.googlemerchandisestore.com/Google+Redesign/Accessories/Bags/Osprey+Backpack.axd', 1), ('mrchanise', 1), ('slimefest', 1), ('www.Goolge', 1), ('plaky', 1), ('stroe.COM', 1), ('genuine', 1), ('http://www.how', 1), ('google.net', 1), ('merchandi', 1), ('thbe', 1), ('googlemarchandisestore', 1), ('asquith', 1), ('fox', 1), ('collar', 1), ('Ti', 1), ('Tоm', 1), ('fаrr', 1), ('t-shirt(перев.', 1), ('на', 1), ('русский', 1), ('язык)?', 1), ('toke', 1), ('youubte', 1), ('Tizene', 1), ('youtoup', 1), ('Youtupe', 1), ('www.gogle', 1), ('carbon', 1), ('monoxide', 1), ('smoke', 1), ('detector', 1), ('watter', 1), ('bkr', 1), ('Website', 1), ('neon', 1), ('watch', 1), ('Headgear', 1), ('Headwear', 1), ('itam', 1), ('yoututber', 1), ('lanyard', 1), ('yut', 1), ('vrchandise.com', 1), ('journals', 1), ('malibu', 1), ('rugged', 1), ('युटयुब', 1), ('fruit', 1), ('games', 1), ('googlestore.com', 1), ('google-maps', 1), ('100%', 1), ('ggoogle', 1), ('microsoft', 1), ('garments', 1), ('camicia', 1), ('Boys', 1), ('In', 1), ('shoo', 1), ('store.google', 1), ('ঢাকা', 1), ('বিশ্ববিদ্যালয়ের', 1), ('আশেপাশে', 1), ('কোথাও', 1), ('কি', 1), ('তৈরি', 1), ('হয়', 1), ('Yutob', 1), ('sleve', 1), ('google_compoloshirts', 1), ('bebop', 1), ('Googal', 1), ('bip', 1), ('google.com', 1), ('create', 1), ('T-Sirt', 1), ('Bangladesh', 1), ('youtube.com', 1), ('01722424577', 1), ('aita', 1), ('globbiu', 1), ('er', 1), ('contact', 1), ('HEAD', 1), ('GEAR', 1), ('yash', 1), ('selfhu', 1), ('madu', 1), ('sahajada', 1), ('songs', 1), ('www.fensi', 1), ('Tisurt', 1), ('imegs.com', 1), ('disney', 1), ('Sketch', 1), ('z', 1), ('google/merchandise/store', 1), ('магазине', 1), ('гоогл', 1), ('tubes', 1), ('onesie', 1), ('laptog', 1), ('гугл', 1), ('менс', 1), ('onlinw', 1), ('G5yVM8nVJd1R+qMR1UzrC8SdsrUTq4mq8iLix7w/VtBNWmG1WinGifubv/Ix4AV3b9DyPba2/m8s0Rnbl/x77Q==', 1), ('goodie', 1), ('https://www.googlemerchandisestore.com/shop.axd/UpdateCart', 1), ('fashionable', 1), ('Bar', 1), ('nekar', 1), ('t恤', 1), ('jara', 1), ('germents', 1), ('t-', 1), ('visitor', 1), ('ambos', 1), ('girl', 1), ('https://www.google.com/appserve/mkt/p/AIQrb_4sY0XQxk5dWLj3SqWU9Psv6MubkBmJL0o2s6LGiqwrDvp9RZjGoNzk7E57GfLsvanFYvMXE9FdKud1Zq_jSvhEqbwRZabBEmBxR2jEhx9ffq_ujzVG8gojTBP_4oUMW6lkPpZH2X-bBQbj1nK-', 1), ('take', 1), ('time', 1), ('hsdgear', 1), ('souvenirshop', 1), ('xl', 1), ('stotre', 1), ('Shop.GoogleMerchandiseStore.com', 1), ('merchansing', 1), ('tasse', 1), ('moves', 1), ('Konsi', 1), ('hi', 1), ('ek', 1), ('bar', 1), ('lineme', 1), ('100nmbar', 1), ('mi', 1), ('le', 1), ('brand==nest', 1)]\n"
     ]
    }
   ],
   "source": [
    "word_counts_sorted = sorted(word_counts.items(), key=lambda kv: kv[1], reverse=True)\n",
    "print(word_counts_sorted)"
   ]
  },
  {
   "cell_type": "code",
   "execution_count": null,
   "metadata": {},
   "outputs": [],
   "source": []
  }
 ],
 "metadata": {
  "kernelspec": {
   "display_name": "Python 3",
   "language": "python",
   "name": "python3"
  },
  "language_info": {
   "codemirror_mode": {
    "name": "ipython",
    "version": 3
   },
   "file_extension": ".py",
   "mimetype": "text/x-python",
   "name": "python",
   "nbconvert_exporter": "python",
   "pygments_lexer": "ipython3",
   "version": "3.7.0"
  }
 },
 "nbformat": 4,
 "nbformat_minor": 2
}
