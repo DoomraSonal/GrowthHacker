{
 "cells": [
  {
   "cell_type": "code",
   "execution_count": 1,
   "metadata": {},
   "outputs": [
    {
     "name": "stdout",
     "output_type": "stream",
     "text": [
      "Loaded test_v2.csv. Shape: (100000, 59)\n"
     ]
    }
   ],
   "source": [
    "import os\n",
    "import json\n",
    "import numpy as np\n",
    "import pandas as pd\n",
    "from pandas.io.json import json_normalize\n",
    "\n",
    "def load_df(csv_path='D:\\\\Documents\\\\ga-customer-revenue-prediction\\\\test_v2.csv', nrows=None):\n",
    "    JSON_COLUMNS = ['device', 'geoNetwork', 'totals', 'trafficSource']\n",
    "    \n",
    "    df = pd.read_csv(csv_path, \n",
    "                     converters={column: json.loads for column in JSON_COLUMNS}, \n",
    "                     dtype={'fullVisitorId': 'str'}, # Important!!\n",
    "                     nrows=nrows)\n",
    "    \n",
    "    for column in JSON_COLUMNS:\n",
    "        column_as_df = json_normalize(df[column])\n",
    "        column_as_df.columns = [f\"{column}.{subcolumn}\" for subcolumn in column_as_df.columns]\n",
    "        df = df.drop(column, axis=1).merge(column_as_df, right_index=True, left_index=True)\n",
    "    print(f\"Loaded {os.path.basename(csv_path)}. Shape: {df.shape}\")\n",
    "    return df\n",
    "\n",
    "\n",
    "df_small = load_df(nrows=100000)\n"
   ]
  },
  {
   "cell_type": "code",
   "execution_count": 2,
   "metadata": {},
   "outputs": [
    {
     "data": {
      "text/plain": [
       "Index(['channelGrouping', 'customDimensions', 'date', 'fullVisitorId', 'hits',\n",
       "       'socialEngagementType', 'visitId', 'visitNumber', 'visitStartTime',\n",
       "       'device.browser', 'device.browserSize', 'device.browserVersion',\n",
       "       'device.deviceCategory', 'device.flashVersion', 'device.isMobile',\n",
       "       'device.language', 'device.mobileDeviceBranding',\n",
       "       'device.mobileDeviceInfo', 'device.mobileDeviceMarketingName',\n",
       "       'device.mobileDeviceModel', 'device.mobileInputSelector',\n",
       "       'device.operatingSystem', 'device.operatingSystemVersion',\n",
       "       'device.screenColors', 'device.screenResolution', 'geoNetwork.city',\n",
       "       'geoNetwork.cityId', 'geoNetwork.continent', 'geoNetwork.country',\n",
       "       'geoNetwork.latitude', 'geoNetwork.longitude', 'geoNetwork.metro',\n",
       "       'geoNetwork.networkDomain', 'geoNetwork.networkLocation',\n",
       "       'geoNetwork.region', 'geoNetwork.subContinent', 'totals.bounces',\n",
       "       'totals.hits', 'totals.newVisits', 'totals.pageviews',\n",
       "       'totals.sessionQualityDim', 'totals.timeOnSite',\n",
       "       'totals.totalTransactionRevenue', 'totals.transactionRevenue',\n",
       "       'totals.transactions', 'totals.visits', 'trafficSource.adContent',\n",
       "       'trafficSource.adwordsClickInfo.adNetworkType',\n",
       "       'trafficSource.adwordsClickInfo.criteriaParameters',\n",
       "       'trafficSource.adwordsClickInfo.gclId',\n",
       "       'trafficSource.adwordsClickInfo.isVideoAd',\n",
       "       'trafficSource.adwordsClickInfo.page',\n",
       "       'trafficSource.adwordsClickInfo.slot', 'trafficSource.campaign',\n",
       "       'trafficSource.isTrueDirect', 'trafficSource.keyword',\n",
       "       'trafficSource.medium', 'trafficSource.referralPath',\n",
       "       'trafficSource.source'],\n",
       "      dtype='object')"
      ]
     },
     "execution_count": 2,
     "metadata": {},
     "output_type": "execute_result"
    }
   ],
   "source": [
    "df_small.columns"
   ]
  },
  {
   "cell_type": "code",
   "execution_count": 11,
   "metadata": {},
   "outputs": [
    {
     "name": "stdout",
     "output_type": "stream",
     "text": [
      "['(not set)' 'Data Share Promo' 'Run of Network Line Item'\n",
      " 'Page: contains \"/google+redesign/drinkware\"'\n",
      " 'Page: contains \"/google+redesign/drinkware\" Similar Audiences'\n",
      " 'AW - Accessories' 'Smart Display Campaign'\n",
      " '\"google + redesign/Accessories March 17\" All Users'\n",
      " '\"google + redesign/Accessories March 17\" All Users Similar Audiences'\n",
      " '(direct)' 'AW - YouTube Brand' 'AW - Google Brand' 'AW - Bags'\n",
      " 'AW - Apparel' 'AW - Office' 'AW - Drinkware' 'Technology/Technophiles'\n",
      " 'AW - Dynamic Search Ads Whole Site' 'AW - Android Brand'\n",
      " 'AW - Waze Brand']\n",
      "-5426\n"
     ]
    }
   ],
   "source": [
    "#creating new df with just the column I need and dropping old to save RAM\n",
    "print(df_small['trafficSource.campaign'].unique())\n",
    "print(len(df_small[df_small['trafficSource.campaign'] == \"(not set)\"]) - 100000)"
   ]
  },
  {
   "cell_type": "markdown",
   "metadata": {},
   "source": [
    "From the first 100,000 lines of the CSV, we only have 5426 rows that contain a campaign\n",
    "\n",
    "**Ideas:**\n",
    "Do a number of random samples and get the average"
   ]
  },
  {
   "cell_type": "code",
   "execution_count": null,
   "metadata": {},
   "outputs": [],
   "source": []
  }
 ],
 "metadata": {
  "kernelspec": {
   "display_name": "Python 3",
   "language": "python",
   "name": "python3"
  },
  "language_info": {
   "codemirror_mode": {
    "name": "ipython",
    "version": 3
   },
   "file_extension": ".py",
   "mimetype": "text/x-python",
   "name": "python",
   "nbconvert_exporter": "python",
   "pygments_lexer": "ipython3",
   "version": "3.7.1"
  }
 },
 "nbformat": 4,
 "nbformat_minor": 2
}
