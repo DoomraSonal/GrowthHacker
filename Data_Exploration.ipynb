{
 "cells": [
  {
   "cell_type": "markdown",
   "metadata": {},
   "source": [
    "## Loading Full Code"
   ]
  },
  {
   "cell_type": "code",
   "execution_count": 26,
   "metadata": {},
   "outputs": [
    {
     "name": "stdout",
     "output_type": "stream",
     "text": [
      "Loaded train_v2.csv. Shape: (3, 50)\n"
     ]
    }
   ],
   "source": [
    "import os\n",
    "import json\n",
    "import numpy as np\n",
    "import pandas as pd\n",
    "from pandas.io.json import json_normalize\n",
    "\n",
    "def load_df(csv_path='D:\\\\Documents\\\\ga-customer-revenue-prediction\\\\train_v2.csv', nrows=None):\n",
    "    JSON_COLUMNS = ['device', 'geoNetwork', 'totals', 'trafficSource']\n",
    "    \n",
    "    df = pd.read_csv(csv_path, \n",
    "                     converters={column: json.loads for column in JSON_COLUMNS}, \n",
    "                     dtype={'fullVisitorId': 'str'}, # Important!!\n",
    "                     nrows=nrows)\n",
    "    \n",
    "    for column in JSON_COLUMNS:\n",
    "        column_as_df = json_normalize(df[column])\n",
    "        column_as_df.columns = [f\"{column}.{subcolumn}\" for subcolumn in column_as_df.columns]\n",
    "        df = df.drop(column, axis=1).merge(column_as_df, right_index=True, left_index=True)\n",
    "    print(f\"Loaded {os.path.basename(csv_path)}. Shape: {df.shape}\")\n",
    "    return df\n",
    "\n",
    "\n",
    "df_small = load_df(nrows=3)\n"
   ]
  },
  {
   "cell_type": "code",
   "execution_count": 25,
   "metadata": {},
   "outputs": [
    {
     "name": "stdout",
     "output_type": "stream",
     "text": [
      "(10, 28)\n",
      "(10, 38)\n",
      "(10, 44)\n",
      "(10, 50)\n",
      "                              appInfo.exitScreenName  \\\n",
      "0  shop.googlemerchandisestore.com/google+redesig...   \n",
      "\n",
      "                           appInfo.landingScreenName appInfo.screenDepth  \\\n",
      "0  shop.googlemerchandisestore.com/google+redesig...                   0   \n",
      "\n",
      "                                  appInfo.screenName  \\\n",
      "0  shop.googlemerchandisestore.com/google+redesig...   \n",
      "\n",
      "  contentGroup.contentGroup1 contentGroup.contentGroup2  \\\n",
      "0                  (not set)                       Bags   \n",
      "\n",
      "  contentGroup.contentGroup3 contentGroup.contentGroup4  \\\n",
      "0                  (not set)                  (not set)   \n",
      "\n",
      "  contentGroup.contentGroup5 contentGroup.contentGroupUniqueViews2  ...   \\\n",
      "0                  (not set)                                     1  ...    \n",
      "\n",
      "                                             product promotion  \\\n",
      "0  [{'productSKU': 'GGOEGDHC074099', 'v2ProductNa...        []   \n",
      "\n",
      "  publisher_infos                                            referer  \\\n",
      "0              []  https://www.google.co.uk/search?q=water+bottle...   \n",
      "\n",
      "  social.hasSocialSourceReferral social.socialInteractionNetworkAction  \\\n",
      "0                             No                                    :    \n",
      "\n",
      "  social.socialNetwork time transaction.currencyCode  type  \n",
      "0            (not set)    0                      USD  PAGE  \n",
      "\n",
      "[1 rows x 48 columns]\n"
     ]
    },
    {
     "ename": "KeyError",
     "evalue": "1",
     "output_type": "error",
     "traceback": [
      "\u001b[1;31m---------------------------------------------------------------------------\u001b[0m",
      "\u001b[1;31mKeyError\u001b[0m                                  Traceback (most recent call last)",
      "\u001b[1;32m<ipython-input-25-a353f705cec4>\u001b[0m in \u001b[0;36m<module>\u001b[1;34m\u001b[0m\n\u001b[0;32m     34\u001b[0m \u001b[1;33m\u001b[0m\u001b[0m\n\u001b[0;32m     35\u001b[0m \u001b[1;33m\u001b[0m\u001b[0m\n\u001b[1;32m---> 36\u001b[1;33m \u001b[0mdf_small\u001b[0m \u001b[1;33m=\u001b[0m \u001b[0mload_df\u001b[0m\u001b[1;33m(\u001b[0m\u001b[0mnrows\u001b[0m\u001b[1;33m=\u001b[0m\u001b[1;36m10\u001b[0m\u001b[1;33m)\u001b[0m\u001b[1;33m\u001b[0m\u001b[1;33m\u001b[0m\u001b[0m\n\u001b[0m",
      "\u001b[1;32m<ipython-input-25-a353f705cec4>\u001b[0m in \u001b[0;36mload_df\u001b[1;34m(csv_path, nrows)\u001b[0m\n\u001b[0;32m     20\u001b[0m         \u001b[0mprint\u001b[0m\u001b[1;33m(\u001b[0m\u001b[0mdf\u001b[0m\u001b[1;33m.\u001b[0m\u001b[0mshape\u001b[0m\u001b[1;33m)\u001b[0m\u001b[1;33m\u001b[0m\u001b[1;33m\u001b[0m\u001b[0m\n\u001b[0;32m     21\u001b[0m     \u001b[1;32mfor\u001b[0m \u001b[0mindex\u001b[0m\u001b[1;33m,\u001b[0m \u001b[0mrow\u001b[0m \u001b[1;32min\u001b[0m \u001b[0mdf\u001b[0m\u001b[1;33m.\u001b[0m\u001b[0miterrows\u001b[0m\u001b[1;33m(\u001b[0m\u001b[1;33m)\u001b[0m\u001b[1;33m:\u001b[0m\u001b[1;33m\u001b[0m\u001b[1;33m\u001b[0m\u001b[0m\n\u001b[1;32m---> 22\u001b[1;33m         \u001b[0minitial_id\u001b[0m \u001b[1;33m=\u001b[0m \u001b[0mdf\u001b[0m\u001b[1;33m[\u001b[0m\u001b[1;34m'fullVisitorId'\u001b[0m\u001b[1;33m]\u001b[0m\u001b[1;33m[\u001b[0m\u001b[0mindex\u001b[0m\u001b[1;33m]\u001b[0m\u001b[1;33m\u001b[0m\u001b[1;33m\u001b[0m\u001b[0m\n\u001b[0m\u001b[0;32m     23\u001b[0m         \u001b[0ms\u001b[0m \u001b[1;33m=\u001b[0m \u001b[0mjson\u001b[0m\u001b[1;33m.\u001b[0m\u001b[0mdumps\u001b[0m\u001b[1;33m(\u001b[0m\u001b[0mdf\u001b[0m\u001b[1;33m[\u001b[0m\u001b[1;34m'hits'\u001b[0m\u001b[1;33m]\u001b[0m\u001b[1;33m[\u001b[0m\u001b[0mindex\u001b[0m\u001b[1;33m]\u001b[0m\u001b[1;33m)\u001b[0m\u001b[1;33m\u001b[0m\u001b[1;33m\u001b[0m\u001b[0m\n\u001b[0;32m     24\u001b[0m         \u001b[0mr\u001b[0m \u001b[1;33m=\u001b[0m \u001b[0mjson\u001b[0m\u001b[1;33m.\u001b[0m\u001b[0mloads\u001b[0m\u001b[1;33m(\u001b[0m\u001b[0ms\u001b[0m\u001b[1;33m)\u001b[0m\u001b[1;33m\u001b[0m\u001b[1;33m\u001b[0m\u001b[0m\n",
      "\u001b[1;32m~\\Anaconda3\\lib\\site-packages\\pandas\\core\\series.py\u001b[0m in \u001b[0;36m__getitem__\u001b[1;34m(self, key)\u001b[0m\n\u001b[0;32m    765\u001b[0m         \u001b[0mkey\u001b[0m \u001b[1;33m=\u001b[0m \u001b[0mcom\u001b[0m\u001b[1;33m.\u001b[0m\u001b[0m_apply_if_callable\u001b[0m\u001b[1;33m(\u001b[0m\u001b[0mkey\u001b[0m\u001b[1;33m,\u001b[0m \u001b[0mself\u001b[0m\u001b[1;33m)\u001b[0m\u001b[1;33m\u001b[0m\u001b[1;33m\u001b[0m\u001b[0m\n\u001b[0;32m    766\u001b[0m         \u001b[1;32mtry\u001b[0m\u001b[1;33m:\u001b[0m\u001b[1;33m\u001b[0m\u001b[1;33m\u001b[0m\u001b[0m\n\u001b[1;32m--> 767\u001b[1;33m             \u001b[0mresult\u001b[0m \u001b[1;33m=\u001b[0m \u001b[0mself\u001b[0m\u001b[1;33m.\u001b[0m\u001b[0mindex\u001b[0m\u001b[1;33m.\u001b[0m\u001b[0mget_value\u001b[0m\u001b[1;33m(\u001b[0m\u001b[0mself\u001b[0m\u001b[1;33m,\u001b[0m \u001b[0mkey\u001b[0m\u001b[1;33m)\u001b[0m\u001b[1;33m\u001b[0m\u001b[1;33m\u001b[0m\u001b[0m\n\u001b[0m\u001b[0;32m    768\u001b[0m \u001b[1;33m\u001b[0m\u001b[0m\n\u001b[0;32m    769\u001b[0m             \u001b[1;32mif\u001b[0m \u001b[1;32mnot\u001b[0m \u001b[0mis_scalar\u001b[0m\u001b[1;33m(\u001b[0m\u001b[0mresult\u001b[0m\u001b[1;33m)\u001b[0m\u001b[1;33m:\u001b[0m\u001b[1;33m\u001b[0m\u001b[1;33m\u001b[0m\u001b[0m\n",
      "\u001b[1;32m~\\Anaconda3\\lib\\site-packages\\pandas\\core\\indexes\\base.py\u001b[0m in \u001b[0;36mget_value\u001b[1;34m(self, series, key)\u001b[0m\n\u001b[0;32m   3116\u001b[0m         \u001b[1;32mtry\u001b[0m\u001b[1;33m:\u001b[0m\u001b[1;33m\u001b[0m\u001b[1;33m\u001b[0m\u001b[0m\n\u001b[0;32m   3117\u001b[0m             return self._engine.get_value(s, k,\n\u001b[1;32m-> 3118\u001b[1;33m                                           tz=getattr(series.dtype, 'tz', None))\n\u001b[0m\u001b[0;32m   3119\u001b[0m         \u001b[1;32mexcept\u001b[0m \u001b[0mKeyError\u001b[0m \u001b[1;32mas\u001b[0m \u001b[0me1\u001b[0m\u001b[1;33m:\u001b[0m\u001b[1;33m\u001b[0m\u001b[1;33m\u001b[0m\u001b[0m\n\u001b[0;32m   3120\u001b[0m             \u001b[1;32mif\u001b[0m \u001b[0mlen\u001b[0m\u001b[1;33m(\u001b[0m\u001b[0mself\u001b[0m\u001b[1;33m)\u001b[0m \u001b[1;33m>\u001b[0m \u001b[1;36m0\u001b[0m \u001b[1;32mand\u001b[0m \u001b[0mself\u001b[0m\u001b[1;33m.\u001b[0m\u001b[0minferred_type\u001b[0m \u001b[1;32min\u001b[0m \u001b[1;33m[\u001b[0m\u001b[1;34m'integer'\u001b[0m\u001b[1;33m,\u001b[0m \u001b[1;34m'boolean'\u001b[0m\u001b[1;33m]\u001b[0m\u001b[1;33m:\u001b[0m\u001b[1;33m\u001b[0m\u001b[1;33m\u001b[0m\u001b[0m\n",
      "\u001b[1;32mpandas\\_libs\\index.pyx\u001b[0m in \u001b[0;36mpandas._libs.index.IndexEngine.get_value\u001b[1;34m()\u001b[0m\n",
      "\u001b[1;32mpandas\\_libs\\index.pyx\u001b[0m in \u001b[0;36mpandas._libs.index.IndexEngine.get_value\u001b[1;34m()\u001b[0m\n",
      "\u001b[1;32mpandas\\_libs\\index.pyx\u001b[0m in \u001b[0;36mpandas._libs.index.IndexEngine.get_loc\u001b[1;34m()\u001b[0m\n",
      "\u001b[1;32mpandas\\_libs\\hashtable_class_helper.pxi\u001b[0m in \u001b[0;36mpandas._libs.hashtable.Int64HashTable.get_item\u001b[1;34m()\u001b[0m\n",
      "\u001b[1;32mpandas\\_libs\\hashtable_class_helper.pxi\u001b[0m in \u001b[0;36mpandas._libs.hashtable.Int64HashTable.get_item\u001b[1;34m()\u001b[0m\n",
      "\u001b[1;31mKeyError\u001b[0m: 1"
     ]
    }
   ],
   "source": [
    "import os\n",
    "import json\n",
    "import numpy as np\n",
    "import pandas as pd\n",
    "from pandas.io.json import json_normalize\n",
    "import ast\n",
    "\n",
    "def load_df(csv_path='D:\\\\Documents\\\\ga-customer-revenue-prediction\\\\train_v2.csv', nrows=None):\n",
    "    JSON_COLUMNS = ['device', 'geoNetwork', 'totals', 'trafficSource']\n",
    "    x=0\n",
    "    df = pd.read_csv(csv_path, \n",
    "                     converters={column: json.loads for column in JSON_COLUMNS}, \n",
    "                     dtype={'fullVisitorId': 'str'}, # Important!!\n",
    "                     nrows=nrows)\n",
    "\n",
    "    for column in JSON_COLUMNS:\n",
    "        column_as_df = json_normalize(df[column])\n",
    "        column_as_df.columns = [f\"{column}.{subcolumn}\" for subcolumn in column_as_df.columns]\n",
    "        df = df.drop(column, axis=1).merge(column_as_df, right_index=True, left_index=True)\n",
    "        print(df.shape)\n",
    "    for index, row in df.iterrows():\n",
    "        initial_id = df['fullVisitorId'][index]\n",
    "        s = json.dumps(df['hits'][index])\n",
    "        r = json.loads(s)\n",
    "        d = ast.literal_eval(r)\n",
    "        for each in d:\n",
    "            each['fullVisitorId'] = initial_id\n",
    "        column_as_df = json_normalize(d)\n",
    "        print(column_as_df)\n",
    "        column_as_df.columns = [f\"{column}.{subcolumn}\" for subcolumn in column_as_df.columns]\n",
    "        df = df.drop('hits', axis=1).merge(column_as_df, right_index=True, left_index=True)\n",
    "    print(f\"Loaded {os.path.basename(csv_path)}. Shape: {df.shape}\")\n",
    "    return df\n",
    "\n",
    "\n",
    "df_small = load_df(nrows=10)\n"
   ]
  },
  {
   "cell_type": "code",
   "execution_count": 24,
   "metadata": {},
   "outputs": [],
   "source": [
    "df_small.to_csv('test.csv')"
   ]
  },
  {
   "cell_type": "markdown",
   "metadata": {},
   "source": [
    "## Loading Just `Hits`"
   ]
  },
  {
   "cell_type": "code",
   "execution_count": 22,
   "metadata": {},
   "outputs": [
    {
     "ename": "AttributeError",
     "evalue": "'float' object has no attribute 'values'",
     "output_type": "error",
     "traceback": [
      "\u001b[1;31m---------------------------------------------------------------------------\u001b[0m",
      "\u001b[1;31mAttributeError\u001b[0m                            Traceback (most recent call last)",
      "\u001b[1;32m<ipython-input-22-b688b00af4b9>\u001b[0m in \u001b[0;36m<module>\u001b[1;34m\u001b[0m\n\u001b[0;32m     16\u001b[0m         \u001b[0mchunk\u001b[0m\u001b[1;33m[\u001b[0m\u001b[1;34m'hits'\u001b[0m\u001b[1;33m]\u001b[0m\u001b[1;33m[\u001b[0m\u001b[0mchunk\u001b[0m\u001b[1;33m[\u001b[0m\u001b[1;34m'hits'\u001b[0m\u001b[1;33m]\u001b[0m \u001b[1;33m==\u001b[0m \u001b[1;34m\"[]\"\u001b[0m\u001b[1;33m]\u001b[0m \u001b[1;33m=\u001b[0m \u001b[1;34m\"[{}]\"\u001b[0m\u001b[1;33m\u001b[0m\u001b[1;33m\u001b[0m\u001b[0m\n\u001b[0;32m     17\u001b[0m         \u001b[0mchunk\u001b[0m\u001b[1;33m[\u001b[0m\u001b[1;34m'hits'\u001b[0m\u001b[1;33m]\u001b[0m \u001b[1;33m=\u001b[0m \u001b[0mchunk\u001b[0m\u001b[1;33m[\u001b[0m\u001b[1;34m'hits'\u001b[0m\u001b[1;33m]\u001b[0m\u001b[1;33m.\u001b[0m\u001b[0mapply\u001b[0m\u001b[1;33m(\u001b[0m\u001b[0mliteral_eval\u001b[0m\u001b[1;33m)\u001b[0m\u001b[1;33m.\u001b[0m\u001b[0mstr\u001b[0m\u001b[1;33m[\u001b[0m\u001b[1;36m1\u001b[0m\u001b[1;33m]\u001b[0m\u001b[1;33m\u001b[0m\u001b[1;33m\u001b[0m\u001b[0m\n\u001b[1;32m---> 18\u001b[1;33m         \u001b[0mchunk\u001b[0m \u001b[1;33m=\u001b[0m \u001b[0mjson_normalize\u001b[0m\u001b[1;33m(\u001b[0m\u001b[0mchunk\u001b[0m\u001b[1;33m[\u001b[0m\u001b[1;34m'hits'\u001b[0m\u001b[1;33m]\u001b[0m\u001b[1;33m)\u001b[0m\u001b[1;33m\u001b[0m\u001b[1;33m\u001b[0m\u001b[0m\n\u001b[0m\u001b[0;32m     19\u001b[0m \u001b[1;33m\u001b[0m\u001b[0m\n\u001b[0;32m     20\u001b[0m         \u001b[1;31m# Extract the product and promo names from the complex nested structure into a simple flat list:\u001b[0m\u001b[1;33m\u001b[0m\u001b[1;33m\u001b[0m\u001b[1;33m\u001b[0m\u001b[0m\n",
      "\u001b[1;32m~\\Anaconda3\\lib\\site-packages\\pandas\\io\\json\\normalize.py\u001b[0m in \u001b[0;36mjson_normalize\u001b[1;34m(data, record_path, meta, meta_prefix, record_prefix, errors, sep)\u001b[0m\n\u001b[0;32m    196\u001b[0m     \u001b[1;32mif\u001b[0m \u001b[0mrecord_path\u001b[0m \u001b[1;32mis\u001b[0m \u001b[1;32mNone\u001b[0m\u001b[1;33m:\u001b[0m\u001b[1;33m\u001b[0m\u001b[1;33m\u001b[0m\u001b[0m\n\u001b[0;32m    197\u001b[0m         if any([[isinstance(x, dict)\n\u001b[1;32m--> 198\u001b[1;33m                 for x in compat.itervalues(y)] for y in data]):\n\u001b[0m\u001b[0;32m    199\u001b[0m             \u001b[1;31m# naive normalization, this is idempotent for flat records\u001b[0m\u001b[1;33m\u001b[0m\u001b[1;33m\u001b[0m\u001b[1;33m\u001b[0m\u001b[0m\n\u001b[0;32m    200\u001b[0m             \u001b[1;31m# and potentially will inflate the data considerably for\u001b[0m\u001b[1;33m\u001b[0m\u001b[1;33m\u001b[0m\u001b[1;33m\u001b[0m\u001b[0m\n",
      "\u001b[1;32m~\\Anaconda3\\lib\\site-packages\\pandas\\io\\json\\normalize.py\u001b[0m in \u001b[0;36m<listcomp>\u001b[1;34m(.0)\u001b[0m\n\u001b[0;32m    196\u001b[0m     \u001b[1;32mif\u001b[0m \u001b[0mrecord_path\u001b[0m \u001b[1;32mis\u001b[0m \u001b[1;32mNone\u001b[0m\u001b[1;33m:\u001b[0m\u001b[1;33m\u001b[0m\u001b[1;33m\u001b[0m\u001b[0m\n\u001b[0;32m    197\u001b[0m         if any([[isinstance(x, dict)\n\u001b[1;32m--> 198\u001b[1;33m                 for x in compat.itervalues(y)] for y in data]):\n\u001b[0m\u001b[0;32m    199\u001b[0m             \u001b[1;31m# naive normalization, this is idempotent for flat records\u001b[0m\u001b[1;33m\u001b[0m\u001b[1;33m\u001b[0m\u001b[1;33m\u001b[0m\u001b[0m\n\u001b[0;32m    200\u001b[0m             \u001b[1;31m# and potentially will inflate the data considerably for\u001b[0m\u001b[1;33m\u001b[0m\u001b[1;33m\u001b[0m\u001b[1;33m\u001b[0m\u001b[0m\n",
      "\u001b[1;32m~\\Anaconda3\\lib\\site-packages\\pandas\\compat\\__init__.py\u001b[0m in \u001b[0;36mitervalues\u001b[1;34m(obj, **kw)\u001b[0m\n\u001b[0;32m    210\u001b[0m \u001b[1;33m\u001b[0m\u001b[0m\n\u001b[0;32m    211\u001b[0m     \u001b[1;32mdef\u001b[0m \u001b[0mitervalues\u001b[0m\u001b[1;33m(\u001b[0m\u001b[0mobj\u001b[0m\u001b[1;33m,\u001b[0m \u001b[1;33m**\u001b[0m\u001b[0mkw\u001b[0m\u001b[1;33m)\u001b[0m\u001b[1;33m:\u001b[0m\u001b[1;33m\u001b[0m\u001b[1;33m\u001b[0m\u001b[0m\n\u001b[1;32m--> 212\u001b[1;33m         \u001b[1;32mreturn\u001b[0m \u001b[0miter\u001b[0m\u001b[1;33m(\u001b[0m\u001b[0mobj\u001b[0m\u001b[1;33m.\u001b[0m\u001b[0mvalues\u001b[0m\u001b[1;33m(\u001b[0m\u001b[1;33m**\u001b[0m\u001b[0mkw\u001b[0m\u001b[1;33m)\u001b[0m\u001b[1;33m)\u001b[0m\u001b[1;33m\u001b[0m\u001b[1;33m\u001b[0m\u001b[0m\n\u001b[0m\u001b[0;32m    213\u001b[0m \u001b[1;33m\u001b[0m\u001b[0m\n\u001b[0;32m    214\u001b[0m     \u001b[0mnext\u001b[0m \u001b[1;33m=\u001b[0m \u001b[0mnext\u001b[0m\u001b[1;33m\u001b[0m\u001b[1;33m\u001b[0m\u001b[0m\n",
      "\u001b[1;31mAttributeError\u001b[0m: 'float' object has no attribute 'values'"
     ]
    }
   ],
   "source": [
    "# Inspired by notebooks from Julián Peller and Usman Abbas\n",
    "# Extracts only the hits column to save memory\n",
    "# Writes one CSV per MAXROWS rows\n",
    "\n",
    "import pandas as pd \n",
    "from pandas.io.json import json_normalize\n",
    "from ast import literal_eval\n",
    "\n",
    "MAXROWS = 1e5 # per CSV\n",
    "\n",
    "i = rows = 0 \n",
    "for file in ['D:\\\\Documents\\\\ga-customer-revenue-prediction\\\\train_v2.csv', 'D:\\\\Documents\\\\ga-customer-revenue-prediction\\\\test_v2.csv']:\n",
    "    reader = pd.read_csv(file, usecols=[6], chunksize = MAXROWS, skiprows=0)\n",
    "    for chunk in reader:\n",
    "        chunk.columns = ['hits']\n",
    "        chunk['hits'][chunk['hits'] == \"[]\"] = \"[{}]\"\n",
    "        chunk['hits'] = chunk['hits'].apply(literal_eval).str[1]\n",
    "        chunk = json_normalize(chunk['hits'])\n",
    "\n",
    "        # Extract the product and promo names from the complex nested structure into a simple flat list:\n",
    "        if 'product' in chunk.columns:\n",
    "            #print(chunk['product'][0])\n",
    "            chunk['v2ProductName'] = chunk['product'].apply(lambda x: [p['v2ProductName'] for p in x] if type(x) == list else [])\n",
    "            chunk['v2ProductCategory'] = chunk['product'].apply(lambda x: [p['v2ProductCategory'] for p in x] if type(x) == list else [])\n",
    "            del chunk['product']\n",
    "        if 'promotion' in chunk.columns:\n",
    "            #print(chunk['promotion'][0])\n",
    "            chunk['promoId']  = chunk['promotion'].apply(lambda x: [p['promoId'] for p in x] if type(x) == list else [])\n",
    "            chunk['promoName']  = chunk['promotion'].apply(lambda x: [p['promoName'] for p in x] if type(x) == list else [])\n",
    "            del chunk['promotion']\n",
    "\n",
    "        chunk.to_csv(f\"hits-{i:05d}.csv\", index=False)\n",
    "        rows += len(chunk.index)\n",
    "        print(f\"hits-{i:05d}.csv written ({rows} cumulative rows)\")\n",
    "        i += 1"
   ]
  },
  {
   "cell_type": "code",
   "execution_count": 28,
   "metadata": {},
   "outputs": [],
   "source": [
    "# THIS WORKS FOR GETTING A DICTIONARY OF HITS\n",
    "\n",
    "import ast\n",
    "s = json.dumps(df_small['hits'][1])\n",
    "with open('output.txt', 'w') as x:\n",
    "    x.write(s)\n",
    "# r = json.loads(s)\n",
    "# print(r)\n",
    "# d = ast.literal_eval(r)\n",
    "# print(json_normalize(d))"
   ]
  },
  {
   "cell_type": "code",
   "execution_count": 6,
   "metadata": {},
   "outputs": [
    {
     "data": {
      "text/plain": [
       "Index(['channelGrouping', 'customDimensions', 'date', 'fullVisitorId', 'hits',\n",
       "       'socialEngagementType', 'visitId', 'visitNumber', 'visitStartTime',\n",
       "       'device.browser', 'device.browserSize', 'device.browserVersion',\n",
       "       'device.deviceCategory', 'device.flashVersion', 'device.isMobile',\n",
       "       'device.language', 'device.mobileDeviceBranding',\n",
       "       'device.mobileDeviceInfo', 'device.mobileDeviceMarketingName',\n",
       "       'device.mobileDeviceModel', 'device.mobileInputSelector',\n",
       "       'device.operatingSystem', 'device.operatingSystemVersion',\n",
       "       'device.screenColors', 'device.screenResolution', 'geoNetwork.city',\n",
       "       'geoNetwork.cityId', 'geoNetwork.continent', 'geoNetwork.country',\n",
       "       'geoNetwork.latitude', 'geoNetwork.longitude', 'geoNetwork.metro',\n",
       "       'geoNetwork.networkDomain', 'geoNetwork.networkLocation',\n",
       "       'geoNetwork.region', 'geoNetwork.subContinent', 'totals.bounces',\n",
       "       'totals.hits', 'totals.newVisits', 'totals.pageviews',\n",
       "       'totals.sessionQualityDim', 'totals.timeOnSite',\n",
       "       'totals.totalTransactionRevenue', 'totals.transactionRevenue',\n",
       "       'totals.transactions', 'totals.visits', 'trafficSource.adContent',\n",
       "       'trafficSource.adwordsClickInfo.adNetworkType',\n",
       "       'trafficSource.adwordsClickInfo.criteriaParameters',\n",
       "       'trafficSource.adwordsClickInfo.gclId',\n",
       "       'trafficSource.adwordsClickInfo.isVideoAd',\n",
       "       'trafficSource.adwordsClickInfo.page',\n",
       "       'trafficSource.adwordsClickInfo.slot', 'trafficSource.campaign',\n",
       "       'trafficSource.isTrueDirect', 'trafficSource.keyword',\n",
       "       'trafficSource.medium', 'trafficSource.referralPath',\n",
       "       'trafficSource.source'],\n",
       "      dtype='object')"
      ]
     },
     "execution_count": 6,
     "metadata": {},
     "output_type": "execute_result"
    }
   ],
   "source": [
    "df_small.columns"
   ]
  },
  {
   "cell_type": "code",
   "execution_count": 3,
   "metadata": {},
   "outputs": [
    {
     "name": "stdout",
     "output_type": "stream",
     "text": [
      "['(not set)' '\"google + redesign/Accessories March 17\" All Users'\n",
      " 'AW - Dynamic Search Ads Whole Site'\n",
      " '1000557 | GA | US | en | Hybrid | GDN Text+Banner | AS'\n",
      " 'Data Share Promo' 'Page: contains \"/google+redesign/bags\" All Users'\n",
      " '1000557 | GA | US | en | Hybrid | GDN Remarketing'\n",
      " 'Page: contains \"/google+redesign/office\"'\n",
      " 'Page: contains \"/google+redesign/drinkware\"'\n",
      " 'Page: contains \"/google+redesign/bags\" 1 Day' 'AW - Electronics'\n",
      " 'AW - Accessories' 'Smart Display Campaign'\n",
      " '\"google + redesign/Accessories March 17\" All Users Similar Audiences'\n",
      " 'Page: contains \"/google+redesign/drinkware\" Similar Audiences'\n",
      " 'Run of Network Line Item' 'Technology/Technophiles'\n",
      " 'Technology/Mobile Enthusiasts' 'Media & Entertainment/Movie Lovers'\n",
      " 'Media & Entertainment/Music Lovers' 'Lifestyles & Hobbies/Shutterbugs'\n",
      " 'Sports & Fitness/Health & Fitness Buffs'\n",
      " 'Page: contains \"/google+redesign/office\" Similar Audiences'\n",
      " 'Value Shoppers Affinity' 'AW - Apparel'\n",
      " 'Page: contains \"/google+redesign/electronics\"'\n",
      " '\"google + redesign/Accessories March 17\" 1 Day'\n",
      " 'Page: contains \"/google+redesign/bags\" All Users Similar Audiences'\n",
      " '(direct)']\n",
      "618325\n"
     ]
    }
   ],
   "source": [
    "#creating new df with just the column I need and dropping old to save RAM\n",
    "print(df_small['trafficSource.campaign'].unique())\n",
    "print(900000 - len(df_small[df_small['trafficSource.campaign'] == \"(not set)\"]))"
   ]
  },
  {
   "cell_type": "markdown",
   "metadata": {},
   "source": [
    "From the first 100,000 lines of the CSV, we only have 5426 rows that contain a campaign\n",
    "\n",
    "**Ideas:**\n",
    "Do a number of random samples and get the average"
   ]
  },
  {
   "cell_type": "code",
   "execution_count": 4,
   "metadata": {},
   "outputs": [
    {
     "name": "stdout",
     "output_type": "stream",
     "text": [
      "channelGrouping: 8\n",
      "customDimensions: 6\n",
      "date: 111\n",
      "fullVisitorId: 262777\n",
      "hits: 259982\n",
      "socialEngagementType: 1\n",
      "visitId: 289634\n",
      "visitNumber: 301\n",
      "visitStartTime: 289672\n",
      "device.browser: 50\n",
      "device.browserSize: 1\n",
      "device.browserVersion: 1\n",
      "device.deviceCategory: 3\n",
      "device.flashVersion: 1\n",
      "device.isMobile: 2\n",
      "device.language: 1\n",
      "device.mobileDeviceBranding: 1\n",
      "device.mobileDeviceInfo: 1\n",
      "device.mobileDeviceMarketingName: 1\n",
      "device.mobileDeviceModel: 1\n",
      "device.mobileInputSelector: 1\n",
      "device.operatingSystem: 23\n",
      "device.operatingSystemVersion: 1\n",
      "device.screenColors: 1\n",
      "device.screenResolution: 1\n",
      "geoNetwork.city: 526\n",
      "geoNetwork.cityId: 1\n",
      "geoNetwork.continent: 6\n",
      "geoNetwork.country: 206\n",
      "geoNetwork.latitude: 1\n",
      "geoNetwork.longitude: 1\n",
      "geoNetwork.metro: 86\n",
      "geoNetwork.networkDomain: 15272\n",
      "geoNetwork.networkLocation: 1\n",
      "geoNetwork.region: 354\n",
      "geoNetwork.subContinent: 23\n",
      "totals.bounces: 1\n",
      "totals.hits: 194\n",
      "totals.newVisits: 1\n",
      "totals.pageviews: 151\n",
      "totals.sessionQualityDim: 98\n",
      "totals.timeOnSite: 3187\n",
      "totals.totalTransactionRevenue: 2192\n",
      "totals.transactionRevenue: 1889\n",
      "totals.transactions: 6\n",
      "totals.visits: 1\n",
      "trafficSource.adContent: 63\n",
      "trafficSource.adwordsClickInfo.adNetworkType: 3\n",
      "trafficSource.adwordsClickInfo.criteriaParameters: 1\n",
      "trafficSource.adwordsClickInfo.gclId: 11986\n",
      "trafficSource.adwordsClickInfo.isVideoAd: 1\n",
      "trafficSource.adwordsClickInfo.page: 8\n",
      "trafficSource.adwordsClickInfo.slot: 3\n",
      "trafficSource.campaign: 29\n",
      "trafficSource.campaignCode: 1\n",
      "trafficSource.isTrueDirect: 1\n",
      "trafficSource.keyword: 1079\n",
      "trafficSource.medium: 7\n",
      "trafficSource.referralPath: 1588\n",
      "trafficSource.source: 200\n"
     ]
    }
   ],
   "source": [
    "ones = []\n",
    "\n",
    "for each in df_small.columns:\n",
    "    print(str(each) + ': ' + str(df_small[each].nunique()))\n",
    "    if df_small[each].nunique() == 1:\n",
    "        ones.append(each)"
   ]
  },
  {
   "cell_type": "code",
   "execution_count": 5,
   "metadata": {},
   "outputs": [
    {
     "name": "stdout",
     "output_type": "stream",
     "text": [
      "socialEngagementType\n",
      "['Not Socially Engaged']\n",
      "\n",
      "\n",
      "device.browserSize\n",
      "['not available in demo dataset']\n",
      "\n",
      "\n",
      "device.browserVersion\n",
      "['not available in demo dataset']\n",
      "\n",
      "\n",
      "device.flashVersion\n",
      "['not available in demo dataset']\n",
      "\n",
      "\n",
      "device.language\n",
      "['not available in demo dataset']\n",
      "\n",
      "\n",
      "device.mobileDeviceBranding\n",
      "['not available in demo dataset']\n",
      "\n",
      "\n",
      "device.mobileDeviceInfo\n",
      "['not available in demo dataset']\n",
      "\n",
      "\n",
      "device.mobileDeviceMarketingName\n",
      "['not available in demo dataset']\n",
      "\n",
      "\n",
      "device.mobileDeviceModel\n",
      "['not available in demo dataset']\n",
      "\n",
      "\n",
      "device.mobileInputSelector\n",
      "['not available in demo dataset']\n",
      "\n",
      "\n",
      "device.operatingSystemVersion\n",
      "['not available in demo dataset']\n",
      "\n",
      "\n",
      "device.screenColors\n",
      "['not available in demo dataset']\n",
      "\n",
      "\n",
      "device.screenResolution\n",
      "['not available in demo dataset']\n",
      "\n",
      "\n",
      "geoNetwork.cityId\n",
      "['not available in demo dataset']\n",
      "\n",
      "\n",
      "geoNetwork.latitude\n",
      "['not available in demo dataset']\n",
      "\n",
      "\n",
      "geoNetwork.longitude\n",
      "['not available in demo dataset']\n",
      "\n",
      "\n",
      "geoNetwork.networkLocation\n",
      "['not available in demo dataset']\n",
      "\n",
      "\n",
      "totals.bounces\n",
      "['1' nan]\n",
      "\n",
      "\n",
      "totals.newVisits\n",
      "['1' nan]\n",
      "\n",
      "\n",
      "totals.visits\n",
      "['1']\n",
      "\n",
      "\n",
      "trafficSource.adwordsClickInfo.criteriaParameters\n",
      "['not available in demo dataset']\n",
      "\n",
      "\n",
      "trafficSource.adwordsClickInfo.isVideoAd\n",
      "[nan False]\n",
      "\n",
      "\n",
      "trafficSource.campaignCode\n",
      "[nan '11251kjhkvahf']\n",
      "\n",
      "\n",
      "trafficSource.isTrueDirect\n",
      "[nan True]\n",
      "\n",
      "\n"
     ]
    }
   ],
   "source": [
    "for each in ones:\n",
    "    print(str(each))\n",
    "    print(df_small[each].unique())\n",
    "    print('\\n')"
   ]
  },
  {
   "cell_type": "markdown",
   "metadata": {},
   "source": [
    "### Remove these columns from the data \n",
    "\n",
    "* device.browserSize\n",
    "* device.browserVersion\n",
    "* device.flashVersion\n",
    "* device.language\n",
    "* device.mobileDeviceBranding\n",
    "* device.mobileDeviceInfo\n",
    "* device.mobileDeviceMarketingName\n",
    "* device.mobileDeviceModel\n",
    "* device.mobileInputSelector\n",
    "* device.operatingSystemVersion\n",
    "* device.screenColors\n",
    "* device.screenResolution\n",
    "* geoNetwork.cityId\n",
    "* geoNetwork.latitude\n",
    "* geoNetwork.longitude\n",
    "* geoNetwork.networkLocation\n",
    "* trafficSource.adwordsClickInfo.criteriaParameters\n"
   ]
  },
  {
   "cell_type": "code",
   "execution_count": 6,
   "metadata": {},
   "outputs": [
    {
     "name": "stdout",
     "output_type": "stream",
     "text": [
      "36\n"
     ]
    }
   ],
   "source": [
    "print(len(df_small.columns) - len(ones))"
   ]
  },
  {
   "cell_type": "markdown",
   "metadata": {},
   "source": [
    "# Looking into the keywords"
   ]
  },
  {
   "cell_type": "code",
   "execution_count": 7,
   "metadata": {},
   "outputs": [],
   "source": [
    "phrases = []\n",
    "keywords = df_small['trafficSource.keyword'].dropna()\n",
    "for each in keywords:\n",
    "    if each != '(not provided)':\n",
    "        phrases.append(each)"
   ]
  },
  {
   "cell_type": "code",
   "execution_count": 8,
   "metadata": {},
   "outputs": [
    {
     "name": "stdout",
     "output_type": "stream",
     "text": [
      "14855\n"
     ]
    }
   ],
   "source": [
    "print(len(phrases))"
   ]
  },
  {
   "cell_type": "code",
   "execution_count": 9,
   "metadata": {},
   "outputs": [
    {
     "name": "stdout",
     "output_type": "stream",
     "text": [
      "['water bottle', '(Remarketing/Content targeting)', '6qEhsCssdK0z36ri', '(automatic matching)', 'Google men', '1hZbAqLCbjwfgOH7', '6qEhsCssdK0z36ri', '6qEhsCssdK0z36ri', '6qEhsCssdK0z36ri', '6qEhsCssdK0z36ri', '(Remarketing/Content targeting)', '1X4Me6ZKNV0zg-jV', '6qEhsCssdK0z36ri', '(Remarketing/Content targeting)', '1hZbAqLCbjwfgOH7', '6qEhsCssdK0z36ri', '1hZbAqLCbjwfgOH7', '6qEhsCssdK0z36ri', 'google online merchandise', 'google water bottle', '1hZbAqLCbjwfgOH7', '6qEhsCssdK0z36ri', '6qEhsCssdK0z36ri', '(User vertical targeting)', '1X4Me6ZKNV0zg-jV', '6qEhsCssdK0z36ri', '6qEhsCssdK0z36ri', '(automatic matching)', 'google company store', '(automatic matching)', '(Remarketing/Content targeting)', '(Remarketing/Content targeting)', '6qEhsCssdK0z36ri', '(Remarketing/Content targeting)', '(automatic matching)', '6qEhsCssdK0z36ri', '6qEhsCssdK0z36ri', 'https://www.googlemerchandisestore.com/', '6qEhsCssdK0z36ri', '6qEhsCssdK0z36ri', '(Remarketing/Content targeting)', '6qEhsCssdK0z36ri', '6qEhsCssdK0z36ri', '1hZbAqLCbjwfgOH7', '1hZbAqLCbjwfgOH7', '6qEhsCssdK0z36ri', '6qEhsCssdK0z36ri', '(automatic matching)', 'letterman jacket ebay', '(User vertical targeting)', '(User vertical targeting)', '(User vertical targeting)', '(User vertical targeting)', '(automatic matching)', '(User vertical targeting)', '(User vertical targeting)', '(User vertical targeting)', '(User vertical targeting)', '(automatic matching)', '(automatic matching)', 'google canada', '(User vertical targeting)', '(User vertical targeting)', '(automatic matching)', '(User vertical targeting)', '(automatic matching)', '(User vertical targeting)', 'Google where is gabika clothing', '(automatic matching)', '(User vertical targeting)', '(User vertical targeting)', '(User vertical targeting)', '6qEhsCssdK0z36ri', '(User vertical targeting)', '(User vertical targeting)', '(User vertical targeting)', '(User vertical targeting)', '(User vertical targeting)', '(automatic matching)', '(automatic matching)', '(User vertical targeting)', '(automatic matching)', '(User vertical targeting)', '(User vertical targeting)', '(User vertical targeting)', '(automatic matching)', '(User vertical targeting)', '(Remarketing/Content targeting)', '(User vertical targeting)', '(User vertical targeting)', '(User vertical targeting)', '(User vertical targeting)', '6qEhsCssdK0z36ri', 'google online shops', '(User vertical targeting)', '(User vertical targeting)', '(User vertical targeting)', '(User vertical targeting)', '6qEhsCssdK0z36ri', 'google Merchandising kosten']\n"
     ]
    }
   ],
   "source": [
    "print(phrases[:100])"
   ]
  },
  {
   "cell_type": "markdown",
   "metadata": {},
   "source": [
    "From looking at 900,000 data points, the training data only contains keywords in 43,343 keywords inputs."
   ]
  },
  {
   "cell_type": "code",
   "execution_count": 10,
   "metadata": {},
   "outputs": [
    {
     "name": "stdout",
     "output_type": "stream",
     "text": [
      "33837\n"
     ]
    }
   ],
   "source": [
    "words = \" \". join(phrases)\n",
    "words = words.split(' ')\n",
    "print(len(words))"
   ]
  },
  {
   "cell_type": "markdown",
   "metadata": {},
   "source": [
    "Separating the phrases into distinct words there are 95,912 words total."
   ]
  },
  {
   "cell_type": "code",
   "execution_count": 11,
   "metadata": {},
   "outputs": [],
   "source": [
    "word_counts = {}\n",
    "for each in words:\n",
    "    if each not in word_counts:\n",
    "        word_counts[each] = 1\n",
    "    else:\n",
    "        word_counts[each] += 1"
   ]
  },
  {
   "cell_type": "code",
   "execution_count": 12,
   "metadata": {},
   "outputs": [
    {
     "name": "stdout",
     "output_type": "stream",
     "text": [
      "[('targeting)', 6375), ('(User', 5473), ('vertical', 5473), ('(automatic', 2982), ('matching)', 2982), ('6qEhsCssdK0z36ri', 1788), ('google', 1012), ('(Remarketing/Content', 902), ('store', 689), ('merchandise', 559), ('1hZbAqLCbjwfgOH7', 434), ('Google', 410), ('Merchandise', 352), ('youtube', 309), ('1X4Me6ZKNV0zg-jV', 172), ('+google', 170), ('shirt', 149), ('t', 149), ('+Google', 135), ('+store', 110), ('+Merchandise', 100), ('DoubleClick', 99), ('Ad', 99), ('Exchange', 99), ('merch', 88), ('shop', 84), ('online', 83), ('+merchandise', 74), ('you', 67), ('tube', 67), ('https://www.googlemerchandisestore.com/', 45), ('Youtube', 43), ('YouTube', 41), ('tshirt', 41), ('shirts', 40), ('buy', 37), ('+Products', 30), ('lava', 29), ('+merch', 24), ('bag', 23), ('for', 23), ('www', 22), ('india', 22), ('free', 22), ('Store', 22), ('+stores', 22), ('shopping', 21), ('lamp', 19), ('t-shirt', 18), ('android', 18), ('+YouTube', 18), ('to', 17), ('+Swag', 17), ('You', 16), ('on', 16), ('sticker', 16), ('71817', 15), ('apparel', 15), ('water', 14), ('in', 14), ('clothing', 13), ('how', 13), ('uk', 13), ('logo', 13), ('stickers', 12), ('bottle', 11), ('www.google.com', 11), ('lamps', 11), ('stores', 11), ('u', 11), ('get', 10), ('official', 10), ('+backpack', 10), ('›', 9), ('shopgoogle', 9), ('bags', 9), ('backpack', 9), ('men', 8), ('jacket', 8), ('shops', 8), ('hoodie', 8), ('Online', 8), ('swag', 8), ('tee', 8), ('notebook', 8), ('com', 7), ('https://www.googlemerchandisestore.com/shop.axd/Home', 7), ('pen', 7), ('price', 7), ('+youtube', 7), ('mens', 6), ('developer', 6), ('merchandising', 6), ('of', 6), ('t-shirts', 6), ('-', 6), ('with', 6), ('www.google', 6), ('Apparel', 6), ('shart', 6), ('cap', 6), ('clothes', 5), ('the', 5), ('sale', 5), ('googlemerchandisestore', 5), ('merchant', 5), ('chrome', 5), ('gadgets', 5), ('+google+tshirts', 5), ('nest', 5), ('googlestore', 5), ('gift', 5), ('deutschland', 5), ('play', 5), ('youtuber', 5), ('kids', 5), ('accessories', 5), ('https://www.googlemerchandisestore.com', 5), ('company', 4), ('canada', 4), ('where', 4), ('is', 4), ('usa', 4), ('stylus', 4), ('https://goto.google.com/a/google.com?continue=https://goto.google.com/tyctwd-shirts', 4), ('united', 4), ('states', 4), ('https://www.googlemerchandisestore.com/Google+Redesign/New+2015+Logo/RoxBox+Mini+Twist+Bluetooth+Speaker.axd?cid=1340', 4), ('store.com', 4), ('Shop', 4), ('and', 4), ('card', 4), ('mexico', 4), ('zip', 4), ('tude', 4), ('+usa', 4), ('decal', 4), ('tees', 4), ('made', 4), ('by', 4), ('laptop', 4), ('google商店官网', 4), ('category_l1==166', 4), ('youtubeshop', 3), ('office', 3), ('utube', 3), ('yourtube', 3), ('tybe', 3), ('youtubers', 3), ('tou', 3), ('tshirts', 3), ('large', 3), ('from', 3), ('youtubr', 3), ('Shopping', 3), ('Casual', 3), ('T-Shirts', 3), ('mug', 3), ('googleplex', 3), ('cycle', 3), ('ballpoint', 3), ('merchandize', 3), ('yo', 3), ('a', 3), ('branded', 3), ('red', 3), ('+shops', 3), ('women', 3), ('io', 3), ('waterproof', 3), ('T', 3), ('writing', 3), ('sleeve', 3), ('vintage', 3), ('giant', 3), ('https://www.googlemerchandisestore.com/shop.axd/Search?keywords=ingress', 3), ('https://goto.google.com/a/google.com?continue=https://goto.google.com/googleswag', 3), ('buying', 3), ('https://www.googlemerchandisestore.com/Google+Redesign/Accessories/Stickers/', 3), ('+shop', 3), ('e', 3), ('https://goo.gl/NzNQhY', 3), ('cup', 3), ('+accessories', 3), ('order', 3), ('phone', 3), ('home', 3), ('goggle', 3), ('site', 3), ('sunglasses', 3), ('YOUTUBE', 3), ('gaming', 3), ('youtub', 3), ('yu', 3), ('youtue', 3), ('yutube', 3), ('https://www.googlemerchandisestore.com/Google+Redesign/New+2015+Logo/Malibu+Sunglasses.axd', 3), ('hat', 3), ('souvenirs', 2), ('pink', 2), ('cool', 2), ('yuo', 2), ('youtibe', 2), ('youttub', 2), ('customize', 2), ('different', 2), ('LED', 2), ('.com', 2), ('sotre', 2), ('mugs', 2), ('items', 2), ('tahirt', 2), ('australia', 2), ('backpacks', 2), ('ютуб', 2), ('polo', 2), ('white', 2), ('back', 2), ('I', 2), ('bottles', 2), ('YOU', 2), ('TUBE', 2), ('+Gear', 2), ('indonesia', 2), ('Googlestore', 2), ('yotu', 2), ('yot', 2), ('youtubu', 2), ('sweatshirt', 2), ('Gear', 2), ('which', 2), ('Googlekick', 2), ('stor', 2), ('https://www.googlemerchandisestore.com/Google+Redesign/Brands/Google/Google+Mountain+Bottle.axd?cid=939', 2), ('channel', 2), ('स्टोर', 2), ('GOOGLE', 2), ('login', 2), ('youto', 2), ('be', 2), ('merfhandise', 2), ('line', 2), ('headphones', 2), ('youtuba', 2), ('youtubne', 2), ('yootube', 2), ('Yotup', 2), ('website', 2), ('your', 2), ('sirt', 2), ('gogle', 2), ('local', 2), ('stylish', 2), ('partner', 2), ('mercandise', 2), ('golang', 2), ('category_l1==*', 2), ('does', 2), ('light', 2), ('https://www.google.com/appserve/mkt/p/AIQrb_5cngQDe4PEUVdciEyadam3Z5o3dxpMjtAmopGdO70QTDrZMFudMfYyjWeclFelhvWHoOeS_mupoa9Qd3XjXz-5VWj9wxKxTeRjEwN_1oVoCNnBVjFbgDFjjU9tvXfk375kZUAAT_QMEvXiFUGN3A', 2), (\"women's\", 2), ('it', 2), ('谷歌store', 2), ('+coffee', 2), ('cheap', 2), ('beeg', 2), ('Google.', 2), ('fun', 2), ('youyub', 2), ('brasil', 2), ('go', 2), ('man', 2), ('pic', 2), ('+products', 2), ('us', 2), ('mathmos', 2), ('short', 2), ('y', 2), ('cloth', 2), ('that', 2), ('keeps', 2), ('cold', 2), ('boosie', 2), ('app', 2), ('yout', 2), ('youtune', 2), ('car', 2), ('Com', 2), ('mouse', 2), ('notebooks', 2), ('womens', 2), ('tobe', 2), ('yutuben', 2), ('are', 2), ('los', 2), ('angeles', 2), ('T-shirt', 2), ('number', 2), ('malaysia', 2), ('dot', 2), ('totes', 2), ('youte', 2), ('merchendise', 2), ('gooles', 2), ('i', 2), ('o', 2), ('goovle', 2), ('ztore', 2), ('koszulki', 2), ('hello', 2), ('tobu', 2), ('youtubee', 2), ('youtve', 2), ('https://goto.google.com/a/google.com?continue=https://goto.google.com/onlinestore', 2), ('baby', 2), ('board', 2), ('sydney', 2), ('youybe', 2), ('letterman', 1), ('ebay', 1), ('gabika', 1), ('Merchandising', 1), ('kosten', 1), ('merchdise', 1), ('yputube', 1), ('tope', 1), ('googel', 1), ('+', 1), ('hood', 1), ('player', 1), ('googlemerch', 1), ('south', 1), ('africa', 1), ('big', 1), ('employee', 1), ('waterbottle', 1), ('merchandice', 1), ('yoputube', 1), ('tuber', 1), ('nightscape', 1), ('ylutube', 1), ('toobe', 1), ('youteb', 1), ('=$6_*//*_', 1), ('3x', 1), ('sourcing', 1), ('earphones', 1), ('coca', 1), ('cola', 1), ('Clear', 1), ('pics', 1), ('types', 1), ('blue', 1), ('diary', 1), ('merchqndise', 1), ('Samsung', 1), ('65\"', 1), ('Class', 1), ('(64.5\"', 1), ('Diag.)', 1), ('Curved', 1), ('2160p', 1), ('Smart', 1), ('4K', 1), ('Ultra', 1), ('HD', 1), ('TV', 1), ('High', 1), ('Dynamic', 1), ('Range', 1), ('Model:', 1), ('UN65MU8500FXZASKU:', 1), ('5773708', 1), ('www.Google/', 1), ('california', 1), ('germany', 1), ('googlem', 1), ('ютцуб', 1), ('www.you', 1), ('tube.be', 1), ('0', 1), ('กูเกิ้ง', 1), ('ยูทุป', 1), ('http://shop.googlemerchandiserstore.com/', 1), ('hq', 1), ('s5icker', 1), ('wwwwgogol', 1), ('gogoel', 1), ('gooole', 1), ('head', 1), ('gear', 1), ('todu', 1), ('youtueb', 1), ('merchanise', 1), ('shop.googlemerchandise.com', 1), ('https://goo.gl/1jv9r3', 1), ('unspeakable', 1), ('buisness', 1), ('dublin', 1), ('шоп', 1), ('googlemerchandisestore.com', 1), ('online.com', 1), ('Varsity', 1), ('Jackets', 1), ('USA', 1), ('Gmail.com', 1), ('bois', 1), ('raymona', 1), ('hoodies', 1), ('mr', 1), ('boys', 1), ('what.can', 1), ('write', 1), ('family?', 1), ('packs', 1), ('original', 1), ('fyoutube', 1), ('oyutube', 1), ('exsesorys', 1), ('yuotuybe', 1), ('s', 1), ('outerwear', 1), ('lupa', 1), ('يوتتوب', 1), ('+apparel', 1), ('google_n', 1), ('+water', 1), ('+bottle', 1), ('drink', 1), ('yuotub', 1), ('yoyitbe', 1), ('googls', 1), ('pet', 1), ('feeding', 1), ('suka', 1), ('www.gool', 1), ('www.google.combiju', 1), ('ka', 1), ('toodlee', 1), ('mechanidise', 1), ('cam', 1), ('outdoor', 1), ('grey', 1), ('fleece', 1), ('tore', 1), ('italia', 1), ('googlexxxt', 1), ('staore', 1), ('+tshirt', 1), ('yutubr', 1), ('Mountain', 1), ('View,', 1), ('CA', 1), ('\"youtube\"', 1), ('sis', 1), ('written', 1), ('youtbre', 1), ('support', 1), ('luggage', 1), ('tag', 1), ('tu', 1), ('samsung', 1), ('https://www.googlemerchandisestore.com/Google+Redesign/Brands/Android/Android+Ladies+3D+Hoodie.axd?cid=1025', 1), ('https://www.googlemerchandisestore.com/Google+Redesign/Wearables/Women+s+T-Shirts/Ladies+Classic+V-Neck+T-Shirt.axd', 1), ('bike', 1), ('meechantise', 1), ('custom', 1), ('www.how', 1), ('make', 1), ('whaite', 1), ('download', 1), ('यूट्यूब', 1), ('precious', 1), ('cargo', 1), ('cars', 1), ('waze', 1), ('window', 1), ('cling', 1), ('MERCHANDISE', 1), ('fanish', 1), ('ca', 1), ('googpe', 1), ('pack', 1), ('youtuv', 1), ('BBCSP', 1), ('OR', 1), ('bag-google.com', 1), ('loja', 1), ('stones', 1), ('gogglemerchendise', 1), ('co', 1), ('goolg', 1), ('tubw', 1), ('youtuob', 1), ('युतुब', 1), ('आनलाइन', 1), ('YouTuber', 1), ('link', 1), ('www.YuyTub.stor.com', 1), ('YOuTube', 1), ('noveraproduct/onlineshop.com', 1), ('earn', 1), ('merchnadise', 1), ('googleshop', 1), ('googledevelopers', 1), ('shop.google', 1), ('+men', 1), ('+jackets', 1), ('tall', 1), ('Men', 1), ('full', 1), ('firebase', 1), ('ypurube', 1), ('yoyu', 1), ('yotub', 1), ('yutbe', 1), ('youyubr', 1), ('web', 1), ('sk', 1), ('singapore', 1), ('marchidise', 1), ('WWW.GOOGLE', 1), ('ki', 1), ('spingball', 1), ('tshrt', 1), ('AOID', 1), ('paraphernalia', 1), ('www.googly.com', 1), ('greece', 1), ('Googl.e.www.com.baf', 1), ('yoytube', 1), ('Laptop', 1), ('Cell', 1), ('Phone', 1), ('Stickers', 1), ('hosel', 1), ('nanpur', 1), ('market', 1), ('sohe', 1), ('hangouts', 1), ('work', 1), ('san', 1), ('francisco', 1), ('https://store.google.com', 1), ('nederland', 1), ('guides', 1), ('close', 1), ('youtuybe', 1), ('toutube', 1), ('yube', 1), ('wwwgougle', 1), ('lather', 1), ('+google.com', 1), ('yuube', 1), ('Goglesyoutube', 1), ('youtubve', 1), ('yyoutubr', 1), ('koleksi', 1), ('di', 1), ('rumah', 1), ('ayakan', 1), ('wonogiri', 1), ('www.googlemerchandisestore', 1), ('tlote', 1), ('black', 1), ('2ysIRLovuNNetSjq', 1), ('Tシャツ', 1), ('グーグル', 1), ('www.Goodlg.Bag.Com', 1), ('рюкзак', 1), ('soter', 1), ('tshrit', 1), ('LINE', 1), ('bicycle', 1), ('Goigle', 1), ('thuruth.com', 1), ('play.googgle.com/store/', 1), ('Eso', 1), ('18', 1), ('google-youtube', 1), ('or', 1), ('googi', 1), ('england', 1), ('ship', 1), ('apo?', 1), ('note', 1), ('book', 1), ('pens', 1), ('ypytub', 1), ('youtuhe', 1), ('thube', 1), ('youtbe', 1), ('youtub3', 1), ('hyouutbe', 1), ('yotutube.com', 1), ('indian', 1), ('googoe', 1), ('foogle', 1), ('merchamfise', 1), ('mod', 1), ('tri', 1), ('merchaindise', 1), ('headquarters', 1), ('merchand', 1), ('diginext', 1), ('shit', 1), ('Jira', 1), ('awesome', 1), ('pirate', 1), ('graphic', 1), ('category_l1==536', 1), ('fanware', 1), ('clause', 1), ('goolde', 1), ('prys', 1), ('+mug', 1), ('+backpacks', 1), (\"+men's\", 1), ('+jacket', 1), ('been', 1), ('guide', 1), ('gym', 1), ('offic', 1), ('at', 1), ('youtunr', 1), ('youtubbe', 1), ('youtrube', 1), ('oy', 1), ('yooutubbe', 1), ('youyu', 1), ('yoiutube', 1), ('yoututbe', 1), ('yutubey', 1), ('youtgube', 1), ('youtun', 1), ('zivotinjski', 1), ('sbjet', 1), ('arktika', 1), ('WATR', 1), ('BOTL', 1), ('HAI', 1), ('KAWALTI', 1), ('W', 1), ('Stylus', 1), ('Pen', 1), ('w/', 1), ('Light', 1), ('tubi', 1), ('4', 1), ('foot', 1), ('offices', 1), ('goofle', 1), ('yotue', 1), ('youtonbe', 1), ('yub', 1), ('googlee', 1), ('16', 1), ('25', 1), ('fold', 1), ('up', 1), ('+apperal', 1), ('Www', 1), ('doosle', 1), ('Ютуб', 1), ('Сторе', 1), ('youttube', 1), ('YOUtube', 1), ('watermelon', 1), ('style', 1), ('bean', 1), ('chair', 1), ('im', 1), ('रेड', 1), ('टुब', 1), ('baseball', 1), ('gifts', 1), ('sign', 1), ('tubeo', 1), ('tsgirt', 1), ('youurbe', 1), ('tupe', 1), ('YUTUB', 1), ('FILME', 1), ('ONLINE', 1), ('XXXL', 1), ('yutubu', 1), ('corl', 1), ('Google.sihllog.tee', 1), ('.CLOTH.COM', 1), ('C&A', 1), ('mascolina', 1), ('desenho', 1), ('atras', 1), ('tishirt', 1), ('u5sQvJGpOsPeJ3pi', 1), ('going', 1), ('Shirts', 1), ('smartphone', 1), ('neue', 1), ('googlebags.in', 1), ('pouch', 1), ('printed', 1), ('cheapest', 1), ('mammos', 1), ('violet/red', 1), ('ideas', 1), ('electronics', 1), ('electronic', 1), ('yutub', 1), ('yotjbe', 1), ('yobe', 1), ('tuvbe', 1), ('paly', 1), ('shrits', 1), ('Merchandaise', 1), ('Google,', 1), ('wireless', 1), ('shirts.com', 1), ('hyderabad', 1), ('rrat', 1), ('shope', 1), ('url', 1), ('address', 1), ('open', 1), ('www.gogel.de', 1), ('ggogle', 1), ('goglee', 1), ('jutube', 1), ('+the', 1), ('hats', 1), ('youth', 1), ('google/ur45', 1), ('+bags', 1), ('Tube', 1), ('flashlight', 1), ('stuff', 1), ('merchendi', 1), ('sestore', 1), ('crhome', 1), ('ytube', 1), ('attire', 1), ('tub', 1), ('youtob', 1), ('yiouutbe', 1), ('tuybe', 1), ('-site:youtube.com', 1), ('youtubeo', 1), ('cotton', 1), ('haritage', 1), ('factury', 1), ('Bangladeshi', 1), ('what', 1), ('www.', 1), ('teeo', 1), ('99.', 1), ('Cnm', 1), ('wakazapost', 1), ('tishet', 1), ('green', 1), ('магазины', 1), ('от', 1), ('españa', 1), ('neo', 1), ('96547565', 1), ('tracking', 1), ('pls', 1), ('search', 1), ('pad', 1), ('insulated', 1), ('tumbler', 1), ('raglan', 1), ('handheld', 1), ('nesting', 1), ('shirs', 1), ('youyuve', 1), ('customer', 1), ('service', 1), ('oprahistoryhttps://m.youtube.com', 1), ('conm', 1), ('gogle.', 1), ('yt', 1), ('now', 1), ('drinkware', 1), ('Yutu', 1), ('yotup', 1), ('yuutube', 1), ('tue', 1), ('yotubre', 1), ('youtu', 1), ('can', 1), ('find', 1), ('keyboard', 1), ('gwt', 1), ('firevade', 1), ('side', 1), ('zipper', 1), ('win', 1), ('www.co.uk', 1), ('Shap', 1), ('figure', 1), ('turquoise', 1), ('bagpacks', 1), ('tu8be', 1), ('en', 1), ('half', 1), ('Hoff', 1), ('sirts', 1), ('goole', 1), ('google,', 1), ('belfry', 1), ('wiomw', 1), ('youtuop', 1), ('Seattle', 1), ('polo.shirtay.google.com', 1), ('infuse', 1), ('basket', 1), ('b', 1), ('store.sg', 1), ('youtbue', 1), ('yiutube', 1), ('youtouop', 1), ('yuuutbe', 1), ('toub', 1), ('youtubd', 1), ('yourubw', 1), ('youtubwe', 1), ('T-Shirt', 1), ('Anastasia', 1), ('Sotro', 1), ('lekha', 1), ('zdillog', 1), ('Android', 1), ('8', 1), ('36', 1), ('inch', 1), ('+pets', 1), ('+mugs', 1), ('https://www.googlemerchandisestore.com/Google+Redesign/Accessories/', 1), ('category_l1==222', 1), ('much', 1), ('cost', 1), ('Buy', 1), ('caps', 1), ('gòogle', 1), ('Googlestore.com', 1), ('ireland', 1), ('Plus', 1), ('goohgle', 1), ('Spain', 1), ('everyone', 1), ('Martina', 1), ('wake', 1), ('বৈশাখী', 1), ('স্টিকার', 1), ('disine', 1), ('yhbe', 1), ('yuoutube', 1), ('youtubew', 1), ('youtobe', 1), ('hyoutube', 1), ('youtyube', 1), ('yougube', 1), ('yutobbe', 1), ('tuble', 1), ('luxury', 1), ('gtoogle', 1), ('STORE', 1), ('Male', 1), ('mustributer', 1), ('shop.goohle', 1), ('girls', 1), ('+mens', 1), ('+sunglasses', 1), ('headphone', 1), ('we', 1), ('The', 1), ('account', 1), ('3rd', 1), ('generation', 1), ('youitube', 1), ('googlehoodies', 1), ('lerchande', 1), ('yptube', 1), ('brands', 1), ('aus', 1), ('set', 1), ('seekrz', 1), ('standlate', 1), ('Snop', 1), ('Yotub', 1), ('Dgfan', 1), ('Digital', 1), ('Recorder', 1), ('page', 1), ('trucker', 1), ('R39', 1), ('ses', 1), ('flat', 1), ('top', 1), ('there', 1), ('tob', 1), ('youtubei', 1), ('www.powernank', 1), ('elotronics.com', 1), ('youtebu', 1), ('ube', 1), ('http://bit.ly/2aJJCCP', 1), ('will', 1), ('?', 1), (\"men's\", 1), ('tienda', 1), ('https://www.googlemerchandisestore.com/Google+Redesign/Accessories/Drinkware/Clear+Water+Bottle.axd?page_no=2', 1), ('youtupe', 1), ('extended', 1), ('Teeshirts/google', 1), ('female', 1), ('outside', 1), ('map', 1), ('https://www.theverge.com/2018/1/19/16911408/vr-chat-virtual-reality-seizure', 1), ('os', 1), ('andro', 1), ('shoping', 1), ('yoou', 1), ('yoiu', 1), ('tyoutuhe', 1), ('yutobe', 1), ('edu', 1), ('Bicycle', 1), ('FamilySearch', 1), ('Logo', 1), ('Sale', 1), ('cart', 1), ('youtgbe', 1), ('tshart', 1), ('On', 1), ('SOP', 1), ('gaagle', 1), ('youytube', 1), ('ytobe', 1), ('yputbe', 1), ('own', 1), ('chanel', 1), ('name', 1), ('tubbe', 1), ('bd', 1), ('Mens', 1), ('rucksack', 1), ('ti', 1), ('allo', 1), ('dress', 1), ('orders', 1), ('nose', 1), ('kart', 1), ('purchase', 1), ('balm', 1), ('product', 1), ('logos', 1), ('america', 1), ('youtyue', 1), ('merch\\\\', 1), ('yıutube', 1), ('youtuve', 1), ('cloths', 1), ('thareral', 1), ('yuotup', 1), ('youtuvb', 1), ('youtb', 1), ('yoyutube', 1), ('tebe', 1), ('tuv', 1), ('youm', 1), ('tubne', 1), ('mat', 1), ('shop.on', 1), ('fitness', 1), ('youttubel', 1), ('Redesign', 1), ('Amazone', 1), ('sungless', 1), ('storee', 1), ('iotub', 1), ('youtubw', 1), ('tyoutub', 1), ('youyrube', 1), ('yutupyoutube', 1), ('hyutube', 1), ('picture', 1), ('এর', 1), ('পূর্নরুপ', 1), ('power', 1), ('bank', 1), ('Fyoutube', 1), ('woman', 1), ('bearing', 1), ('.Com.Google.', 1), ('flame', 1), ('dexati', 1), (\"Men's\", 1), ('Googels', 1), ('headgear', 1), ('sweatershirt', 1), ('sverige', 1), ('yotube', 1), ('argos', 1), ('utuber', 1), ('pagina', 1), ('de', 1), ('accesoris', 1), ('MAN', 1), ('marchendise', 1)]\n"
     ]
    }
   ],
   "source": [
    "word_counts_sorted = sorted(word_counts.items(), key=lambda kv: kv[1], reverse=True)\n",
    "print(word_counts_sorted)"
   ]
  },
  {
   "cell_type": "code",
   "execution_count": 13,
   "metadata": {},
   "outputs": [
    {
     "name": "stdout",
     "output_type": "stream",
     "text": [
      "433     1\n",
      "550     1\n",
      "555     1\n",
      "597     1\n",
      "619     1\n",
      "634     1\n",
      "650     1\n",
      "654     1\n",
      "657     1\n",
      "659     1\n",
      "665     1\n",
      "670     1\n",
      "678     1\n",
      "684     1\n",
      "685     1\n",
      "692     1\n",
      "694     1\n",
      "698     1\n",
      "699     1\n",
      "701     1\n",
      "709     1\n",
      "713     1\n",
      "715     1\n",
      "716     1\n",
      "4331    1\n",
      "4340    1\n",
      "4382    1\n",
      "4386    1\n",
      "4444    1\n",
      "4450    1\n",
      "4474    1\n",
      "4492    1\n",
      "4507    1\n",
      "4508    1\n",
      "4515    1\n",
      "4516    1\n",
      "4536    2\n",
      "4554    1\n",
      "4557    1\n",
      "4558    1\n",
      "4582    1\n",
      "4583    1\n",
      "4592    1\n",
      "4603    1\n",
      "4604    1\n",
      "4609    1\n",
      "4611    1\n",
      "4619    1\n",
      "4624    1\n",
      "4637    1\n",
      "4638    1\n",
      "4639    2\n",
      "4645    1\n",
      "4647    2\n",
      "6080    1\n",
      "6109    1\n",
      "6207    1\n",
      "6212    1\n",
      "6286    1\n",
      "6289    1\n",
      "Name: totals.transactions, dtype: object\n"
     ]
    }
   ],
   "source": [
    "trans = df_small['totals.transactions'].dropna()\n",
    "print(trans[:60])"
   ]
  },
  {
   "cell_type": "code",
   "execution_count": 14,
   "metadata": {},
   "outputs": [],
   "source": [
    "customer1 = df_small.iloc[4536]"
   ]
  },
  {
   "cell_type": "code",
   "execution_count": 15,
   "metadata": {},
   "outputs": [],
   "source": [
    "# df_small.hist(column='totals.visits', by='fullVisitorId')"
   ]
  },
  {
   "cell_type": "code",
   "execution_count": 16,
   "metadata": {},
   "outputs": [
    {
     "name": "stdout",
     "output_type": "stream",
     "text": [
      "[{'hitNumber': '1', 'time': '0', 'hour': '10', 'minute': '31', 'isInteraction': True, 'isEntrance': True, 'page': {'pagePath': '/google+redesign/drinkware/android+17oz+stainless+steel+sport+bottle.axd', 'hostname': 'shop.googlemerchandisestore.com', 'pageTitle': 'Android 17oz Stainless Steel Sport Bottle', 'pagePathLevel1': '/google+redesign/', 'pagePathLevel2': '/drinkware/', 'pagePathLevel3': '/android+17oz+stainless+steel+sport+bottle.axd', 'pagePathLevel4': ''}, 'transaction': {'currencyCode': 'USD'}, 'item': {'currencyCode': 'USD'}, 'appInfo': {'screenName': 'shop.googlemerchandisestore.com/google+redesign/drinkware/android+17oz+stainless+steel+sport+bottle.axd', 'landingScreenName': 'shop.googlemerchandisestore.com/google+redesign/drinkware/android+17oz+stainless+steel+sport+bottle.axd', 'exitScreenName': 'shop.googlemerchandisestore.com/ordercompleted.html', 'screenDepth': '0'}, 'exceptionInfo': {'isFatal': True}, 'product': [{'productSKU': '9180793', 'v2ProductName': '26 oz Double Wall Insulated Bottle', 'v2ProductCategory': '(not set)', 'productVariant': '(not set)', 'productBrand': '(not set)', 'productPrice': '0', 'localProductPrice': '0', 'isImpression': True, 'customDimensions': [], 'customMetrics': [], 'productListName': 'Related Products', 'productListPosition': '1'}, {'productSKU': '9182559', 'v2ProductName': \"Android Men's Vintage Henley\", 'v2ProductCategory': '(not set)', 'productVariant': '(not set)', 'productBrand': '(not set)', 'productPrice': '0', 'localProductPrice': '0', 'isImpression': True, 'customDimensions': [], 'customMetrics': [], 'productListName': 'Related Products', 'productListPosition': '2'}, {'productSKU': '9180818', 'v2ProductName': 'Keyboard DOT Sticker', 'v2ProductCategory': '(not set)', 'productVariant': '(not set)', 'productBrand': '(not set)', 'productPrice': '0', 'localProductPrice': '0', 'isImpression': True, 'customDimensions': [], 'customMetrics': [], 'productListName': 'Related Products', 'productListPosition': '3'}], 'promotion': [], 'eCommerceAction': {'action_type': '0', 'step': '1'}, 'experiment': [], 'customVariables': [], 'customDimensions': [], 'customMetrics': [], 'type': 'PAGE', 'social': {'socialNetwork': '(not set)', 'hasSocialSourceReferral': 'No', 'socialInteractionNetworkAction': ' : '}, 'contentGroup': {'contentGroup1': '(not set)', 'contentGroup2': 'Drinkware', 'contentGroup3': '(not set)', 'contentGroup4': '(not set)', 'contentGroup5': '(not set)', 'previousContentGroup1': '(entrance)', 'previousContentGroup2': '(entrance)', 'previousContentGroup3': '(entrance)', 'previousContentGroup4': '(entrance)', 'previousContentGroup5': '(entrance)', 'contentGroupUniqueViews2': '1'}, 'publisher_infos': []}, {'hitNumber': '2', 'time': '15800', 'hour': '10', 'minute': '31', 'isInteraction': True, 'page': {'pagePath': '/google+redesign/drinkware/android+17oz+stainless+steel+sport+bottle.axd', 'hostname': 'shop.googlemerchandisestore.com', 'pageTitle': 'Android 17oz Stainless Steel Sport Bottle', 'pagePathLevel1': '/google+redesign/', 'pagePathLevel2': '/drinkware/', 'pagePathLevel3': '/android+17oz+stainless+steel+sport+bottle.axd', 'pagePathLevel4': ''}, 'transaction': {'currencyCode': 'USD'}, 'item': {'currencyCode': 'USD'}, 'appInfo': {'screenName': 'shop.googlemerchandisestore.com/google+redesign/drinkware/android+17oz+stainless+steel+sport+bottle.axd', 'landingScreenName': 'shop.googlemerchandisestore.com/google+redesign/drinkware/android+17oz+stainless+steel+sport+bottle.axd', 'exitScreenName': 'shop.googlemerchandisestore.com/ordercompleted.html', 'screenDepth': '0'}, 'exceptionInfo': {'isFatal': True}, 'eventInfo': {'eventCategory': 'Enhanced Ecommerce', 'eventAction': 'Add to Cart'}, 'product': [{'productSKU': 'GGOEADHH073999', 'v2ProductName': 'Android 17oz Stainless Steel Sport Bottle', 'v2ProductCategory': '${escCatTitle}', 'productVariant': '(not set)', 'productBrand': '(not set)', 'productPrice': '18990000', 'localProductPrice': '18990000', 'productQuantity': '75', 'customDimensions': [], 'customMetrics': [], 'productListName': '(not set)', 'productListPosition': '0'}], 'promotion': [], 'eCommerceAction': {'action_type': '3', 'step': '1'}, 'experiment': [], 'customVariables': [], 'customDimensions': [], 'customMetrics': [], 'type': 'EVENT', 'social': {'socialNetwork': '(not set)', 'hasSocialSourceReferral': 'No', 'socialInteractionNetworkAction': ' : '}, 'contentGroup': {'contentGroup1': '(not set)', 'contentGroup2': 'Drinkware', 'contentGroup3': '(not set)', 'contentGroup4': '(not set)', 'contentGroup5': '(not set)', 'previousContentGroup1': '(not set)', 'previousContentGroup2': 'Drinkware', 'previousContentGroup3': '(not set)', 'previousContentGroup4': '(not set)', 'previousContentGroup5': '(not set)'}, 'publisher_infos': []}, {'hitNumber': '3', 'time': '18249', 'hour': '10', 'minute': '31', 'isInteraction': True, 'page': {'pagePath': '/basket.html', 'hostname': 'shop.googlemerchandisestore.com', 'pageTitle': 'Shopping Cart', 'pagePathLevel1': '/basket.html', 'pagePathLevel2': '', 'pagePathLevel3': '', 'pagePathLevel4': ''}, 'appInfo': {'screenName': 'shop.googlemerchandisestore.com/basket.html', 'landingScreenName': 'shop.googlemerchandisestore.com/google+redesign/drinkware/android+17oz+stainless+steel+sport+bottle.axd', 'exitScreenName': 'shop.googlemerchandisestore.com/ordercompleted.html', 'screenDepth': '0'}, 'exceptionInfo': {'isFatal': True}, 'product': [], 'promotion': [], 'eCommerceAction': {'action_type': '0', 'step': '1'}, 'experiment': [], 'customVariables': [], 'customDimensions': [], 'customMetrics': [], 'type': 'PAGE', 'social': {'socialNetwork': '(not set)', 'hasSocialSourceReferral': 'No', 'socialInteractionNetworkAction': ' : '}, 'contentGroup': {'contentGroup1': '(not set)', 'contentGroup2': '(not set)', 'contentGroup3': '(not set)', 'contentGroup4': '(not set)', 'contentGroup5': '(not set)', 'previousContentGroup1': '(not set)', 'previousContentGroup2': 'Drinkware', 'previousContentGroup3': '(not set)', 'previousContentGroup4': '(not set)', 'previousContentGroup5': '(not set)'}, 'publisher_infos': []}, {'hitNumber': '4', 'time': '52367', 'hour': '10', 'minute': '32', 'isInteraction': True, 'page': {'pagePath': '/basket.html', 'hostname': 'shop.googlemerchandisestore.com', 'pageTitle': 'Shopping Cart', 'pagePathLevel1': '/basket.html', 'pagePathLevel2': '', 'pagePathLevel3': '', 'pagePathLevel4': ''}, 'appInfo': {'screenName': 'shop.googlemerchandisestore.com/basket.html', 'landingScreenName': 'shop.googlemerchandisestore.com/google+redesign/drinkware/android+17oz+stainless+steel+sport+bottle.axd', 'exitScreenName': 'shop.googlemerchandisestore.com/ordercompleted.html', 'screenDepth': '0'}, 'exceptionInfo': {'isFatal': True}, 'product': [], 'promotion': [], 'eCommerceAction': {'action_type': '0', 'step': '1'}, 'experiment': [], 'customVariables': [], 'customDimensions': [], 'customMetrics': [], 'type': 'PAGE', 'social': {'socialNetwork': '(not set)', 'hasSocialSourceReferral': 'No', 'socialInteractionNetworkAction': ' : '}, 'contentGroup': {'contentGroup1': '(not set)', 'contentGroup2': '(not set)', 'contentGroup3': '(not set)', 'contentGroup4': '(not set)', 'contentGroup5': '(not set)', 'previousContentGroup1': '(not set)', 'previousContentGroup2': 'Drinkware', 'previousContentGroup3': '(not set)', 'previousContentGroup4': '(not set)', 'previousContentGroup5': '(not set)'}, 'publisher_infos': []}, {'hitNumber': '5', 'time': '89793', 'hour': '10', 'minute': '32', 'isInteraction': True, 'page': {'pagePath': '/signin.html', 'hostname': 'shop.googlemerchandisestore.com', 'pageTitle': 'The Google Merchandise Store - Log In', 'pagePathLevel1': '/signin.html', 'pagePathLevel2': '', 'pagePathLevel3': '', 'pagePathLevel4': ''}, 'appInfo': {'screenName': 'shop.googlemerchandisestore.com/signin.html', 'landingScreenName': 'shop.googlemerchandisestore.com/google+redesign/drinkware/android+17oz+stainless+steel+sport+bottle.axd', 'exitScreenName': 'shop.googlemerchandisestore.com/ordercompleted.html', 'screenDepth': '0'}, 'exceptionInfo': {'isFatal': True}, 'product': [], 'promotion': [], 'eCommerceAction': {'action_type': '0', 'step': '1'}, 'experiment': [], 'customVariables': [], 'customDimensions': [], 'customMetrics': [], 'type': 'PAGE', 'social': {'socialNetwork': '(not set)', 'hasSocialSourceReferral': 'No', 'socialInteractionNetworkAction': ' : '}, 'contentGroup': {'contentGroup1': '(not set)', 'contentGroup2': '(not set)', 'contentGroup3': '(not set)', 'contentGroup4': '(not set)', 'contentGroup5': '(not set)', 'previousContentGroup1': '(not set)', 'previousContentGroup2': 'Drinkware', 'previousContentGroup3': '(not set)', 'previousContentGroup4': '(not set)', 'previousContentGroup5': '(not set)'}, 'publisher_infos': []}, {'hitNumber': '6', 'time': '98170', 'hour': '10', 'minute': '33', 'isInteraction': True, 'page': {'pagePath': '/register.html', 'hostname': 'shop.googlemerchandisestore.com', 'pageTitle': 'The Google Merchandise Store - Register', 'pagePathLevel1': '/register.html', 'pagePathLevel2': '', 'pagePathLevel3': '', 'pagePathLevel4': ''}, 'appInfo': {'screenName': 'shop.googlemerchandisestore.com/register.html', 'landingScreenName': 'shop.googlemerchandisestore.com/google+redesign/drinkware/android+17oz+stainless+steel+sport+bottle.axd', 'exitScreenName': 'shop.googlemerchandisestore.com/ordercompleted.html', 'screenDepth': '0'}, 'exceptionInfo': {'isFatal': True}, 'product': [], 'promotion': [], 'eCommerceAction': {'action_type': '0', 'step': '1'}, 'experiment': [], 'customVariables': [], 'customDimensions': [], 'customMetrics': [], 'type': 'PAGE', 'social': {'socialNetwork': '(not set)', 'hasSocialSourceReferral': 'No', 'socialInteractionNetworkAction': ' : '}, 'contentGroup': {'contentGroup1': '(not set)', 'contentGroup2': '(not set)', 'contentGroup3': '(not set)', 'contentGroup4': '(not set)', 'contentGroup5': '(not set)', 'previousContentGroup1': '(not set)', 'previousContentGroup2': 'Drinkware', 'previousContentGroup3': '(not set)', 'previousContentGroup4': '(not set)', 'previousContentGroup5': '(not set)'}, 'publisher_infos': []}, {'hitNumber': '7', 'time': '139725', 'hour': '10', 'minute': '33', 'isInteraction': True, 'page': {'pagePath': '/payment.html', 'hostname': 'shop.googlemerchandisestore.com', 'pageTitle': 'Payment Method', 'pagePathLevel1': '/payment.html', 'pagePathLevel2': '', 'pagePathLevel3': '', 'pagePathLevel4': ''}, 'transaction': {'currencyCode': 'USD'}, 'item': {'currencyCode': 'USD'}, 'appInfo': {'screenName': 'shop.googlemerchandisestore.com/payment.html', 'landingScreenName': 'shop.googlemerchandisestore.com/google+redesign/drinkware/android+17oz+stainless+steel+sport+bottle.axd', 'exitScreenName': 'shop.googlemerchandisestore.com/ordercompleted.html', 'screenDepth': '0'}, 'exceptionInfo': {'isFatal': True}, 'product': [{'productSKU': 'GGOEADHH073999', 'v2ProductName': 'Android 17oz Stainless Steel Sport Bottle', 'v2ProductCategory': '(not set)', 'productVariant': 'Single Option Only', 'productBrand': '(not set)', 'productPrice': '1424000', 'localProductPrice': '1424000', 'customDimensions': [], 'customMetrics': [], 'productListName': '(not set)', 'productListPosition': '0'}], 'promotion': [], 'eCommerceAction': {'action_type': '5', 'step': '2', 'option': 'Payment'}, 'experiment': [], 'customVariables': [], 'customDimensions': [], 'customMetrics': [], 'type': 'PAGE', 'social': {'socialNetwork': '(not set)', 'hasSocialSourceReferral': 'No', 'socialInteractionNetworkAction': ' : '}, 'contentGroup': {'contentGroup1': '(not set)', 'contentGroup2': '(not set)', 'contentGroup3': '(not set)', 'contentGroup4': '(not set)', 'contentGroup5': '(not set)', 'previousContentGroup1': '(not set)', 'previousContentGroup2': 'Drinkware', 'previousContentGroup3': '(not set)', 'previousContentGroup4': '(not set)', 'previousContentGroup5': '(not set)'}, 'publisher_infos': []}, {'hitNumber': '8', 'time': '254743', 'hour': '10', 'minute': '35', 'isInteraction': True, 'page': {'pagePath': '/revieworder.html', 'hostname': 'shop.googlemerchandisestore.com', 'pageTitle': 'Checkout Review', 'pagePathLevel1': '/revieworder.html', 'pagePathLevel2': '', 'pagePathLevel3': '', 'pagePathLevel4': ''}, 'transaction': {'currencyCode': 'USD'}, 'item': {'currencyCode': 'USD'}, 'appInfo': {'screenName': 'shop.googlemerchandisestore.com/revieworder.html', 'landingScreenName': 'shop.googlemerchandisestore.com/google+redesign/drinkware/android+17oz+stainless+steel+sport+bottle.axd', 'exitScreenName': 'shop.googlemerchandisestore.com/ordercompleted.html', 'screenDepth': '0'}, 'exceptionInfo': {'isFatal': True}, 'product': [{'productSKU': 'GGOEADHH073999', 'v2ProductName': 'Android 17oz Stainless Steel Sport Bottle', 'v2ProductCategory': '(not set)', 'productVariant': 'Single Option Only', 'productBrand': '(not set)', 'productPrice': '1424000', 'localProductPrice': '1424000', 'customDimensions': [], 'customMetrics': [], 'productListName': '(not set)', 'productListPosition': '0'}], 'promotion': [], 'eCommerceAction': {'action_type': '5', 'step': '3', 'option': 'Review'}, 'experiment': [], 'customVariables': [], 'customDimensions': [], 'customMetrics': [], 'type': 'PAGE', 'social': {'socialNetwork': '(not set)', 'hasSocialSourceReferral': 'No', 'socialInteractionNetworkAction': ' : '}, 'contentGroup': {'contentGroup1': '(not set)', 'contentGroup2': '(not set)', 'contentGroup3': '(not set)', 'contentGroup4': '(not set)', 'contentGroup5': '(not set)', 'previousContentGroup1': '(not set)', 'previousContentGroup2': 'Drinkware', 'previousContentGroup3': '(not set)', 'previousContentGroup4': '(not set)', 'previousContentGroup5': '(not set)'}, 'publisher_infos': []}, {'hitNumber': '9', 'time': '293707', 'hour': '10', 'minute': '36', 'isInteraction': True, 'page': {'pagePath': '/ordercompleted.html', 'hostname': 'shop.googlemerchandisestore.com', 'pageTitle': 'Checkout Confirmation', 'pagePathLevel1': '/ordercompleted.html', 'pagePathLevel2': '', 'pagePathLevel3': '', 'pagePathLevel4': ''}, 'transaction': {'transactionId': 'ORD201609021547', 'transactionRevenue': '1557370000', 'transactionTax': '126620000', 'transactionShipping': '8500000', 'affiliation': 'Google Merchandise Store', 'currencyCode': 'USD', 'localTransactionRevenue': '1557370000', 'localTransactionTax': '126620000', 'localTransactionShipping': '8500000'}, 'item': {'transactionId': 'ORD201609021547', 'currencyCode': 'USD'}, 'appInfo': {'screenName': 'shop.googlemerchandisestore.com/ordercompleted.html', 'landingScreenName': 'shop.googlemerchandisestore.com/google+redesign/drinkware/android+17oz+stainless+steel+sport+bottle.axd', 'exitScreenName': 'shop.googlemerchandisestore.com/ordercompleted.html', 'screenDepth': '0'}, 'exceptionInfo': {'isFatal': True}, 'product': [{'productSKU': 'GGOEADHH073999', 'v2ProductName': 'Android 17oz Stainless Steel Sport Bottle', 'v2ProductCategory': '(not set)', 'productVariant': 'Single Option Only', 'productBrand': '(not set)', 'productRevenue': '1426250000', 'localProductRevenue': '1426250000', 'productPrice': '18990000', 'localProductPrice': '18990000', 'productQuantity': '75', 'customDimensions': [], 'customMetrics': [], 'productListName': '(not set)', 'productListPosition': '0'}], 'promotion': [], 'eCommerceAction': {'action_type': '6', 'step': '1'}, 'experiment': [], 'customVariables': [], 'customDimensions': [], 'customMetrics': [], 'type': 'PAGE', 'social': {'socialNetwork': '(not set)', 'hasSocialSourceReferral': 'No', 'socialInteractionNetworkAction': ' : '}, 'contentGroup': {'contentGroup1': '(not set)', 'contentGroup2': '(not set)', 'contentGroup3': '(not set)', 'contentGroup4': '(not set)', 'contentGroup5': '(not set)', 'previousContentGroup1': '(not set)', 'previousContentGroup2': 'Drinkware', 'previousContentGroup3': '(not set)', 'previousContentGroup4': '(not set)', 'previousContentGroup5': '(not set)'}, 'publisher_infos': []}, {'hitNumber': '10', 'time': '293745', 'hour': '10', 'minute': '36', 'isInteraction': True, 'page': {'pagePath': '/ordercompleted.html', 'hostname': 'shop.googlemerchandisestore.com', 'pageTitle': 'Checkout Confirmation', 'pagePathLevel1': '/ordercompleted.html', 'pagePathLevel2': '', 'pagePathLevel3': '', 'pagePathLevel4': ''}, 'transaction': {'transactionId': 'ORD201609021547', 'affiliation': 'Google Merchandise Store', 'currencyCode': 'USD'}, 'item': {'transactionId': 'ORD201609021547', 'currencyCode': 'USD'}, 'appInfo': {'screenName': 'shop.googlemerchandisestore.com/ordercompleted.html', 'landingScreenName': 'shop.googlemerchandisestore.com/google+redesign/drinkware/android+17oz+stainless+steel+sport+bottle.axd', 'exitScreenName': 'shop.googlemerchandisestore.com/ordercompleted.html', 'screenDepth': '0'}, 'exceptionInfo': {'isFatal': True}, 'product': [{'productSKU': 'GGOEADHH073999', 'v2ProductName': 'Android 17oz Stainless Steel Sport Bottle', 'v2ProductCategory': '(not set)', 'productVariant': 'Single Option Only', 'productBrand': '(not set)', 'productPrice': '18990000', 'localProductPrice': '18990000', 'customDimensions': [], 'customMetrics': [], 'productListName': '(not set)', 'productListPosition': '0'}], 'promotion': [], 'eCommerceAction': {'action_type': '6', 'step': '1'}, 'experiment': [], 'customVariables': [], 'customDimensions': [], 'customMetrics': [], 'type': 'PAGE', 'social': {'socialNetwork': '(not set)', 'hasSocialSourceReferral': 'No', 'socialInteractionNetworkAction': ' : '}, 'contentGroup': {'contentGroup1': '(not set)', 'contentGroup2': '(not set)', 'contentGroup3': '(not set)', 'contentGroup4': '(not set)', 'contentGroup5': '(not set)', 'previousContentGroup1': '(not set)', 'previousContentGroup2': 'Drinkware', 'previousContentGroup3': '(not set)', 'previousContentGroup4': '(not set)', 'previousContentGroup5': '(not set)'}, 'publisher_infos': []}, {'hitNumber': '11', 'time': '318019', 'hour': '10', 'minute': '36', 'isInteraction': True, 'page': {'pagePath': '/google+redesign/drinkware', 'hostname': 'shop.googlemerchandisestore.com', 'pageTitle': 'Drinkware', 'pagePathLevel1': '/google+redesign/', 'pagePathLevel2': '/drinkware', 'pagePathLevel3': '', 'pagePathLevel4': ''}, 'transaction': {'currencyCode': 'USD'}, 'item': {'currencyCode': 'USD'}, 'appInfo': {'screenName': 'shop.googlemerchandisestore.com/google+redesign/drinkware', 'landingScreenName': 'shop.googlemerchandisestore.com/google+redesign/drinkware/android+17oz+stainless+steel+sport+bottle.axd', 'exitScreenName': 'shop.googlemerchandisestore.com/ordercompleted.html', 'screenDepth': '0'}, 'exceptionInfo': {'isFatal': True}, 'product': [{'productSKU': 'GGOEGDHQ014899', 'v2ProductName': '20 oz Stainless Steel Insulated Tumbler', 'v2ProductCategory': 'Home/Drinkware/', 'productVariant': '(not set)', 'productBrand': '(not set)', 'productPrice': '19990000', 'localProductPrice': '19990000', 'isImpression': True, 'customDimensions': [], 'customMetrics': [], 'productListName': 'Category', 'productListPosition': '1'}, {'productSKU': 'GGOEGDHC074099', 'v2ProductName': 'Google 17oz Stainless Steel Sport Bottle', 'v2ProductCategory': 'Home/Drinkware/', 'productVariant': '(not set)', 'productBrand': '(not set)', 'productPrice': '15190000', 'localProductPrice': '15190000', 'isImpression': True, 'customDimensions': [], 'customMetrics': [], 'productListName': 'Category', 'productListPosition': '2'}, {'productSKU': 'GGOEADHH073999', 'v2ProductName': 'Android 17oz Stainless Steel Sport Bottle', 'v2ProductCategory': 'Home/Drinkware/', 'productVariant': '(not set)', 'productBrand': '(not set)', 'productPrice': '15190000', 'localProductPrice': '15190000', 'isImpression': True, 'customDimensions': [], 'customMetrics': [], 'productListName': 'Category', 'productListPosition': '3'}, {'productSKU': 'GGOEADHB014799', 'v2ProductName': 'Android Glass Water Bottle with Black Sleeve', 'v2ProductCategory': 'Home/Drinkware/', 'productVariant': '(not set)', 'productBrand': '(not set)', 'productPrice': '10390000', 'localProductPrice': '10390000', 'isImpression': True, 'customDimensions': [], 'customMetrics': [], 'productListName': 'Category', 'productListPosition': '4'}, {'productSKU': 'GGOEADWQ015699', 'v2ProductName': 'Android Rise 14 oz Mug', 'v2ProductCategory': 'Home/Drinkware/', 'productVariant': '(not set)', 'productBrand': '(not set)', 'productPrice': '10390000', 'localProductPrice': '10390000', 'isImpression': True, 'customDimensions': [], 'customMetrics': [], 'productListName': 'Category', 'productListPosition': '5'}, {'productSKU': 'GGOEGDWR015799', 'v2ProductName': 'Red Shine 15 oz Mug', 'v2ProductCategory': 'Home/Drinkware/', 'productVariant': '(not set)', 'productBrand': '(not set)', 'productPrice': '10390000', 'localProductPrice': '10390000', 'isImpression': True, 'customDimensions': [], 'customMetrics': [], 'productListName': 'Category', 'productListPosition': '6'}, {'productSKU': 'GGOEGFPR113699', 'v2ProductName': '16 oz. Hot and Cold Tumbler', 'v2ProductCategory': 'Home/Drinkware/', 'productVariant': '(not set)', 'productBrand': '(not set)', 'productPrice': '8790000', 'localProductPrice': '8790000', 'isImpression': True, 'customDimensions': [], 'customMetrics': [], 'productListName': 'Category', 'productListPosition': '7'}, {'productSKU': 'GGOEGDHC015299', 'v2ProductName': '23 oz Wide Mouth Sport Bottle', 'v2ProductCategory': 'Home/Drinkware/', 'productVariant': '(not set)', 'productBrand': '(not set)', 'productPrice': '8790000', 'localProductPrice': '8790000', 'isImpression': True, 'customDimensions': [], 'customMetrics': [], 'productListName': 'Category', 'productListPosition': '8'}, {'productSKU': 'GGOEGDHC017999', 'v2ProductName': '24 oz USA Made Aluminum Bottle', 'v2ProductCategory': 'Home/Drinkware/', 'productVariant': '(not set)', 'productBrand': '(not set)', 'productPrice': '7990000', 'localProductPrice': '7990000', 'isImpression': True, 'customDimensions': [], 'customMetrics': [], 'productListName': 'Category', 'productListPosition': '9'}, {'productSKU': 'GGOEGDHG014499', 'v2ProductName': 'Google Infuser-Top Water Bottle', 'v2ProductCategory': 'Home/Drinkware/', 'productVariant': '(not set)', 'productBrand': '(not set)', 'productPrice': '7990000', 'localProductPrice': '7990000', 'isImpression': True, 'customDimensions': [], 'customMetrics': [], 'productListName': 'Category', 'productListPosition': '10'}, {'productSKU': 'GGOEGFYQ016599', 'v2ProductName': 'Foam Can and Bottle Cooler', 'v2ProductCategory': 'Home/Drinkware/', 'productVariant': '(not set)', 'productBrand': '(not set)', 'productPrice': '1590000', 'localProductPrice': '1590000', 'isImpression': True, 'customDimensions': [], 'customMetrics': [], 'productListName': 'Category', 'productListPosition': '11'}, {'productSKU': 'GGOEGDWC020199', 'v2ProductName': 'Engraved Ceramic Google Mug', 'v2ProductCategory': 'Home/Drinkware/', 'productVariant': '(not set)', 'productBrand': '(not set)', 'productPrice': '7190000', 'localProductPrice': '7190000', 'isImpression': True, 'customDimensions': [], 'customMetrics': [], 'productListName': 'Category', 'productListPosition': '12'}, {'productSKU': 'GGOEADHH055999', 'v2ProductName': '22 oz Android Bottle', 'v2ProductCategory': 'Home/Drinkware/', 'productVariant': '(not set)', 'productBrand': '(not set)', 'productPrice': '2390000', 'localProductPrice': '2390000', 'isImpression': True, 'customDimensions': [], 'customMetrics': [], 'productListName': 'Category', 'productListPosition': '13'}, {'productSKU': 'GGOEYDHJ019399', 'v2ProductName': '24 oz YouTube Sergeant Stripe Bottle', 'v2ProductCategory': 'Home/Drinkware/', 'productVariant': '(not set)', 'productBrand': '(not set)', 'productPrice': '6390000', 'localProductPrice': '6390000', 'isImpression': True, 'customDimensions': [], 'customMetrics': [], 'productListName': 'Category', 'productListPosition': '14'}, {'productSKU': 'GGOEYDHJ056099', 'v2ProductName': '22 oz YouTube Bottle Infuser', 'v2ProductCategory': 'Home/Drinkware/', 'productVariant': '(not set)', 'productBrand': '(not set)', 'productPrice': '3990000', 'localProductPrice': '3990000', 'isImpression': True, 'customDimensions': [], 'customMetrics': [], 'productListName': 'Category', 'productListPosition': '15'}, {'productSKU': 'GGOEGFAQ016699', 'v2ProductName': 'Bottle Opener Clip', 'v2ProductCategory': 'Home/Drinkware/', 'productVariant': '(not set)', 'productBrand': '(not set)', 'productPrice': '2800000', 'localProductPrice': '2800000', 'isImpression': True, 'customDimensions': [], 'customMetrics': [], 'productListName': 'Category', 'productListPosition': '16'}, {'productSKU': 'GGOEGDHQ015399', 'v2ProductName': '26 oz Double Wall Insulated Bottle', 'v2ProductCategory': 'Home/Drinkware/', 'productVariant': '(not set)', 'productBrand': '(not set)', 'productPrice': '19990000', 'localProductPrice': '19990000', 'isImpression': True, 'customDimensions': [], 'customMetrics': [], 'productListName': 'Category', 'productListPosition': '17'}, {'productSKU': 'GGOEGAAX0127', 'v2ProductName': 'Android 24 oz Contigo Bottle', 'v2ProductCategory': 'Home/Drinkware/', 'productVariant': '(not set)', 'productBrand': '(not set)', 'productPrice': '19190000', 'localProductPrice': '19190000', 'isImpression': True, 'customDimensions': [], 'customMetrics': [], 'productListName': 'Category', 'productListPosition': '18'}, {'productSKU': 'GGOEGAAX0228', 'v2ProductName': 'Insulated Bottle', 'v2ProductCategory': 'Home/Drinkware/', 'productVariant': '(not set)', 'productBrand': '(not set)', 'productPrice': '17590000', 'localProductPrice': '17590000', 'isImpression': True, 'customDimensions': [], 'customMetrics': [], 'productListName': 'Category', 'productListPosition': '19'}, {'productSKU': 'GGOEGAAX0074', 'v2ProductName': 'Google 22 oz Water Bottle', 'v2ProductCategory': 'Home/Drinkware/', 'productVariant': '(not set)', 'productBrand': '(not set)', 'productPrice': '2400000', 'localProductPrice': '2400000', 'isImpression': True, 'customDimensions': [], 'customMetrics': [], 'productListName': 'Category', 'productListPosition': '20'}, {'productSKU': 'GGOEGDHB072099', 'v2ProductName': 'Google Insulated Stainless Steel Bottle', 'v2ProductCategory': 'Home/Drinkware/', 'productVariant': '(not set)', 'productBrand': '(not set)', 'productPrice': '15990000', 'localProductPrice': '15990000', 'isImpression': True, 'customDimensions': [], 'customMetrics': [], 'productListName': 'Category', 'productListPosition': '21'}, {'productSKU': 'GGOEGDHB072199', 'v2ProductName': 'Google Accent Insulated Stainless Steel Bottle', 'v2ProductCategory': 'Home/Drinkware/', 'productVariant': '(not set)', 'productBrand': '(not set)', 'productPrice': '19990000', 'localProductPrice': '19990000', 'isImpression': True, 'customDimensions': [], 'customMetrics': [], 'productListName': 'Category', 'productListPosition': '22'}, {'productSKU': 'GGOEGDHB071999', 'v2ProductName': 'Google 40 oz Insulated Monster Bottle', 'v2ProductCategory': 'Home/Drinkware/', 'productVariant': '(not set)', 'productBrand': '(not set)', 'productPrice': '27190000', 'localProductPrice': '27190000', 'isImpression': True, 'customDimensions': [], 'customMetrics': [], 'productListName': 'Category', 'productListPosition': '23'}], 'promotion': [], 'eCommerceAction': {'action_type': '0', 'step': '1'}, 'experiment': [], 'customVariables': [], 'customDimensions': [], 'customMetrics': [], 'type': 'PAGE', 'social': {'socialNetwork': '(not set)', 'hasSocialSourceReferral': 'No', 'socialInteractionNetworkAction': ' : '}, 'contentGroup': {'contentGroup1': '(not set)', 'contentGroup2': 'Drinkware', 'contentGroup3': '(not set)', 'contentGroup4': '(not set)', 'contentGroup5': '(not set)', 'previousContentGroup1': '(not set)', 'previousContentGroup2': 'Drinkware', 'previousContentGroup3': '(not set)', 'previousContentGroup4': '(not set)', 'previousContentGroup5': '(not set)'}, 'publisher_infos': []}, {'hitNumber': '12', 'time': '365677', 'hour': '10', 'minute': '37', 'isInteraction': True, 'page': {'pagePath': '/basket.html', 'hostname': 'shop.googlemerchandisestore.com', 'pageTitle': 'Shopping Cart', 'pagePathLevel1': '/basket.html', 'pagePathLevel2': '', 'pagePathLevel3': '', 'pagePathLevel4': ''}, 'appInfo': {'screenName': 'shop.googlemerchandisestore.com/basket.html', 'landingScreenName': 'shop.googlemerchandisestore.com/google+redesign/drinkware/android+17oz+stainless+steel+sport+bottle.axd', 'exitScreenName': 'shop.googlemerchandisestore.com/ordercompleted.html', 'screenDepth': '0'}, 'exceptionInfo': {'isFatal': True}, 'product': [], 'promotion': [], 'eCommerceAction': {'action_type': '0', 'step': '1'}, 'experiment': [], 'customVariables': [], 'customDimensions': [], 'customMetrics': [], 'type': 'PAGE', 'social': {'socialNetwork': '(not set)', 'hasSocialSourceReferral': 'No', 'socialInteractionNetworkAction': ' : '}, 'contentGroup': {'contentGroup1': '(not set)', 'contentGroup2': '(not set)', 'contentGroup3': '(not set)', 'contentGroup4': '(not set)', 'contentGroup5': '(not set)', 'previousContentGroup1': '(not set)', 'previousContentGroup2': 'Drinkware', 'previousContentGroup3': '(not set)', 'previousContentGroup4': '(not set)', 'previousContentGroup5': '(not set)'}, 'publisher_infos': []}, {'hitNumber': '13', 'time': '401039', 'hour': '10', 'minute': '38', 'isInteraction': True, 'page': {'pagePath': '/google+redesign/drinkware', 'hostname': 'shop.googlemerchandisestore.com', 'pageTitle': 'Drinkware', 'pagePathLevel1': '/google+redesign/', 'pagePathLevel2': '/drinkware', 'pagePathLevel3': '', 'pagePathLevel4': ''}, 'transaction': {'currencyCode': 'USD'}, 'item': {'currencyCode': 'USD'}, 'appInfo': {'screenName': 'shop.googlemerchandisestore.com/google+redesign/drinkware', 'landingScreenName': 'shop.googlemerchandisestore.com/google+redesign/drinkware/android+17oz+stainless+steel+sport+bottle.axd', 'exitScreenName': 'shop.googlemerchandisestore.com/ordercompleted.html', 'screenDepth': '0'}, 'exceptionInfo': {'isFatal': True}, 'product': [{'productSKU': 'GGOEGDHQ014899', 'v2ProductName': '20 oz Stainless Steel Insulated Tumbler', 'v2ProductCategory': 'Home/Drinkware/', 'productVariant': '(not set)', 'productBrand': '(not set)', 'productPrice': '19990000', 'localProductPrice': '19990000', 'isImpression': True, 'customDimensions': [], 'customMetrics': [], 'productListName': 'Category', 'productListPosition': '1'}, {'productSKU': 'GGOEGDHC074099', 'v2ProductName': 'Google 17oz Stainless Steel Sport Bottle', 'v2ProductCategory': 'Home/Drinkware/', 'productVariant': '(not set)', 'productBrand': '(not set)', 'productPrice': '15190000', 'localProductPrice': '15190000', 'isImpression': True, 'customDimensions': [], 'customMetrics': [], 'productListName': 'Category', 'productListPosition': '2'}, {'productSKU': 'GGOEADHH073999', 'v2ProductName': 'Android 17oz Stainless Steel Sport Bottle', 'v2ProductCategory': 'Home/Drinkware/', 'productVariant': '(not set)', 'productBrand': '(not set)', 'productPrice': '15190000', 'localProductPrice': '15190000', 'isImpression': True, 'customDimensions': [], 'customMetrics': [], 'productListName': 'Category', 'productListPosition': '3'}, {'productSKU': 'GGOEADHB014799', 'v2ProductName': 'Android Glass Water Bottle with Black Sleeve', 'v2ProductCategory': 'Home/Drinkware/', 'productVariant': '(not set)', 'productBrand': '(not set)', 'productPrice': '10390000', 'localProductPrice': '10390000', 'isImpression': True, 'customDimensions': [], 'customMetrics': [], 'productListName': 'Category', 'productListPosition': '4'}, {'productSKU': 'GGOEADWQ015699', 'v2ProductName': 'Android Rise 14 oz Mug', 'v2ProductCategory': 'Home/Drinkware/', 'productVariant': '(not set)', 'productBrand': '(not set)', 'productPrice': '10390000', 'localProductPrice': '10390000', 'isImpression': True, 'customDimensions': [], 'customMetrics': [], 'productListName': 'Category', 'productListPosition': '5'}, {'productSKU': 'GGOEGDWR015799', 'v2ProductName': 'Red Shine 15 oz Mug', 'v2ProductCategory': 'Home/Drinkware/', 'productVariant': '(not set)', 'productBrand': '(not set)', 'productPrice': '10390000', 'localProductPrice': '10390000', 'isImpression': True, 'customDimensions': [], 'customMetrics': [], 'productListName': 'Category', 'productListPosition': '6'}, {'productSKU': 'GGOEGFPR113699', 'v2ProductName': '16 oz. Hot and Cold Tumbler', 'v2ProductCategory': 'Home/Drinkware/', 'productVariant': '(not set)', 'productBrand': '(not set)', 'productPrice': '8790000', 'localProductPrice': '8790000', 'isImpression': True, 'customDimensions': [], 'customMetrics': [], 'productListName': 'Category', 'productListPosition': '7'}, {'productSKU': 'GGOEGDHC015299', 'v2ProductName': '23 oz Wide Mouth Sport Bottle', 'v2ProductCategory': 'Home/Drinkware/', 'productVariant': '(not set)', 'productBrand': '(not set)', 'productPrice': '8790000', 'localProductPrice': '8790000', 'isImpression': True, 'customDimensions': [], 'customMetrics': [], 'productListName': 'Category', 'productListPosition': '8'}, {'productSKU': 'GGOEGDHC017999', 'v2ProductName': '24 oz USA Made Aluminum Bottle', 'v2ProductCategory': 'Home/Drinkware/', 'productVariant': '(not set)', 'productBrand': '(not set)', 'productPrice': '7990000', 'localProductPrice': '7990000', 'isImpression': True, 'customDimensions': [], 'customMetrics': [], 'productListName': 'Category', 'productListPosition': '9'}, {'productSKU': 'GGOEGDHG014499', 'v2ProductName': 'Google Infuser-Top Water Bottle', 'v2ProductCategory': 'Home/Drinkware/', 'productVariant': '(not set)', 'productBrand': '(not set)', 'productPrice': '7990000', 'localProductPrice': '7990000', 'isImpression': True, 'customDimensions': [], 'customMetrics': [], 'productListName': 'Category', 'productListPosition': '10'}, {'productSKU': 'GGOEGFYQ016599', 'v2ProductName': 'Foam Can and Bottle Cooler', 'v2ProductCategory': 'Home/Drinkware/', 'productVariant': '(not set)', 'productBrand': '(not set)', 'productPrice': '1590000', 'localProductPrice': '1590000', 'isImpression': True, 'customDimensions': [], 'customMetrics': [], 'productListName': 'Category', 'productListPosition': '11'}, {'productSKU': 'GGOEGDWC020199', 'v2ProductName': 'Engraved Ceramic Google Mug', 'v2ProductCategory': 'Home/Drinkware/', 'productVariant': '(not set)', 'productBrand': '(not set)', 'productPrice': '7190000', 'localProductPrice': '7190000', 'isImpression': True, 'customDimensions': [], 'customMetrics': [], 'productListName': 'Category', 'productListPosition': '12'}, {'productSKU': 'GGOEADHH055999', 'v2ProductName': '22 oz Android Bottle', 'v2ProductCategory': 'Home/Drinkware/', 'productVariant': '(not set)', 'productBrand': '(not set)', 'productPrice': '2390000', 'localProductPrice': '2390000', 'isImpression': True, 'customDimensions': [], 'customMetrics': [], 'productListName': 'Category', 'productListPosition': '13'}, {'productSKU': 'GGOEYDHJ019399', 'v2ProductName': '24 oz YouTube Sergeant Stripe Bottle', 'v2ProductCategory': 'Home/Drinkware/', 'productVariant': '(not set)', 'productBrand': '(not set)', 'productPrice': '6390000', 'localProductPrice': '6390000', 'isImpression': True, 'customDimensions': [], 'customMetrics': [], 'productListName': 'Category', 'productListPosition': '14'}, {'productSKU': 'GGOEYDHJ056099', 'v2ProductName': '22 oz YouTube Bottle Infuser', 'v2ProductCategory': 'Home/Drinkware/', 'productVariant': '(not set)', 'productBrand': '(not set)', 'productPrice': '3990000', 'localProductPrice': '3990000', 'isImpression': True, 'customDimensions': [], 'customMetrics': [], 'productListName': 'Category', 'productListPosition': '15'}, {'productSKU': 'GGOEGFAQ016699', 'v2ProductName': 'Bottle Opener Clip', 'v2ProductCategory': 'Home/Drinkware/', 'productVariant': '(not set)', 'productBrand': '(not set)', 'productPrice': '2800000', 'localProductPrice': '2800000', 'isImpression': True, 'customDimensions': [], 'customMetrics': [], 'productListName': 'Category', 'productListPosition': '16'}, {'productSKU': 'GGOEGDHQ015399', 'v2ProductName': '26 oz Double Wall Insulated Bottle', 'v2ProductCategory': 'Home/Drinkware/', 'productVariant': '(not set)', 'productBrand': '(not set)', 'productPrice': '19990000', 'localProductPrice': '19990000', 'isImpression': True, 'customDimensions': [], 'customMetrics': [], 'productListName': 'Category', 'productListPosition': '17'}, {'productSKU': 'GGOEGAAX0127', 'v2ProductName': 'Android 24 oz Contigo Bottle', 'v2ProductCategory': 'Home/Drinkware/', 'productVariant': '(not set)', 'productBrand': '(not set)', 'productPrice': '19190000', 'localProductPrice': '19190000', 'isImpression': True, 'customDimensions': [], 'customMetrics': [], 'productListName': 'Category', 'productListPosition': '18'}, {'productSKU': 'GGOEGAAX0228', 'v2ProductName': 'Insulated Bottle', 'v2ProductCategory': 'Home/Drinkware/', 'productVariant': '(not set)', 'productBrand': '(not set)', 'productPrice': '17590000', 'localProductPrice': '17590000', 'isImpression': True, 'customDimensions': [], 'customMetrics': [], 'productListName': 'Category', 'productListPosition': '19'}, {'productSKU': 'GGOEGAAX0074', 'v2ProductName': 'Google 22 oz Water Bottle', 'v2ProductCategory': 'Home/Drinkware/', 'productVariant': '(not set)', 'productBrand': '(not set)', 'productPrice': '2400000', 'localProductPrice': '2400000', 'isImpression': True, 'customDimensions': [], 'customMetrics': [], 'productListName': 'Category', 'productListPosition': '20'}, {'productSKU': 'GGOEGDHB072099', 'v2ProductName': 'Google Insulated Stainless Steel Bottle', 'v2ProductCategory': 'Home/Drinkware/', 'productVariant': '(not set)', 'productBrand': '(not set)', 'productPrice': '15990000', 'localProductPrice': '15990000', 'isImpression': True, 'customDimensions': [], 'customMetrics': [], 'productListName': 'Category', 'productListPosition': '21'}, {'productSKU': 'GGOEGDHB072199', 'v2ProductName': 'Google Accent Insulated Stainless Steel Bottle', 'v2ProductCategory': 'Home/Drinkware/', 'productVariant': '(not set)', 'productBrand': '(not set)', 'productPrice': '19990000', 'localProductPrice': '19990000', 'isImpression': True, 'customDimensions': [], 'customMetrics': [], 'productListName': 'Category', 'productListPosition': '22'}, {'productSKU': 'GGOEGDHB071999', 'v2ProductName': 'Google 40 oz Insulated Monster Bottle', 'v2ProductCategory': 'Home/Drinkware/', 'productVariant': '(not set)', 'productBrand': '(not set)', 'productPrice': '27190000', 'localProductPrice': '27190000', 'isImpression': True, 'customDimensions': [], 'customMetrics': [], 'productListName': 'Category', 'productListPosition': '23'}], 'promotion': [], 'eCommerceAction': {'action_type': '0', 'step': '1'}, 'experiment': [], 'customVariables': [], 'customDimensions': [], 'customMetrics': [], 'type': 'PAGE', 'social': {'socialNetwork': '(not set)', 'hasSocialSourceReferral': 'No', 'socialInteractionNetworkAction': ' : '}, 'contentGroup': {'contentGroup1': '(not set)', 'contentGroup2': 'Drinkware', 'contentGroup3': '(not set)', 'contentGroup4': '(not set)', 'contentGroup5': '(not set)', 'previousContentGroup1': '(not set)', 'previousContentGroup2': 'Drinkware', 'previousContentGroup3': '(not set)', 'previousContentGroup4': '(not set)', 'previousContentGroup5': '(not set)'}, 'publisher_infos': []}, {'hitNumber': '14', 'time': '403675', 'hour': '10', 'minute': '38', 'isInteraction': True, 'page': {'pagePath': '/google+redesign/drinkware', 'hostname': 'shop.googlemerchandisestore.com', 'pageTitle': 'Drinkware', 'pagePathLevel1': '/google+redesign/', 'pagePathLevel2': '/drinkware', 'pagePathLevel3': '', 'pagePathLevel4': ''}, 'appInfo': {'screenName': 'shop.googlemerchandisestore.com/google+redesign/drinkware', 'landingScreenName': 'shop.googlemerchandisestore.com/google+redesign/drinkware/android+17oz+stainless+steel+sport+bottle.axd', 'exitScreenName': 'shop.googlemerchandisestore.com/ordercompleted.html', 'screenDepth': '0'}, 'exceptionInfo': {'isFatal': True}, 'eventInfo': {'eventCategory': 'Enhanced Ecommerce', 'eventAction': 'Quickview Click', 'eventLabel': 'Android 17oz Stainless Steel Sport Bottle'}, 'product': [{'productSKU': 'GGOEADHH073999', 'v2ProductName': 'Android 17oz Stainless Steel Sport Bottle', 'v2ProductCategory': 'Home/Drinkware/', 'productVariant': '(not set)', 'productBrand': '(not set)', 'productPrice': '15190000', 'localProductPrice': '0', 'isClick': True, 'customDimensions': [], 'customMetrics': [], 'productListName': 'Category', 'productListPosition': '0'}], 'promotion': [], 'eCommerceAction': {'action_type': '1', 'step': '1'}, 'experiment': [], 'customVariables': [], 'customDimensions': [], 'customMetrics': [], 'type': 'EVENT', 'social': {'socialNetwork': '(not set)', 'hasSocialSourceReferral': 'No', 'socialInteractionNetworkAction': ' : '}, 'contentGroup': {'contentGroup1': '(not set)', 'contentGroup2': 'Drinkware', 'contentGroup3': '(not set)', 'contentGroup4': '(not set)', 'contentGroup5': '(not set)', 'previousContentGroup1': '(not set)', 'previousContentGroup2': 'Drinkware', 'previousContentGroup3': '(not set)', 'previousContentGroup4': '(not set)', 'previousContentGroup5': '(not set)'}, 'publisher_infos': []}, {'hitNumber': '15', 'time': '403675', 'hour': '10', 'minute': '38', 'isInteraction': True, 'page': {'pagePath': '/google+redesign/drinkware/quickview', 'hostname': 'shop.googlemerchandisestore.com', 'pageTitle': 'Drinkware', 'pagePathLevel1': '/google+redesign/', 'pagePathLevel2': '/drinkware/', 'pagePathLevel3': '/quickview', 'pagePathLevel4': ''}, 'appInfo': {'screenName': 'shop.googlemerchandisestore.com/google+redesign/drinkware/quickview', 'landingScreenName': 'shop.googlemerchandisestore.com/google+redesign/drinkware/android+17oz+stainless+steel+sport+bottle.axd', 'exitScreenName': 'shop.googlemerchandisestore.com/ordercompleted.html', 'screenDepth': '0'}, 'exceptionInfo': {'isFatal': True}, 'product': [{'productSKU': 'GGOEADHH073999', 'v2ProductName': 'Android 17oz Stainless Steel Sport Bottle', 'v2ProductCategory': 'Home/Drinkware/', 'productVariant': '(not set)', 'productBrand': '(not set)', 'productPrice': '15190000', 'localProductPrice': '0', 'customDimensions': [], 'customMetrics': [], 'productListName': 'Category', 'productListPosition': '3'}], 'promotion': [], 'eCommerceAction': {'action_type': '2', 'step': '1'}, 'experiment': [], 'customVariables': [], 'customDimensions': [], 'customMetrics': [], 'type': 'PAGE', 'social': {'socialNetwork': '(not set)', 'hasSocialSourceReferral': 'No', 'socialInteractionNetworkAction': ' : '}, 'contentGroup': {'contentGroup1': '(not set)', 'contentGroup2': 'Drinkware', 'contentGroup3': '(not set)', 'contentGroup4': '(not set)', 'contentGroup5': '(not set)', 'previousContentGroup1': '(not set)', 'previousContentGroup2': 'Drinkware', 'previousContentGroup3': '(not set)', 'previousContentGroup4': '(not set)', 'previousContentGroup5': '(not set)'}, 'publisher_infos': []}, {'hitNumber': '16', 'time': '421610', 'hour': '10', 'minute': '38', 'isInteraction': True, 'page': {'pagePath': '/google+redesign/drinkware', 'hostname': 'shop.googlemerchandisestore.com', 'pageTitle': 'Drinkware', 'pagePathLevel1': '/google+redesign/', 'pagePathLevel2': '/drinkware', 'pagePathLevel3': '', 'pagePathLevel4': ''}, 'transaction': {'currencyCode': 'USD'}, 'item': {'currencyCode': 'USD'}, 'appInfo': {'screenName': 'shop.googlemerchandisestore.com/google+redesign/drinkware', 'landingScreenName': 'shop.googlemerchandisestore.com/google+redesign/drinkware/android+17oz+stainless+steel+sport+bottle.axd', 'exitScreenName': 'shop.googlemerchandisestore.com/ordercompleted.html', 'screenDepth': '0'}, 'exceptionInfo': {'isFatal': True}, 'eventInfo': {'eventCategory': 'Enhanced Ecommerce', 'eventAction': 'Add to Cart'}, 'product': [{'productSKU': 'GGOEADHH073999', 'v2ProductName': 'Android 17oz Stainless Steel Sport Bottle', 'v2ProductCategory': 'Home/Drinkware/', 'productVariant': '(not set)', 'productBrand': '(not set)', 'productPrice': '15190000', 'localProductPrice': '15190000', 'productQuantity': '25', 'customDimensions': [], 'customMetrics': [], 'productListName': '(not set)', 'productListPosition': '0'}], 'promotion': [], 'eCommerceAction': {'action_type': '3', 'step': '1'}, 'experiment': [], 'customVariables': [], 'customDimensions': [], 'customMetrics': [], 'type': 'EVENT', 'social': {'socialNetwork': '(not set)', 'hasSocialSourceReferral': 'No', 'socialInteractionNetworkAction': ' : '}, 'contentGroup': {'contentGroup1': '(not set)', 'contentGroup2': 'Drinkware', 'contentGroup3': '(not set)', 'contentGroup4': '(not set)', 'contentGroup5': '(not set)', 'previousContentGroup1': '(not set)', 'previousContentGroup2': 'Drinkware', 'previousContentGroup3': '(not set)', 'previousContentGroup4': '(not set)', 'previousContentGroup5': '(not set)'}, 'publisher_infos': []}, {'hitNumber': '17', 'time': '424793', 'hour': '10', 'minute': '38', 'isInteraction': True, 'page': {'pagePath': '/basket.html', 'hostname': 'shop.googlemerchandisestore.com', 'pageTitle': 'Shopping Cart', 'pagePathLevel1': '/basket.html', 'pagePathLevel2': '', 'pagePathLevel3': '', 'pagePathLevel4': ''}, 'appInfo': {'screenName': 'shop.googlemerchandisestore.com/basket.html', 'landingScreenName': 'shop.googlemerchandisestore.com/google+redesign/drinkware/android+17oz+stainless+steel+sport+bottle.axd', 'exitScreenName': 'shop.googlemerchandisestore.com/ordercompleted.html', 'screenDepth': '0'}, 'exceptionInfo': {'isFatal': True}, 'product': [], 'promotion': [], 'eCommerceAction': {'action_type': '0', 'step': '1'}, 'experiment': [], 'customVariables': [], 'customDimensions': [], 'customMetrics': [], 'type': 'PAGE', 'social': {'socialNetwork': '(not set)', 'hasSocialSourceReferral': 'No', 'socialInteractionNetworkAction': ' : '}, 'contentGroup': {'contentGroup1': '(not set)', 'contentGroup2': '(not set)', 'contentGroup3': '(not set)', 'contentGroup4': '(not set)', 'contentGroup5': '(not set)', 'previousContentGroup1': '(not set)', 'previousContentGroup2': 'Drinkware', 'previousContentGroup3': '(not set)', 'previousContentGroup4': '(not set)', 'previousContentGroup5': '(not set)'}, 'publisher_infos': []}, {'hitNumber': '18', 'time': '442341', 'hour': '10', 'minute': '38', 'isInteraction': True, 'page': {'pagePath': '/basket.html', 'hostname': 'shop.googlemerchandisestore.com', 'pageTitle': 'Shopping Cart', 'pagePathLevel1': '/basket.html', 'pagePathLevel2': '', 'pagePathLevel3': '', 'pagePathLevel4': ''}, 'appInfo': {'screenName': 'shop.googlemerchandisestore.com/basket.html', 'landingScreenName': 'shop.googlemerchandisestore.com/google+redesign/drinkware/android+17oz+stainless+steel+sport+bottle.axd', 'exitScreenName': 'shop.googlemerchandisestore.com/ordercompleted.html', 'screenDepth': '0'}, 'exceptionInfo': {'isFatal': True}, 'product': [], 'promotion': [], 'eCommerceAction': {'action_type': '0', 'step': '1'}, 'experiment': [], 'customVariables': [], 'customDimensions': [], 'customMetrics': [], 'type': 'PAGE', 'social': {'socialNetwork': '(not set)', 'hasSocialSourceReferral': 'No', 'socialInteractionNetworkAction': ' : '}, 'contentGroup': {'contentGroup1': '(not set)', 'contentGroup2': '(not set)', 'contentGroup3': '(not set)', 'contentGroup4': '(not set)', 'contentGroup5': '(not set)', 'previousContentGroup1': '(not set)', 'previousContentGroup2': 'Drinkware', 'previousContentGroup3': '(not set)', 'previousContentGroup4': '(not set)', 'previousContentGroup5': '(not set)'}, 'publisher_infos': []}, {'hitNumber': '19', 'time': '464550', 'hour': '10', 'minute': '39', 'isInteraction': True, 'page': {'pagePath': '/basket.html', 'hostname': 'shop.googlemerchandisestore.com', 'pageTitle': 'Shopping Cart', 'pagePathLevel1': '/basket.html', 'pagePathLevel2': '', 'pagePathLevel3': '', 'pagePathLevel4': ''}, 'appInfo': {'screenName': 'shop.googlemerchandisestore.com/basket.html', 'landingScreenName': 'shop.googlemerchandisestore.com/google+redesign/drinkware/android+17oz+stainless+steel+sport+bottle.axd', 'exitScreenName': 'shop.googlemerchandisestore.com/ordercompleted.html', 'screenDepth': '0'}, 'exceptionInfo': {'isFatal': True}, 'product': [], 'promotion': [], 'eCommerceAction': {'action_type': '0', 'step': '1'}, 'experiment': [], 'customVariables': [], 'customDimensions': [], 'customMetrics': [], 'type': 'PAGE', 'social': {'socialNetwork': '(not set)', 'hasSocialSourceReferral': 'No', 'socialInteractionNetworkAction': ' : '}, 'contentGroup': {'contentGroup1': '(not set)', 'contentGroup2': '(not set)', 'contentGroup3': '(not set)', 'contentGroup4': '(not set)', 'contentGroup5': '(not set)', 'previousContentGroup1': '(not set)', 'previousContentGroup2': 'Drinkware', 'previousContentGroup3': '(not set)', 'previousContentGroup4': '(not set)', 'previousContentGroup5': '(not set)'}, 'publisher_infos': []}, {'hitNumber': '20', 'time': '479963', 'hour': '10', 'minute': '39', 'isInteraction': True, 'page': {'pagePath': '/yourinfo.html', 'hostname': 'shop.googlemerchandisestore.com', 'pageTitle': 'Checkout Your Information', 'pagePathLevel1': '/yourinfo.html', 'pagePathLevel2': '', 'pagePathLevel3': '', 'pagePathLevel4': ''}, 'transaction': {'currencyCode': 'USD'}, 'item': {'currencyCode': 'USD'}, 'appInfo': {'screenName': 'shop.googlemerchandisestore.com/yourinfo.html', 'landingScreenName': 'shop.googlemerchandisestore.com/google+redesign/drinkware/android+17oz+stainless+steel+sport+bottle.axd', 'exitScreenName': 'shop.googlemerchandisestore.com/ordercompleted.html', 'screenDepth': '0'}, 'exceptionInfo': {'isFatal': True}, 'product': [{'productSKU': 'GGOEADHH073999', 'v2ProductName': 'Android 17oz Stainless Steel Sport Bottle', 'v2ProductCategory': '(not set)', 'productVariant': 'Single Option Only', 'productBrand': '(not set)', 'productPrice': '455700000', 'localProductPrice': '455700000', 'productQuantity': '30', 'customDimensions': [], 'customMetrics': [], 'productListName': '(not set)', 'productListPosition': '0'}], 'promotion': [], 'eCommerceAction': {'action_type': '5', 'step': '1', 'option': 'Billing and Shipping'}, 'experiment': [], 'customVariables': [], 'customDimensions': [], 'customMetrics': [], 'type': 'PAGE', 'social': {'socialNetwork': '(not set)', 'hasSocialSourceReferral': 'No', 'socialInteractionNetworkAction': ' : '}, 'contentGroup': {'contentGroup1': '(not set)', 'contentGroup2': '(not set)', 'contentGroup3': '(not set)', 'contentGroup4': '(not set)', 'contentGroup5': '(not set)', 'previousContentGroup1': '(not set)', 'previousContentGroup2': 'Drinkware', 'previousContentGroup3': '(not set)', 'previousContentGroup4': '(not set)', 'previousContentGroup5': '(not set)'}, 'publisher_infos': []}, {'hitNumber': '21', 'time': '499077', 'hour': '10', 'minute': '39', 'isInteraction': True, 'page': {'pagePath': '/payment.html', 'hostname': 'shop.googlemerchandisestore.com', 'pageTitle': 'Payment Method', 'pagePathLevel1': '/payment.html', 'pagePathLevel2': '', 'pagePathLevel3': '', 'pagePathLevel4': ''}, 'transaction': {'currencyCode': 'USD'}, 'item': {'currencyCode': 'USD'}, 'appInfo': {'screenName': 'shop.googlemerchandisestore.com/payment.html', 'landingScreenName': 'shop.googlemerchandisestore.com/google+redesign/drinkware/android+17oz+stainless+steel+sport+bottle.axd', 'exitScreenName': 'shop.googlemerchandisestore.com/ordercompleted.html', 'screenDepth': '0'}, 'exceptionInfo': {'isFatal': True}, 'product': [{'productSKU': 'GGOEADHH073999', 'v2ProductName': 'Android 17oz Stainless Steel Sport Bottle', 'v2ProductCategory': '(not set)', 'productVariant': 'Single Option Only', 'productBrand': '(not set)', 'productPrice': '455700000', 'localProductPrice': '455700000', 'customDimensions': [], 'customMetrics': [], 'productListName': '(not set)', 'productListPosition': '0'}], 'promotion': [], 'eCommerceAction': {'action_type': '5', 'step': '2', 'option': 'Payment'}, 'experiment': [], 'customVariables': [], 'customDimensions': [], 'customMetrics': [], 'type': 'PAGE', 'social': {'socialNetwork': '(not set)', 'hasSocialSourceReferral': 'No', 'socialInteractionNetworkAction': ' : '}, 'contentGroup': {'contentGroup1': '(not set)', 'contentGroup2': '(not set)', 'contentGroup3': '(not set)', 'contentGroup4': '(not set)', 'contentGroup5': '(not set)', 'previousContentGroup1': '(not set)', 'previousContentGroup2': 'Drinkware', 'previousContentGroup3': '(not set)', 'previousContentGroup4': '(not set)', 'previousContentGroup5': '(not set)'}, 'publisher_infos': []}, {'hitNumber': '22', 'time': '556756', 'hour': '10', 'minute': '40', 'isInteraction': True, 'page': {'pagePath': '/revieworder.html', 'hostname': 'shop.googlemerchandisestore.com', 'pageTitle': 'Checkout Review', 'pagePathLevel1': '/revieworder.html', 'pagePathLevel2': '', 'pagePathLevel3': '', 'pagePathLevel4': ''}, 'transaction': {'currencyCode': 'USD'}, 'item': {'currencyCode': 'USD'}, 'appInfo': {'screenName': 'shop.googlemerchandisestore.com/revieworder.html', 'landingScreenName': 'shop.googlemerchandisestore.com/google+redesign/drinkware/android+17oz+stainless+steel+sport+bottle.axd', 'exitScreenName': 'shop.googlemerchandisestore.com/ordercompleted.html', 'screenDepth': '0'}, 'exceptionInfo': {'isFatal': True}, 'product': [{'productSKU': 'GGOEADHH073999', 'v2ProductName': 'Android 17oz Stainless Steel Sport Bottle', 'v2ProductCategory': '(not set)', 'productVariant': 'Single Option Only', 'productBrand': '(not set)', 'productPrice': '455700000', 'localProductPrice': '455700000', 'customDimensions': [], 'customMetrics': [], 'productListName': '(not set)', 'productListPosition': '0'}], 'promotion': [], 'eCommerceAction': {'action_type': '5', 'step': '3', 'option': 'Review'}, 'experiment': [], 'customVariables': [], 'customDimensions': [], 'customMetrics': [], 'type': 'PAGE', 'social': {'socialNetwork': '(not set)', 'hasSocialSourceReferral': 'No', 'socialInteractionNetworkAction': ' : '}, 'contentGroup': {'contentGroup1': '(not set)', 'contentGroup2': '(not set)', 'contentGroup3': '(not set)', 'contentGroup4': '(not set)', 'contentGroup5': '(not set)', 'previousContentGroup1': '(not set)', 'previousContentGroup2': 'Drinkware', 'previousContentGroup3': '(not set)', 'previousContentGroup4': '(not set)', 'previousContentGroup5': '(not set)'}, 'publisher_infos': []}, {'hitNumber': '23', 'time': '570854', 'hour': '10', 'minute': '40', 'isInteraction': True, 'page': {'pagePath': '/ordercompleted.html', 'hostname': 'shop.googlemerchandisestore.com', 'pageTitle': 'Checkout Confirmation', 'pagePathLevel1': '/ordercompleted.html', 'pagePathLevel2': '', 'pagePathLevel3': '', 'pagePathLevel4': ''}, 'transaction': {'transactionId': 'ORD201609021547', 'transactionRevenue': '548320000', 'transactionTax': '41880000', 'transactionShipping': '52740000', 'affiliation': 'Google Merchandise Store', 'currencyCode': 'USD', 'localTransactionRevenue': '548320000', 'localTransactionTax': '41880000', 'localTransactionShipping': '52740000'}, 'item': {'transactionId': 'ORD201609021547', 'currencyCode': 'USD'}, 'appInfo': {'screenName': 'shop.googlemerchandisestore.com/ordercompleted.html', 'landingScreenName': 'shop.googlemerchandisestore.com/google+redesign/drinkware/android+17oz+stainless+steel+sport+bottle.axd', 'exitScreenName': 'shop.googlemerchandisestore.com/ordercompleted.html', 'screenDepth': '0'}, 'exceptionInfo': {'isFatal': True}, 'product': [{'productSKU': 'GGOEADHH073999', 'v2ProductName': 'Android 17oz Stainless Steel Sport Bottle', 'v2ProductCategory': '(not set)', 'productVariant': 'Single Option Only', 'productBrand': '(not set)', 'productRevenue': '457700000', 'localProductRevenue': '457700000', 'productPrice': '15190000', 'localProductPrice': '15190000', 'productQuantity': '30', 'customDimensions': [], 'customMetrics': [], 'productListName': '(not set)', 'productListPosition': '0'}], 'promotion': [], 'eCommerceAction': {'action_type': '6', 'step': '1'}, 'experiment': [], 'customVariables': [], 'customDimensions': [], 'customMetrics': [], 'type': 'PAGE', 'social': {'socialNetwork': '(not set)', 'hasSocialSourceReferral': 'No', 'socialInteractionNetworkAction': ' : '}, 'contentGroup': {'contentGroup1': '(not set)', 'contentGroup2': '(not set)', 'contentGroup3': '(not set)', 'contentGroup4': '(not set)', 'contentGroup5': '(not set)', 'previousContentGroup1': '(not set)', 'previousContentGroup2': 'Drinkware', 'previousContentGroup3': '(not set)', 'previousContentGroup4': '(not set)', 'previousContentGroup5': '(not set)'}, 'publisher_infos': []}, {'hitNumber': '24', 'time': '570887', 'hour': '10', 'minute': '40', 'isInteraction': True, 'isExit': True, 'page': {'pagePath': '/ordercompleted.html', 'hostname': 'shop.googlemerchandisestore.com', 'pageTitle': 'Checkout Confirmation', 'pagePathLevel1': '/ordercompleted.html', 'pagePathLevel2': '', 'pagePathLevel3': '', 'pagePathLevel4': ''}, 'transaction': {'transactionId': 'ORD201609021547', 'affiliation': 'Google Merchandise Store', 'currencyCode': 'USD'}, 'item': {'transactionId': 'ORD201609021547', 'currencyCode': 'USD'}, 'appInfo': {'screenName': 'shop.googlemerchandisestore.com/ordercompleted.html', 'landingScreenName': 'shop.googlemerchandisestore.com/google+redesign/drinkware/android+17oz+stainless+steel+sport+bottle.axd', 'exitScreenName': 'shop.googlemerchandisestore.com/ordercompleted.html', 'screenDepth': '0'}, 'exceptionInfo': {'isFatal': True}, 'product': [{'productSKU': 'GGOEADHH073999', 'v2ProductName': 'Android 17oz Stainless Steel Sport Bottle', 'v2ProductCategory': '(not set)', 'productVariant': 'Single Option Only', 'productBrand': '(not set)', 'productPrice': '15190000', 'localProductPrice': '15190000', 'customDimensions': [], 'customMetrics': [], 'productListName': '(not set)', 'productListPosition': '0'}], 'promotion': [], 'eCommerceAction': {'action_type': '6', 'step': '1'}, 'experiment': [], 'customVariables': [], 'customDimensions': [], 'customMetrics': [], 'type': 'PAGE', 'social': {'socialNetwork': '(not set)', 'hasSocialSourceReferral': 'No', 'socialInteractionNetworkAction': ' : '}, 'contentGroup': {'contentGroup1': '(not set)', 'contentGroup2': '(not set)', 'contentGroup3': '(not set)', 'contentGroup4': '(not set)', 'contentGroup5': '(not set)', 'previousContentGroup1': '(not set)', 'previousContentGroup2': 'Drinkware', 'previousContentGroup3': '(not set)', 'previousContentGroup4': '(not set)', 'previousContentGroup5': '(not set)'}, 'publisher_infos': []}]\n"
     ]
    }
   ],
   "source": [
    "print(customer1['hits'])"
   ]
  },
  {
   "cell_type": "code",
   "execution_count": null,
   "metadata": {},
   "outputs": [],
   "source": []
  },
  {
   "cell_type": "code",
   "execution_count": 17,
   "metadata": {},
   "outputs": [],
   "source": [
    "df_grouped_by_ID = df_small.groupby('fullVisitorId')"
   ]
  },
  {
   "cell_type": "markdown",
   "metadata": {},
   "source": [
    "## Simple Training"
   ]
  },
  {
   "cell_type": "code",
   "execution_count": 18,
   "metadata": {},
   "outputs": [],
   "source": [
    "import pandas as pd\n",
    "import numpy as np\n",
    "from sklearn.neighbors import KNeighborsRegressor\n",
    "from sklearn.linear_model.stochastic_gradient import SGDRegressor\n",
    "from sklearn.metrics import mean_squared_error"
   ]
  },
  {
   "cell_type": "code",
   "execution_count": 19,
   "metadata": {},
   "outputs": [
    {
     "name": "stdout",
     "output_type": "stream",
     "text": [
      "Loaded test_v2.csv. Shape: (401589, 59)\n"
     ]
    }
   ],
   "source": [
    "## Testing\n",
    "df_test = load_df('D:\\\\Documents\\\\ga-customer-revenue-prediction\\\\test_v2.csv')\n",
    "\n",
    "## Training is using df_small"
   ]
  },
  {
   "cell_type": "code",
   "execution_count": 20,
   "metadata": {},
   "outputs": [
    {
     "name": "stdout",
     "output_type": "stream",
     "text": [
      "['device.browserSize', 'device.browserVersion', 'device.flashVersion', 'device.language', 'device.mobileDeviceBranding', 'device.mobileDeviceInfo', 'device.mobileDeviceMarketingName', 'device.mobileDeviceModel', 'device.mobileInputSelector', 'device.operatingSystemVersion', 'device.screenColors', 'device.screenResolution', 'geoNetwork.cityId', 'geoNetwork.latitude', 'geoNetwork.longitude', 'geoNetwork.networkLocation', 'trafficSource.adwordsClickInfo.criteriaParameters', 'hits']\n"
     ]
    }
   ],
   "source": [
    "cols_to_remove = [x for x in ones if set(df_small[x].unique()) == set(['not available in demo dataset'])]\n",
    "cols_to_remove.append('hits')\n",
    "print(cols_to_remove)"
   ]
  },
  {
   "cell_type": "code",
   "execution_count": 21,
   "metadata": {},
   "outputs": [],
   "source": [
    "y = df_small['totals.totalTransactionRevenue'].fillna(0).astype(float)\n",
    "y = y.apply(lambda x: np.log1p(x))\n",
    "df_train = df_small.drop('totals.totalTransactionRevenue', axis=1)"
   ]
  },
  {
   "cell_type": "code",
   "execution_count": 22,
   "metadata": {},
   "outputs": [
    {
     "data": {
      "text/plain": [
       "Index(['channelGrouping', 'customDimensions', 'date', 'fullVisitorId',\n",
       "       'socialEngagementType', 'visitId', 'visitNumber', 'visitStartTime',\n",
       "       'device.browser', 'device.deviceCategory', 'device.isMobile',\n",
       "       'device.operatingSystem', 'geoNetwork.city', 'geoNetwork.continent',\n",
       "       'geoNetwork.country', 'geoNetwork.metro', 'geoNetwork.networkDomain',\n",
       "       'geoNetwork.region', 'geoNetwork.subContinent', 'totals.bounces',\n",
       "       'totals.hits', 'totals.newVisits', 'totals.pageviews',\n",
       "       'totals.sessionQualityDim', 'totals.timeOnSite',\n",
       "       'totals.totalTransactionRevenue', 'totals.transactionRevenue',\n",
       "       'totals.transactions', 'totals.visits', 'trafficSource.adContent',\n",
       "       'trafficSource.adwordsClickInfo.adNetworkType',\n",
       "       'trafficSource.adwordsClickInfo.gclId',\n",
       "       'trafficSource.adwordsClickInfo.isVideoAd',\n",
       "       'trafficSource.adwordsClickInfo.page',\n",
       "       'trafficSource.adwordsClickInfo.slot', 'trafficSource.campaign',\n",
       "       'trafficSource.isTrueDirect', 'trafficSource.keyword',\n",
       "       'trafficSource.medium', 'trafficSource.referralPath',\n",
       "       'trafficSource.source'],\n",
       "      dtype='object')"
      ]
     },
     "execution_count": 22,
     "metadata": {},
     "output_type": "execute_result"
    }
   ],
   "source": [
    "df_train = df_train.drop(list(cols_to_remove), axis=1)\n",
    "df_train.columns\n",
    "\n",
    "# doing the same to our testing set:\n",
    "df_test = df_test.drop(list(cols_to_remove), axis=1)\n",
    "df_test.columns"
   ]
  },
  {
   "cell_type": "code",
   "execution_count": 31,
   "metadata": {},
   "outputs": [],
   "source": [
    "cat_columns = ['channelGrouping',\n",
    "               'socialEngagementType',\n",
    "               'device.browser',\n",
    "               'device.deviceCategory',\n",
    "               'device.operatingSystem',\n",
    "               'geoNetwork.city',\n",
    "               'geoNetwork.continent',\n",
    "               'geoNetwork.country',\n",
    "               'geoNetwork.metro', \n",
    "               'geoNetwork.networkDomain',\n",
    "               'geoNetwork.region', \n",
    "               'geoNetwork.subContinent',\n",
    "               'trafficSource.adContent',\n",
    "               'trafficSource.adwordsClickInfo.adNetworkType',\n",
    "               'trafficSource.adwordsClickInfo.gclId',\n",
    "               'trafficSource.adwordsClickInfo.page',\n",
    "               'trafficSource.adwordsClickInfo.slot', \n",
    "               'trafficSource.campaign',\n",
    "               'trafficSource.keyword',\n",
    "               'trafficSource.referralPath',\n",
    "               'trafficSource.source',\n",
    "               'trafficSource.medium'\n",
    "              ]"
   ]
  },
  {
   "cell_type": "code",
   "execution_count": 32,
   "metadata": {},
   "outputs": [
    {
     "ename": "KeyError",
     "evalue": "'trafficSource.campaignCode'",
     "output_type": "error",
     "traceback": [
      "\u001b[1;31m---------------------------------------------------------------------------\u001b[0m",
      "\u001b[1;31mKeyError\u001b[0m                                  Traceback (most recent call last)",
      "\u001b[1;32m~\\Anaconda3\\lib\\site-packages\\pandas\\core\\indexes\\base.py\u001b[0m in \u001b[0;36mget_loc\u001b[1;34m(self, key, method, tolerance)\u001b[0m\n\u001b[0;32m   3077\u001b[0m             \u001b[1;32mtry\u001b[0m\u001b[1;33m:\u001b[0m\u001b[1;33m\u001b[0m\u001b[1;33m\u001b[0m\u001b[0m\n\u001b[1;32m-> 3078\u001b[1;33m                 \u001b[1;32mreturn\u001b[0m \u001b[0mself\u001b[0m\u001b[1;33m.\u001b[0m\u001b[0m_engine\u001b[0m\u001b[1;33m.\u001b[0m\u001b[0mget_loc\u001b[0m\u001b[1;33m(\u001b[0m\u001b[0mkey\u001b[0m\u001b[1;33m)\u001b[0m\u001b[1;33m\u001b[0m\u001b[1;33m\u001b[0m\u001b[0m\n\u001b[0m\u001b[0;32m   3079\u001b[0m             \u001b[1;32mexcept\u001b[0m \u001b[0mKeyError\u001b[0m\u001b[1;33m:\u001b[0m\u001b[1;33m\u001b[0m\u001b[1;33m\u001b[0m\u001b[0m\n",
      "\u001b[1;32mpandas\\_libs\\index.pyx\u001b[0m in \u001b[0;36mpandas._libs.index.IndexEngine.get_loc\u001b[1;34m()\u001b[0m\n",
      "\u001b[1;32mpandas\\_libs\\index.pyx\u001b[0m in \u001b[0;36mpandas._libs.index.IndexEngine.get_loc\u001b[1;34m()\u001b[0m\n",
      "\u001b[1;32mpandas\\_libs\\hashtable_class_helper.pxi\u001b[0m in \u001b[0;36mpandas._libs.hashtable.PyObjectHashTable.get_item\u001b[1;34m()\u001b[0m\n",
      "\u001b[1;32mpandas\\_libs\\hashtable_class_helper.pxi\u001b[0m in \u001b[0;36mpandas._libs.hashtable.PyObjectHashTable.get_item\u001b[1;34m()\u001b[0m\n",
      "\u001b[1;31mKeyError\u001b[0m: 'trafficSource.campaignCode'",
      "\nDuring handling of the above exception, another exception occurred:\n",
      "\u001b[1;31mKeyError\u001b[0m                                  Traceback (most recent call last)",
      "\u001b[1;32m<ipython-input-32-71125aeba15e>\u001b[0m in \u001b[0;36m<module>\u001b[1;34m\u001b[0m\n\u001b[0;32m      2\u001b[0m \u001b[1;32mfor\u001b[0m \u001b[0meach\u001b[0m \u001b[1;32min\u001b[0m \u001b[0mcat_columns\u001b[0m\u001b[1;33m:\u001b[0m\u001b[1;33m\u001b[0m\u001b[1;33m\u001b[0m\u001b[0m\n\u001b[0;32m      3\u001b[0m     \u001b[0mlbl\u001b[0m \u001b[1;33m=\u001b[0m \u001b[0mpreprocessing\u001b[0m\u001b[1;33m.\u001b[0m\u001b[0mLabelEncoder\u001b[0m\u001b[1;33m(\u001b[0m\u001b[1;33m)\u001b[0m\u001b[1;33m\u001b[0m\u001b[1;33m\u001b[0m\u001b[0m\n\u001b[1;32m----> 4\u001b[1;33m     \u001b[0mlbl\u001b[0m\u001b[1;33m.\u001b[0m\u001b[0mfit\u001b[0m\u001b[1;33m(\u001b[0m\u001b[0mlist\u001b[0m\u001b[1;33m(\u001b[0m\u001b[0mdf_train\u001b[0m\u001b[1;33m[\u001b[0m\u001b[0meach\u001b[0m\u001b[1;33m]\u001b[0m\u001b[1;33m.\u001b[0m\u001b[0mvalues\u001b[0m\u001b[1;33m)\u001b[0m \u001b[1;33m+\u001b[0m \u001b[0mlist\u001b[0m\u001b[1;33m(\u001b[0m\u001b[0mdf_test\u001b[0m\u001b[1;33m[\u001b[0m\u001b[0meach\u001b[0m\u001b[1;33m]\u001b[0m\u001b[1;33m.\u001b[0m\u001b[0mvalues\u001b[0m\u001b[1;33m)\u001b[0m\u001b[1;33m)\u001b[0m\u001b[1;33m\u001b[0m\u001b[1;33m\u001b[0m\u001b[0m\n\u001b[0m\u001b[0;32m      5\u001b[0m     \u001b[0mdf_train\u001b[0m\u001b[1;33m[\u001b[0m\u001b[0meach\u001b[0m\u001b[1;33m]\u001b[0m \u001b[1;33m=\u001b[0m \u001b[0mlbl\u001b[0m\u001b[1;33m.\u001b[0m\u001b[0mtransform\u001b[0m\u001b[1;33m(\u001b[0m\u001b[0mlist\u001b[0m\u001b[1;33m(\u001b[0m\u001b[0mdf_train\u001b[0m\u001b[1;33m[\u001b[0m\u001b[0meach\u001b[0m\u001b[1;33m]\u001b[0m\u001b[1;33m.\u001b[0m\u001b[0mvalues\u001b[0m\u001b[1;33m)\u001b[0m\u001b[1;33m)\u001b[0m\u001b[1;33m\u001b[0m\u001b[1;33m\u001b[0m\u001b[0m\n\u001b[0;32m      6\u001b[0m     \u001b[0mdf_test\u001b[0m\u001b[1;33m[\u001b[0m\u001b[0meach\u001b[0m\u001b[1;33m]\u001b[0m \u001b[1;33m=\u001b[0m \u001b[0mlbl\u001b[0m\u001b[1;33m.\u001b[0m\u001b[0mtransform\u001b[0m\u001b[1;33m(\u001b[0m\u001b[0mlist\u001b[0m\u001b[1;33m(\u001b[0m\u001b[0mdf_test\u001b[0m\u001b[1;33m[\u001b[0m\u001b[0meach\u001b[0m\u001b[1;33m]\u001b[0m\u001b[1;33m.\u001b[0m\u001b[0mvalues\u001b[0m\u001b[1;33m)\u001b[0m\u001b[1;33m)\u001b[0m\u001b[1;33m\u001b[0m\u001b[1;33m\u001b[0m\u001b[0m\n",
      "\u001b[1;32m~\\Anaconda3\\lib\\site-packages\\pandas\\core\\frame.py\u001b[0m in \u001b[0;36m__getitem__\u001b[1;34m(self, key)\u001b[0m\n\u001b[0;32m   2686\u001b[0m             \u001b[1;32mreturn\u001b[0m \u001b[0mself\u001b[0m\u001b[1;33m.\u001b[0m\u001b[0m_getitem_multilevel\u001b[0m\u001b[1;33m(\u001b[0m\u001b[0mkey\u001b[0m\u001b[1;33m)\u001b[0m\u001b[1;33m\u001b[0m\u001b[1;33m\u001b[0m\u001b[0m\n\u001b[0;32m   2687\u001b[0m         \u001b[1;32melse\u001b[0m\u001b[1;33m:\u001b[0m\u001b[1;33m\u001b[0m\u001b[1;33m\u001b[0m\u001b[0m\n\u001b[1;32m-> 2688\u001b[1;33m             \u001b[1;32mreturn\u001b[0m \u001b[0mself\u001b[0m\u001b[1;33m.\u001b[0m\u001b[0m_getitem_column\u001b[0m\u001b[1;33m(\u001b[0m\u001b[0mkey\u001b[0m\u001b[1;33m)\u001b[0m\u001b[1;33m\u001b[0m\u001b[1;33m\u001b[0m\u001b[0m\n\u001b[0m\u001b[0;32m   2689\u001b[0m \u001b[1;33m\u001b[0m\u001b[0m\n\u001b[0;32m   2690\u001b[0m     \u001b[1;32mdef\u001b[0m \u001b[0m_getitem_column\u001b[0m\u001b[1;33m(\u001b[0m\u001b[0mself\u001b[0m\u001b[1;33m,\u001b[0m \u001b[0mkey\u001b[0m\u001b[1;33m)\u001b[0m\u001b[1;33m:\u001b[0m\u001b[1;33m\u001b[0m\u001b[1;33m\u001b[0m\u001b[0m\n",
      "\u001b[1;32m~\\Anaconda3\\lib\\site-packages\\pandas\\core\\frame.py\u001b[0m in \u001b[0;36m_getitem_column\u001b[1;34m(self, key)\u001b[0m\n\u001b[0;32m   2693\u001b[0m         \u001b[1;31m# get column\u001b[0m\u001b[1;33m\u001b[0m\u001b[1;33m\u001b[0m\u001b[1;33m\u001b[0m\u001b[0m\n\u001b[0;32m   2694\u001b[0m         \u001b[1;32mif\u001b[0m \u001b[0mself\u001b[0m\u001b[1;33m.\u001b[0m\u001b[0mcolumns\u001b[0m\u001b[1;33m.\u001b[0m\u001b[0mis_unique\u001b[0m\u001b[1;33m:\u001b[0m\u001b[1;33m\u001b[0m\u001b[1;33m\u001b[0m\u001b[0m\n\u001b[1;32m-> 2695\u001b[1;33m             \u001b[1;32mreturn\u001b[0m \u001b[0mself\u001b[0m\u001b[1;33m.\u001b[0m\u001b[0m_get_item_cache\u001b[0m\u001b[1;33m(\u001b[0m\u001b[0mkey\u001b[0m\u001b[1;33m)\u001b[0m\u001b[1;33m\u001b[0m\u001b[1;33m\u001b[0m\u001b[0m\n\u001b[0m\u001b[0;32m   2696\u001b[0m \u001b[1;33m\u001b[0m\u001b[0m\n\u001b[0;32m   2697\u001b[0m         \u001b[1;31m# duplicate columns & possible reduce dimensionality\u001b[0m\u001b[1;33m\u001b[0m\u001b[1;33m\u001b[0m\u001b[1;33m\u001b[0m\u001b[0m\n",
      "\u001b[1;32m~\\Anaconda3\\lib\\site-packages\\pandas\\core\\generic.py\u001b[0m in \u001b[0;36m_get_item_cache\u001b[1;34m(self, item)\u001b[0m\n\u001b[0;32m   2487\u001b[0m         \u001b[0mres\u001b[0m \u001b[1;33m=\u001b[0m \u001b[0mcache\u001b[0m\u001b[1;33m.\u001b[0m\u001b[0mget\u001b[0m\u001b[1;33m(\u001b[0m\u001b[0mitem\u001b[0m\u001b[1;33m)\u001b[0m\u001b[1;33m\u001b[0m\u001b[1;33m\u001b[0m\u001b[0m\n\u001b[0;32m   2488\u001b[0m         \u001b[1;32mif\u001b[0m \u001b[0mres\u001b[0m \u001b[1;32mis\u001b[0m \u001b[1;32mNone\u001b[0m\u001b[1;33m:\u001b[0m\u001b[1;33m\u001b[0m\u001b[1;33m\u001b[0m\u001b[0m\n\u001b[1;32m-> 2489\u001b[1;33m             \u001b[0mvalues\u001b[0m \u001b[1;33m=\u001b[0m \u001b[0mself\u001b[0m\u001b[1;33m.\u001b[0m\u001b[0m_data\u001b[0m\u001b[1;33m.\u001b[0m\u001b[0mget\u001b[0m\u001b[1;33m(\u001b[0m\u001b[0mitem\u001b[0m\u001b[1;33m)\u001b[0m\u001b[1;33m\u001b[0m\u001b[1;33m\u001b[0m\u001b[0m\n\u001b[0m\u001b[0;32m   2490\u001b[0m             \u001b[0mres\u001b[0m \u001b[1;33m=\u001b[0m \u001b[0mself\u001b[0m\u001b[1;33m.\u001b[0m\u001b[0m_box_item_values\u001b[0m\u001b[1;33m(\u001b[0m\u001b[0mitem\u001b[0m\u001b[1;33m,\u001b[0m \u001b[0mvalues\u001b[0m\u001b[1;33m)\u001b[0m\u001b[1;33m\u001b[0m\u001b[1;33m\u001b[0m\u001b[0m\n\u001b[0;32m   2491\u001b[0m             \u001b[0mcache\u001b[0m\u001b[1;33m[\u001b[0m\u001b[0mitem\u001b[0m\u001b[1;33m]\u001b[0m \u001b[1;33m=\u001b[0m \u001b[0mres\u001b[0m\u001b[1;33m\u001b[0m\u001b[1;33m\u001b[0m\u001b[0m\n",
      "\u001b[1;32m~\\Anaconda3\\lib\\site-packages\\pandas\\core\\internals.py\u001b[0m in \u001b[0;36mget\u001b[1;34m(self, item, fastpath)\u001b[0m\n\u001b[0;32m   4113\u001b[0m \u001b[1;33m\u001b[0m\u001b[0m\n\u001b[0;32m   4114\u001b[0m             \u001b[1;32mif\u001b[0m \u001b[1;32mnot\u001b[0m \u001b[0misna\u001b[0m\u001b[1;33m(\u001b[0m\u001b[0mitem\u001b[0m\u001b[1;33m)\u001b[0m\u001b[1;33m:\u001b[0m\u001b[1;33m\u001b[0m\u001b[1;33m\u001b[0m\u001b[0m\n\u001b[1;32m-> 4115\u001b[1;33m                 \u001b[0mloc\u001b[0m \u001b[1;33m=\u001b[0m \u001b[0mself\u001b[0m\u001b[1;33m.\u001b[0m\u001b[0mitems\u001b[0m\u001b[1;33m.\u001b[0m\u001b[0mget_loc\u001b[0m\u001b[1;33m(\u001b[0m\u001b[0mitem\u001b[0m\u001b[1;33m)\u001b[0m\u001b[1;33m\u001b[0m\u001b[1;33m\u001b[0m\u001b[0m\n\u001b[0m\u001b[0;32m   4116\u001b[0m             \u001b[1;32melse\u001b[0m\u001b[1;33m:\u001b[0m\u001b[1;33m\u001b[0m\u001b[1;33m\u001b[0m\u001b[0m\n\u001b[0;32m   4117\u001b[0m                 \u001b[0mindexer\u001b[0m \u001b[1;33m=\u001b[0m \u001b[0mnp\u001b[0m\u001b[1;33m.\u001b[0m\u001b[0marange\u001b[0m\u001b[1;33m(\u001b[0m\u001b[0mlen\u001b[0m\u001b[1;33m(\u001b[0m\u001b[0mself\u001b[0m\u001b[1;33m.\u001b[0m\u001b[0mitems\u001b[0m\u001b[1;33m)\u001b[0m\u001b[1;33m)\u001b[0m\u001b[1;33m[\u001b[0m\u001b[0misna\u001b[0m\u001b[1;33m(\u001b[0m\u001b[0mself\u001b[0m\u001b[1;33m.\u001b[0m\u001b[0mitems\u001b[0m\u001b[1;33m)\u001b[0m\u001b[1;33m]\u001b[0m\u001b[1;33m\u001b[0m\u001b[1;33m\u001b[0m\u001b[0m\n",
      "\u001b[1;32m~\\Anaconda3\\lib\\site-packages\\pandas\\core\\indexes\\base.py\u001b[0m in \u001b[0;36mget_loc\u001b[1;34m(self, key, method, tolerance)\u001b[0m\n\u001b[0;32m   3078\u001b[0m                 \u001b[1;32mreturn\u001b[0m \u001b[0mself\u001b[0m\u001b[1;33m.\u001b[0m\u001b[0m_engine\u001b[0m\u001b[1;33m.\u001b[0m\u001b[0mget_loc\u001b[0m\u001b[1;33m(\u001b[0m\u001b[0mkey\u001b[0m\u001b[1;33m)\u001b[0m\u001b[1;33m\u001b[0m\u001b[1;33m\u001b[0m\u001b[0m\n\u001b[0;32m   3079\u001b[0m             \u001b[1;32mexcept\u001b[0m \u001b[0mKeyError\u001b[0m\u001b[1;33m:\u001b[0m\u001b[1;33m\u001b[0m\u001b[1;33m\u001b[0m\u001b[0m\n\u001b[1;32m-> 3080\u001b[1;33m                 \u001b[1;32mreturn\u001b[0m \u001b[0mself\u001b[0m\u001b[1;33m.\u001b[0m\u001b[0m_engine\u001b[0m\u001b[1;33m.\u001b[0m\u001b[0mget_loc\u001b[0m\u001b[1;33m(\u001b[0m\u001b[0mself\u001b[0m\u001b[1;33m.\u001b[0m\u001b[0m_maybe_cast_indexer\u001b[0m\u001b[1;33m(\u001b[0m\u001b[0mkey\u001b[0m\u001b[1;33m)\u001b[0m\u001b[1;33m)\u001b[0m\u001b[1;33m\u001b[0m\u001b[1;33m\u001b[0m\u001b[0m\n\u001b[0m\u001b[0;32m   3081\u001b[0m \u001b[1;33m\u001b[0m\u001b[0m\n\u001b[0;32m   3082\u001b[0m         \u001b[0mindexer\u001b[0m \u001b[1;33m=\u001b[0m \u001b[0mself\u001b[0m\u001b[1;33m.\u001b[0m\u001b[0mget_indexer\u001b[0m\u001b[1;33m(\u001b[0m\u001b[1;33m[\u001b[0m\u001b[0mkey\u001b[0m\u001b[1;33m]\u001b[0m\u001b[1;33m,\u001b[0m \u001b[0mmethod\u001b[0m\u001b[1;33m=\u001b[0m\u001b[0mmethod\u001b[0m\u001b[1;33m,\u001b[0m \u001b[0mtolerance\u001b[0m\u001b[1;33m=\u001b[0m\u001b[0mtolerance\u001b[0m\u001b[1;33m)\u001b[0m\u001b[1;33m\u001b[0m\u001b[1;33m\u001b[0m\u001b[0m\n",
      "\u001b[1;32mpandas\\_libs\\index.pyx\u001b[0m in \u001b[0;36mpandas._libs.index.IndexEngine.get_loc\u001b[1;34m()\u001b[0m\n",
      "\u001b[1;32mpandas\\_libs\\index.pyx\u001b[0m in \u001b[0;36mpandas._libs.index.IndexEngine.get_loc\u001b[1;34m()\u001b[0m\n",
      "\u001b[1;32mpandas\\_libs\\hashtable_class_helper.pxi\u001b[0m in \u001b[0;36mpandas._libs.hashtable.PyObjectHashTable.get_item\u001b[1;34m()\u001b[0m\n",
      "\u001b[1;32mpandas\\_libs\\hashtable_class_helper.pxi\u001b[0m in \u001b[0;36mpandas._libs.hashtable.PyObjectHashTable.get_item\u001b[1;34m()\u001b[0m\n",
      "\u001b[1;31mKeyError\u001b[0m: 'trafficSource.campaignCode'"
     ]
    }
   ],
   "source": [
    "from sklearn import preprocessing\n",
    "for each in cat_columns:\n",
    "    lbl = preprocessing.LabelEncoder()\n",
    "    lbl.fit(list(df_train[each].values) + list(df_test[each].values))\n",
    "    df_train[each] = lbl.transform(list(df_train[each].values))\n",
    "    df_test[each] = lbl.transform(list(df_test[each].values))"
   ]
  },
  {
   "cell_type": "code",
   "execution_count": 25,
   "metadata": {},
   "outputs": [],
   "source": [
    "# Getting our vailidation y for scoring\n",
    "y_true = df_test['totals.totalTransactionRevenue'].fillna(0).astype(float)\n",
    "y_true = y_true.apply(lambda x: np.log1p(x))\n",
    "df_test = df_test.drop('totals.totalTransactionRevenue', axis=1)\n",
    "\n",
    "y_mean = np.mean(y)\n",
    "y_base = np.full_like(y_true, y_mean)"
   ]
  },
  {
   "cell_type": "code",
   "execution_count": 58,
   "metadata": {},
   "outputs": [],
   "source": [
    "# df_train = df_train.drop('customDimensions', axis=1)\n",
    "# df_test = df_test.drop('customDimensions', axis=1)\n",
    "# df_train = df_train.drop('totals.transactionRevenue', axis=1)\n",
    "# df_test = df_test.drop('totals.transactionRevenue', axis=1)\n",
    "df_train = df_train.drop('totals.transactions', axis=1)\n",
    "df_test = df_test.drop('totals.transactions', axis=1)"
   ]
  },
  {
   "cell_type": "code",
   "execution_count": 35,
   "metadata": {},
   "outputs": [
    {
     "data": {
      "text/plain": [
       "channelGrouping                                                   6\n",
       "date                                                       20171016\n",
       "fullVisitorId                                   8934116514970143966\n",
       "socialEngagementType                                              0\n",
       "visitId                                                  1508176307\n",
       "visitNumber                                                       6\n",
       "visitStartTime                                           1508176307\n",
       "device.browser                                                   35\n",
       "device.deviceCategory                                             0\n",
       "device.isMobile                                               False\n",
       "device.operatingSystem                                            3\n",
       "geoNetwork.city                                                 176\n",
       "geoNetwork.continent                                              2\n",
       "geoNetwork.country                                              204\n",
       "geoNetwork.metro                                                 88\n",
       "geoNetwork.networkDomain                                          0\n",
       "geoNetwork.region                                                58\n",
       "geoNetwork.subContinent                                          12\n",
       "totals.bounces                                                    0\n",
       "totals.hits                                                       2\n",
       "totals.newVisits                                                  0\n",
       "totals.pageviews                                                  2\n",
       "totals.sessionQualityDim                                          2\n",
       "totals.timeOnSite                                                28\n",
       "totals.transactionRevenue                                         0\n",
       "totals.transactions                                               0\n",
       "totals.visits                                                     1\n",
       "trafficSource.adContent                                          75\n",
       "trafficSource.adwordsClickInfo.adNetworkType                      3\n",
       "trafficSource.adwordsClickInfo.gclId                          20992\n",
       "trafficSource.adwordsClickInfo.isVideoAd                          0\n",
       "trafficSource.adwordsClickInfo.page                               8\n",
       "trafficSource.adwordsClickInfo.slot                               5\n",
       "trafficSource.campaign                                            4\n",
       "trafficSource.isTrueDirect                                        0\n",
       "trafficSource.keyword                                          1055\n",
       "trafficSource.medium                                              6\n",
       "trafficSource.referralPath                                      169\n",
       "trafficSource.source                                            240\n",
       "Name: 1, dtype: object"
      ]
     },
     "execution_count": 35,
     "metadata": {},
     "output_type": "execute_result"
    }
   ],
   "source": [
    "df_train.iloc[1]"
   ]
  },
  {
   "cell_type": "code",
   "execution_count": 27,
   "metadata": {},
   "outputs": [],
   "source": [
    "def preprocess(df):\n",
    "    df['totals.bounces'] = df['totals.bounces'].fillna(0).astype(np.float)\n",
    "    df['totals.newVisits'] = df['totals.newVisits'].fillna(0).astype(np.float)\n",
    "    df['totals.transactionRevenue'] = df['totals.transactionRevenue'].fillna(0).astype(np.float)\n",
    "    df['totals.transactions'] = df['totals.transactions'].fillna(0).astype(np.float)\n",
    "    df['trafficSource.adwordsClickInfo.isVideoAd'] = df['trafficSource.adwordsClickInfo.isVideoAd'].fillna(0).astype(np.float)\n",
    "    df['trafficSource.isTrueDirect'] = df['trafficSource.isTrueDirect'].fillna(0).astype(np.float)\n",
    "    \n",
    "    return df\n",
    "df_train = preprocess(df_train)\n",
    "df_test = preprocess(df_test)"
   ]
  },
  {
   "cell_type": "code",
   "execution_count": 28,
   "metadata": {},
   "outputs": [],
   "source": [
    "df_train = df_train.fillna(0)\n",
    "df_test = df_test.fillna(0)"
   ]
  },
  {
   "cell_type": "code",
   "execution_count": 59,
   "metadata": {},
   "outputs": [],
   "source": [
    "from sklearn import tree\n",
    "clf_tree = tree.DecisionTreeRegressor()\n",
    "clf_tree = clf_tree.fit(df_train, y)"
   ]
  },
  {
   "cell_type": "code",
   "execution_count": 60,
   "metadata": {},
   "outputs": [],
   "source": [
    "y_pred = clf_tree.predict(df_test)"
   ]
  },
  {
   "cell_type": "code",
   "execution_count": 61,
   "metadata": {},
   "outputs": [
    {
     "name": "stdout",
     "output_type": "stream",
     "text": [
      "15.820041705132427\n"
     ]
    }
   ],
   "source": [
    "print(mean_squared_error(y_true, y_pred))"
   ]
  },
  {
   "cell_type": "code",
   "execution_count": 62,
   "metadata": {},
   "outputs": [
    {
     "name": "stdout",
     "output_type": "stream",
     "text": [
      "0 778.008687333321\n",
      "1 2853.879216100523\n",
      "2 10308.48133066028\n",
      "3 0.0\n",
      "4 5720.790467907291\n",
      "5 3208.936045497525\n",
      "6 6005.543690639148\n",
      "7 859.1998978171625\n",
      "8 615.3196606186611\n",
      "9 346.1145419759292\n",
      "10 2181.4454864351915\n",
      "11 2705.165400672171\n",
      "12 31.486473298831466\n",
      "13 5876.454817035597\n",
      "14 1464.2778674916865\n",
      "15 3691.227967005558\n",
      "16 2079.7827975568603\n",
      "17 63.819229652572865\n",
      "18 0.0\n",
      "19 6148.435736402376\n",
      "20 1198.5121950450014\n",
      "21 21320.595038232063\n",
      "22 3486.3045436995426\n",
      "23 12559.34948622865\n",
      "24 0.0\n",
      "25 51.754221373627644\n",
      "26 43.06606526006061\n",
      "27 469.658466991134\n",
      "28 0.0\n",
      "29 111.87443239015424\n",
      "30 58.04798557525869\n",
      "31 189.01338998579953\n",
      "32 1074.0088140527162\n",
      "33 703.3845395620833\n",
      "34 525.0331164301982\n",
      "35 2892.95266789783\n",
      "36 378.07572317517986\n",
      "----------\n",
      "0 channelGrouping\n",
      "1 date\n",
      "2 fullVisitorId\n",
      "3 socialEngagementType\n",
      "4 visitId\n",
      "5 visitNumber\n",
      "6 visitStartTime\n",
      "7 device.browser\n",
      "8 device.deviceCategory\n",
      "9 device.isMobile\n",
      "10 device.operatingSystem\n",
      "11 geoNetwork.city\n",
      "12 geoNetwork.continent\n",
      "13 geoNetwork.country\n",
      "14 geoNetwork.metro\n",
      "15 geoNetwork.networkDomain\n",
      "16 geoNetwork.region\n",
      "17 geoNetwork.subContinent\n",
      "18 totals.bounces\n",
      "19 totals.hits\n",
      "20 totals.newVisits\n",
      "21 totals.pageviews\n",
      "22 totals.sessionQualityDim\n",
      "23 totals.timeOnSite\n",
      "24 totals.visits\n",
      "25 trafficSource.adContent\n",
      "26 trafficSource.adwordsClickInfo.adNetworkType\n",
      "27 trafficSource.adwordsClickInfo.gclId\n",
      "28 trafficSource.adwordsClickInfo.isVideoAd\n",
      "29 trafficSource.adwordsClickInfo.page\n",
      "30 trafficSource.adwordsClickInfo.slot\n",
      "31 trafficSource.campaign\n",
      "32 trafficSource.isTrueDirect\n",
      "33 trafficSource.keyword\n",
      "34 trafficSource.medium\n",
      "35 trafficSource.referralPath\n",
      "36 trafficSource.source\n"
     ]
    }
   ],
   "source": [
    "for idx, each in enumerate(clf_tree.feature_importances_):\n",
    "    print(idx, each*1e5)\n",
    "\n",
    "print('-'*10)\n",
    "\n",
    "for idx, each in enumerate(df_train.columns):\n",
    "    print(idx, each)"
   ]
  },
  {
   "cell_type": "code",
   "execution_count": 67,
   "metadata": {},
   "outputs": [
    {
     "data": {
      "image/png": "[encoded data removed]",
      "text/plain": [
       "<Figure size 1332x756 with 1 Axes>"
      ]
     },
     "metadata": {
      "needs_background": "light"
     },
     "output_type": "display_data"
    }
   ],
   "source": [
    "import matplotlib.pyplot as plt\n",
    "%matplotlib inline\n",
    "\n",
    "fig = plt.gcf()\n",
    "fig.set_size_inches(18.5, 10.5)\n",
    "\n",
    "features = df_train.columns\n",
    "importances = clf_tree.feature_importances_\n",
    "indices = np.argsort(importances)\n",
    "\n",
    "plt.title('Feature Importances')\n",
    "plt.barh(range(len(indices)), importances[indices], color='b', align='center')\n",
    "plt.yticks(range(len(indices)), [features[i] for i in indices])\n",
    "plt.xlabel('Relative Importance')\n",
    "plt.show()"
   ]
  },
  {
   "cell_type": "code",
   "execution_count": null,
   "metadata": {},
   "outputs": [],
   "source": []
  }
 ],
 "metadata": {
  "kernelspec": {
   "display_name": "Python 3",
   "language": "python",
   "name": "python3"
  },
  "language_info": {
   "codemirror_mode": {
    "name": "ipython",
    "version": 3
   },
   "file_extension": ".py",
   "mimetype": "text/x-python",
   "name": "python",
   "nbconvert_exporter": "python",
   "pygments_lexer": "ipython3",
   "version": "3.7.1"
  }
 },
 "nbformat": 4,
 "nbformat_minor": 2
}
